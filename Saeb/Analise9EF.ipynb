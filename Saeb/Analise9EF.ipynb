{
 "cells": [
  {
   "cell_type": "markdown",
   "metadata": {},
   "source": [
    "## <font color=\"FF8C00\"> **QUESTÃO DE PESQUISA**: </font>\n",
    "\n",
    "#### <font color=\"FFDEAD\"> QUAIS SÃO OS FATORES QUE ESTÃO MAIS ASSOCIADOS AO DESEMPENHO ESCOLAR EM MATEMÁTICA DOS ALUNOS DO 9º ANO DO ENISNO FUNDAMENTAL, DE ESCOLAS BRASILEIRAS, BASEADO NOS DADOS DO SAEB 2019?</font>"
   ]
  },
  {
   "cell_type": "code",
   "execution_count": 44,
   "metadata": {},
   "outputs": [],
   "source": [
    "# A melhor forma de encontrar os fatores\n",
    "# Uma abordagem ou uma metodologia para abordar os fatores\n",
    "# Teste de associação (qui-quadrado)\n",
    "# Comece com a correlação: pearson, spearman, kendall e crammer (categorico)... "
   ]
  },
  {
   "cell_type": "code",
   "execution_count": 45,
   "metadata": {},
   "outputs": [],
   "source": [
    "import pandas as pd\n",
    "import numpy as np\n",
    "import seaborn as sns\n",
    "import matplotlib.pyplot as plt"
   ]
  },
  {
   "cell_type": "markdown",
   "metadata": {},
   "source": [
    "## Alunos"
   ]
  },
  {
   "cell_type": "code",
   "execution_count": 46,
   "metadata": {},
   "outputs": [],
   "source": [
    "#alunos = pd.read_csv(\"TS_ALUNO_9EF.csv\")\n",
    "#alunos.shape"
   ]
  },
  {
   "cell_type": "code",
   "execution_count": 47,
   "metadata": {},
   "outputs": [],
   "source": [
    "#alunos.head()"
   ]
  },
  {
   "cell_type": "markdown",
   "metadata": {},
   "source": [
    "## Professores"
   ]
  },
  {
   "cell_type": "code",
   "execution_count": 48,
   "metadata": {},
   "outputs": [],
   "source": [
    "#profe = pd.read_csv(\"TS_PROFESSOR.csv\")\n",
    "#profe.shape"
   ]
  },
  {
   "cell_type": "code",
   "execution_count": 49,
   "metadata": {},
   "outputs": [],
   "source": [
    "#profe.head()"
   ]
  },
  {
   "cell_type": "markdown",
   "metadata": {},
   "source": [
    "## Diretores"
   ]
  },
  {
   "cell_type": "code",
   "execution_count": 50,
   "metadata": {},
   "outputs": [],
   "source": [
    "# ID_REGIAO (NUM) Código da Região [1- Norte, 2 - Nordeste, 3 - Sudeste, 4 - Sul, 5 - Centro-Oeste]\n",
    "# ID_UF (NUM) [11-RO, 12-AC, 13-AM, 14-RR, 15-PA, 16-AP, 17-TO, 21-MA, 22-PI, 23-CE, 24-RN, 25-PB, 26-PE, 27-AL, 28-SE, 29-BA, 31-MG, 32-ES, 33-RJ, 35-SP, 41-PR, 42-SC, 43-RS, 50-MS, 51-MT, 52-GO, 53-DF]\n",
    "# ID_MUNICIPIO (NUM) Código do Município\n",
    "# ID_AREA (NUM) [1 - Capital, 2 - Interior] Área\n",
    "# ID_ESCOLA (NUM) Código da Escola\n",
    "# ID_DEPENDENCIA_ADM (NUM) Dependência Administrativa [1 - Federal, 2 - Estadual, 3 - Municipal, 4 - Privada]\n",
    "# ID_LOCALIZACAO (NUM) Localização [1 - Urbana, 2 - Rural]\n",
    "# IN_PREENCHIMENTO_QUESTIONARIO (NUM) Indicador de preenchimento do questionário [0 - Não Preenchido, 1 - Preenchido Parcial ou Totalmente]\n",
    "\n",
    "# 1 - Informações dos Diretores\n",
    "# TX_RESP_Q001 (CHAR) Qual é a sua cor ou raça? [a,b,c,d,e,f]\n",
    "# TX_RESP_Q002 (NUM) Por quanto tempo você trabalhou como professor(a) antes de se tornar diretor(a)? Anos (Regra de Validação: Q002 >= 0 e Q002 <= 35)\n",
    "# TX_RESP_Q004 (NUM) Você possui quanto tempo de experiência como diretor(a) de escola? Anos (Regra de Validação: Q004 >= 0 e Q004 <= 35)\n",
    "# TX_RESP_Q009 (NUM) Quantas horas você trabalha em uma semana normal em atividades relacionadas à educação?(Regra de Validação: Q009 >= 0 e Q009 <= 70)\n",
    "# TX_RESP_Q012 (NUM) Em uma semana normal de trabalho, quantas horas você costuma gastar, aproximadamente, com as seguintes atividades para esta escola: Reunião com professores(as) (Regra de Validação: Q012 >= 0 e Q012 <= 20)\n",
    "# TX_RESP_Q013 (NUM) Em uma semana normal de trabalho, quantas horas você costuma gastar, aproximadamente, com as seguintes atividades para esta escola: Atendimento aos pais ou responsáveis (Regra de Validação: Q013 >= 0 e Q013 <= 30) OK\n",
    "# TX_RESP_Q015 (NUM) Em uma semana normal de trabalho, quantas horas você costuma gastar, aproximadamente, com as seguintes atividades para esta escola: Atendimento aos(às) alunos(as) (Regra de Validação: Q015 >= 0 e Q015 <= 30)\n",
    "\n",
    "# 5 - Gestão Pedagógica\n",
    "# TX_RESP_Q158 (CHAR) A escola possui Projeto Político-Pedagógico? [a,b]\n",
    "# TX_RESP_Q163 (CHAR) Estabelece metas de aprendizagem? (Regra de Dependência: somente será preenchida caso Q158 seja igual a \"A\") [a,b]\n",
    "\n",
    "# TX_RESP_Q224 (CHAR) Indique se neste ano a escola ofereceu atividades de formação nas seguintes áreas: Avaliação da aprendizagem. [a,b]\n",
    "# TX_RESP_Q225 (CHAR) Indique se neste ano a escola ofereceu atividades de formação nas seguintes áreas: Avaliação em larga escala. [a,b]\n"
   ]
  },
  {
   "cell_type": "code",
   "execution_count": 51,
   "metadata": {},
   "outputs": [
    {
     "data": {
      "text/plain": [
       "(74176, 10)"
      ]
     },
     "execution_count": 51,
     "metadata": {},
     "output_type": "execute_result"
    }
   ],
   "source": [
    "dir = pd.read_csv(\"TS_DIRETOR.csv\")\n",
    "dir = dir.loc[:, [\"ID_ESCOLA\", \"TX_RESP_Q002\", \"TX_RESP_Q004\", \"TX_RESP_Q009\", \"TX_RESP_Q012\", \"TX_RESP_Q013\", \"TX_RESP_Q158\", \"TX_RESP_Q163\", \"TX_RESP_Q224\", \"TX_RESP_Q225\"]]\n",
    "dir.shape"
   ]
  },
  {
   "cell_type": "code",
   "execution_count": 52,
   "metadata": {},
   "outputs": [
    {
     "data": {
      "text/html": [
       "<div>\n",
       "<style scoped>\n",
       "    .dataframe tbody tr th:only-of-type {\n",
       "        vertical-align: middle;\n",
       "    }\n",
       "\n",
       "    .dataframe tbody tr th {\n",
       "        vertical-align: top;\n",
       "    }\n",
       "\n",
       "    .dataframe thead th {\n",
       "        text-align: right;\n",
       "    }\n",
       "</style>\n",
       "<table border=\"1\" class=\"dataframe\">\n",
       "  <thead>\n",
       "    <tr style=\"text-align: right;\">\n",
       "      <th></th>\n",
       "      <th>ID_ESCOLA</th>\n",
       "      <th>TX_RESP_Q002</th>\n",
       "      <th>TX_RESP_Q004</th>\n",
       "      <th>TX_RESP_Q009</th>\n",
       "      <th>TX_RESP_Q012</th>\n",
       "      <th>TX_RESP_Q013</th>\n",
       "      <th>TX_RESP_Q158</th>\n",
       "      <th>TX_RESP_Q163</th>\n",
       "      <th>TX_RESP_Q224</th>\n",
       "      <th>TX_RESP_Q225</th>\n",
       "    </tr>\n",
       "  </thead>\n",
       "  <tbody>\n",
       "    <tr>\n",
       "      <th>0</th>\n",
       "      <td>11024666</td>\n",
       "      <td>18.0</td>\n",
       "      <td>0.0</td>\n",
       "      <td>40.0</td>\n",
       "      <td>2.0</td>\n",
       "      <td>2.0</td>\n",
       "      <td>A</td>\n",
       "      <td>A</td>\n",
       "      <td>A</td>\n",
       "      <td>B</td>\n",
       "    </tr>\n",
       "    <tr>\n",
       "      <th>1</th>\n",
       "      <td>11024682</td>\n",
       "      <td>14.0</td>\n",
       "      <td>11.0</td>\n",
       "      <td>50.0</td>\n",
       "      <td>2.0</td>\n",
       "      <td>10.0</td>\n",
       "      <td>A</td>\n",
       "      <td>A</td>\n",
       "      <td>A</td>\n",
       "      <td>A</td>\n",
       "    </tr>\n",
       "    <tr>\n",
       "      <th>2</th>\n",
       "      <td>11024828</td>\n",
       "      <td>5.0</td>\n",
       "      <td>4.0</td>\n",
       "      <td>40.0</td>\n",
       "      <td>2.0</td>\n",
       "      <td>2.0</td>\n",
       "      <td>A</td>\n",
       "      <td>A</td>\n",
       "      <td>A</td>\n",
       "      <td>A</td>\n",
       "    </tr>\n",
       "    <tr>\n",
       "      <th>3</th>\n",
       "      <td>11024968</td>\n",
       "      <td>5.0</td>\n",
       "      <td>0.0</td>\n",
       "      <td>40.0</td>\n",
       "      <td>2.0</td>\n",
       "      <td>4.0</td>\n",
       "      <td>A</td>\n",
       "      <td>A</td>\n",
       "      <td>A</td>\n",
       "      <td>A</td>\n",
       "    </tr>\n",
       "    <tr>\n",
       "      <th>4</th>\n",
       "      <td>11025077</td>\n",
       "      <td>9.0</td>\n",
       "      <td>NaN</td>\n",
       "      <td>40.0</td>\n",
       "      <td>2.0</td>\n",
       "      <td>4.0</td>\n",
       "      <td>A</td>\n",
       "      <td>A</td>\n",
       "      <td>B</td>\n",
       "      <td>B</td>\n",
       "    </tr>\n",
       "  </tbody>\n",
       "</table>\n",
       "</div>"
      ],
      "text/plain": [
       "   ID_ESCOLA  TX_RESP_Q002  TX_RESP_Q004  TX_RESP_Q009  TX_RESP_Q012  \\\n",
       "0   11024666          18.0           0.0          40.0           2.0   \n",
       "1   11024682          14.0          11.0          50.0           2.0   \n",
       "2   11024828           5.0           4.0          40.0           2.0   \n",
       "3   11024968           5.0           0.0          40.0           2.0   \n",
       "4   11025077           9.0           NaN          40.0           2.0   \n",
       "\n",
       "   TX_RESP_Q013 TX_RESP_Q158 TX_RESP_Q163 TX_RESP_Q224 TX_RESP_Q225  \n",
       "0           2.0            A            A            A            B  \n",
       "1          10.0            A            A            A            A  \n",
       "2           2.0            A            A            A            A  \n",
       "3           4.0            A            A            A            A  \n",
       "4           4.0            A            A            B            B  "
      ]
     },
     "execution_count": 52,
     "metadata": {},
     "output_type": "execute_result"
    }
   ],
   "source": [
    "dir.head()"
   ]
  },
  {
   "cell_type": "markdown",
   "metadata": {},
   "source": [
    "## Escolas"
   ]
  },
  {
   "cell_type": "code",
   "execution_count": 53,
   "metadata": {},
   "outputs": [],
   "source": [
    "# ID_REGIAO (NUM) Código da Região [1- Norte, 2 - Nordeste, 3 - Sudeste, 4 - Sul, 5 - Centro-Oeste]\n",
    "# ID_UF (NUM) [11-RO, 12-AC, 13-AM, 14-RR, 15-PA, 16-AP, 17-TO, 21-MA, 22-PI, 23-CE, 24-RN, 25-PB, 26-PE, 27-AL, 28-SE, 29-BA, 31-MG, 32-ES, 33-RJ, 35-SP, 41-PR, 42-SC, 43-RS, 50-MS, 51-MT, 52-GO, 53-DF]\n",
    "# ID_MUNICIPIO (NUM) Código do Município\n",
    "# ID_AREA (NUM) [1 - Capital, 2 - Interior] Área\n",
    "# ID_ESCOLA (NUM) Código da Escola\n",
    "\n",
    "\n",
    "# ID_DEPENDENCIA_ADM (NUM) Dependência Administrativa [1 - Federal, 2 - Estadual, 3 - Municipal, 4 - Privada]\n",
    "# ID_LOCALIZACAO (NUM) Localização [1 - Urbana, 2 - Rural]\n",
    "# PC_FORMACAO_DOCENTE_FINAL (NUM) Indicador de Adequação da Formação Docente (Informação referente ao Grupo 1, para os Anos Finais do EF)\n",
    "# NIVEL_SOCIO_ECONOMICO (CHAR) Indicador de Nível Socioeconômico (Inse) [Nivel I, Nivel II, Nivel III, Nivel VI, Nivel V, Nivel VI, Nivel VII]\n",
    "\n",
    "# Nivel_0_LP9 (NUM) (0, 200)\n",
    "# Nivel_1_LP9 (NUM) (200, 225)\n",
    "# Nivel_2_LP9 (NUM) (225, 250)\n",
    "# Nivel_3_LP9 (NUM) (250, 275)\n",
    "# Nivel_4_LP9 (NUM) (275, 300)\n",
    "# Nivel_5_LP9 (NUM) (300, 325)\n",
    "# Nivel_6_LP9 (NUM) (325, 350)\n",
    "# Nivel_7_LP9 (NUM) (350, 375)\n",
    "# Nivel_8_LP9 (NUM) (375, +)\n",
    "# Nivel_0_MT9 (NUM) (0, 200)\n",
    "# Nivel_1_MT9 (NUM) (200, 225)\n",
    "# Nivel_2_MT9 (NUM) (225, 250)\n",
    "# Nivel_3_MT9 (NUM) (250, 275)\n",
    "# Nivel_4_MT9 (NUM) (275, 300)\n",
    "# Nivel_5_MT9 (NUM) (300, 325)\n",
    "# Nivel_6_MT9 (NUM) (325, 350)\n",
    "# Nivel_7_MT9 (NUM) (350, 375)\n",
    "# Nivel_8_MT9 (NUM) (375, 400)\n",
    "# Nivel_9_MT9 (NUM) (400, +)\n",
    "\n",
    "# MEDIA_9EF_LP (NUM) Média em Língua Portuguesa 9º ano\n",
    "# MEDIA_9EF_MT (NUM) Média em Matemática 9º ano\n",
    " "
   ]
  },
  {
   "cell_type": "code",
   "execution_count": 54,
   "metadata": {},
   "outputs": [
    {
     "data": {
      "text/plain": [
       "(70606, 5)"
      ]
     },
     "execution_count": 54,
     "metadata": {},
     "output_type": "execute_result"
    }
   ],
   "source": [
    "esc = pd.read_csv(\"TS_ESCOLA.csv\", encoding = \"ISO-8859-1\", engine='python')\n",
    "esc = esc.loc[:, [\"ID_ESCOLA\", \"ID_DEPENDENCIA_ADM\", \"NIVEL_SOCIO_ECONOMICO\", \"MEDIA_9EF_LP\", \"MEDIA_9EF_MT\"]]\n",
    "esc.shape"
   ]
  },
  {
   "cell_type": "code",
   "execution_count": 55,
   "metadata": {},
   "outputs": [
    {
     "data": {
      "text/html": [
       "<div>\n",
       "<style scoped>\n",
       "    .dataframe tbody tr th:only-of-type {\n",
       "        vertical-align: middle;\n",
       "    }\n",
       "\n",
       "    .dataframe tbody tr th {\n",
       "        vertical-align: top;\n",
       "    }\n",
       "\n",
       "    .dataframe thead th {\n",
       "        text-align: right;\n",
       "    }\n",
       "</style>\n",
       "<table border=\"1\" class=\"dataframe\">\n",
       "  <thead>\n",
       "    <tr style=\"text-align: right;\">\n",
       "      <th></th>\n",
       "      <th>ID_ESCOLA</th>\n",
       "      <th>ID_DEPENDENCIA_ADM</th>\n",
       "      <th>NIVEL_SOCIO_ECONOMICO</th>\n",
       "      <th>MEDIA_9EF_LP</th>\n",
       "      <th>MEDIA_9EF_MT</th>\n",
       "    </tr>\n",
       "  </thead>\n",
       "  <tbody>\n",
       "    <tr>\n",
       "      <th>0</th>\n",
       "      <td>11024666</td>\n",
       "      <td>3</td>\n",
       "      <td>Nível IV</td>\n",
       "      <td>NaN</td>\n",
       "      <td>NaN</td>\n",
       "    </tr>\n",
       "    <tr>\n",
       "      <th>1</th>\n",
       "      <td>11024682</td>\n",
       "      <td>2</td>\n",
       "      <td>Nível IV</td>\n",
       "      <td>NaN</td>\n",
       "      <td>NaN</td>\n",
       "    </tr>\n",
       "    <tr>\n",
       "      <th>2</th>\n",
       "      <td>11024828</td>\n",
       "      <td>3</td>\n",
       "      <td>Nível IV</td>\n",
       "      <td>239.76</td>\n",
       "      <td>244.94</td>\n",
       "    </tr>\n",
       "    <tr>\n",
       "      <th>3</th>\n",
       "      <td>11024968</td>\n",
       "      <td>2</td>\n",
       "      <td>Nível IV</td>\n",
       "      <td>NaN</td>\n",
       "      <td>NaN</td>\n",
       "    </tr>\n",
       "    <tr>\n",
       "      <th>4</th>\n",
       "      <td>11025077</td>\n",
       "      <td>3</td>\n",
       "      <td>Nível IV</td>\n",
       "      <td>NaN</td>\n",
       "      <td>NaN</td>\n",
       "    </tr>\n",
       "  </tbody>\n",
       "</table>\n",
       "</div>"
      ],
      "text/plain": [
       "   ID_ESCOLA  ID_DEPENDENCIA_ADM NIVEL_SOCIO_ECONOMICO  MEDIA_9EF_LP  \\\n",
       "0   11024666                   3              Nível IV           NaN   \n",
       "1   11024682                   2              Nível IV           NaN   \n",
       "2   11024828                   3              Nível IV        239.76   \n",
       "3   11024968                   2              Nível IV           NaN   \n",
       "4   11025077                   3              Nível IV           NaN   \n",
       "\n",
       "   MEDIA_9EF_MT  \n",
       "0           NaN  \n",
       "1           NaN  \n",
       "2        244.94  \n",
       "3           NaN  \n",
       "4           NaN  "
      ]
     },
     "execution_count": 55,
     "metadata": {},
     "output_type": "execute_result"
    }
   ],
   "source": [
    "esc.head()"
   ]
  },
  {
   "cell_type": "markdown",
   "metadata": {},
   "source": [
    "## Juntando Dataset de Diretores e Escolas"
   ]
  },
  {
   "cell_type": "code",
   "execution_count": 56,
   "metadata": {},
   "outputs": [
    {
     "data": {
      "text/plain": [
       "(71448, 14)"
      ]
     },
     "execution_count": 56,
     "metadata": {},
     "output_type": "execute_result"
    }
   ],
   "source": [
    "diresc = pd.merge(dir, esc, how = 'inner', on = 'ID_ESCOLA')\n",
    "diresc.shape"
   ]
  },
  {
   "cell_type": "code",
   "execution_count": 57,
   "metadata": {},
   "outputs": [
    {
     "data": {
      "text/html": [
       "<div>\n",
       "<style scoped>\n",
       "    .dataframe tbody tr th:only-of-type {\n",
       "        vertical-align: middle;\n",
       "    }\n",
       "\n",
       "    .dataframe tbody tr th {\n",
       "        vertical-align: top;\n",
       "    }\n",
       "\n",
       "    .dataframe thead th {\n",
       "        text-align: right;\n",
       "    }\n",
       "</style>\n",
       "<table border=\"1\" class=\"dataframe\">\n",
       "  <thead>\n",
       "    <tr style=\"text-align: right;\">\n",
       "      <th></th>\n",
       "      <th>ID_ESCOLA</th>\n",
       "      <th>TX_RESP_Q002</th>\n",
       "      <th>TX_RESP_Q004</th>\n",
       "      <th>TX_RESP_Q009</th>\n",
       "      <th>TX_RESP_Q012</th>\n",
       "      <th>TX_RESP_Q013</th>\n",
       "      <th>TX_RESP_Q158</th>\n",
       "      <th>TX_RESP_Q163</th>\n",
       "      <th>TX_RESP_Q224</th>\n",
       "      <th>TX_RESP_Q225</th>\n",
       "      <th>ID_DEPENDENCIA_ADM</th>\n",
       "      <th>NIVEL_SOCIO_ECONOMICO</th>\n",
       "      <th>MEDIA_9EF_LP</th>\n",
       "      <th>MEDIA_9EF_MT</th>\n",
       "    </tr>\n",
       "  </thead>\n",
       "  <tbody>\n",
       "    <tr>\n",
       "      <th>0</th>\n",
       "      <td>11024666</td>\n",
       "      <td>18.0</td>\n",
       "      <td>0.0</td>\n",
       "      <td>40.0</td>\n",
       "      <td>2.0</td>\n",
       "      <td>2.0</td>\n",
       "      <td>A</td>\n",
       "      <td>A</td>\n",
       "      <td>A</td>\n",
       "      <td>B</td>\n",
       "      <td>3</td>\n",
       "      <td>Nível IV</td>\n",
       "      <td>NaN</td>\n",
       "      <td>NaN</td>\n",
       "    </tr>\n",
       "    <tr>\n",
       "      <th>1</th>\n",
       "      <td>11024682</td>\n",
       "      <td>14.0</td>\n",
       "      <td>11.0</td>\n",
       "      <td>50.0</td>\n",
       "      <td>2.0</td>\n",
       "      <td>10.0</td>\n",
       "      <td>A</td>\n",
       "      <td>A</td>\n",
       "      <td>A</td>\n",
       "      <td>A</td>\n",
       "      <td>2</td>\n",
       "      <td>Nível IV</td>\n",
       "      <td>NaN</td>\n",
       "      <td>NaN</td>\n",
       "    </tr>\n",
       "    <tr>\n",
       "      <th>2</th>\n",
       "      <td>11024828</td>\n",
       "      <td>5.0</td>\n",
       "      <td>4.0</td>\n",
       "      <td>40.0</td>\n",
       "      <td>2.0</td>\n",
       "      <td>2.0</td>\n",
       "      <td>A</td>\n",
       "      <td>A</td>\n",
       "      <td>A</td>\n",
       "      <td>A</td>\n",
       "      <td>3</td>\n",
       "      <td>Nível IV</td>\n",
       "      <td>239.76</td>\n",
       "      <td>244.94</td>\n",
       "    </tr>\n",
       "    <tr>\n",
       "      <th>3</th>\n",
       "      <td>11024968</td>\n",
       "      <td>5.0</td>\n",
       "      <td>0.0</td>\n",
       "      <td>40.0</td>\n",
       "      <td>2.0</td>\n",
       "      <td>4.0</td>\n",
       "      <td>A</td>\n",
       "      <td>A</td>\n",
       "      <td>A</td>\n",
       "      <td>A</td>\n",
       "      <td>2</td>\n",
       "      <td>Nível IV</td>\n",
       "      <td>NaN</td>\n",
       "      <td>NaN</td>\n",
       "    </tr>\n",
       "    <tr>\n",
       "      <th>4</th>\n",
       "      <td>11025077</td>\n",
       "      <td>9.0</td>\n",
       "      <td>NaN</td>\n",
       "      <td>40.0</td>\n",
       "      <td>2.0</td>\n",
       "      <td>4.0</td>\n",
       "      <td>A</td>\n",
       "      <td>A</td>\n",
       "      <td>B</td>\n",
       "      <td>B</td>\n",
       "      <td>3</td>\n",
       "      <td>Nível IV</td>\n",
       "      <td>NaN</td>\n",
       "      <td>NaN</td>\n",
       "    </tr>\n",
       "  </tbody>\n",
       "</table>\n",
       "</div>"
      ],
      "text/plain": [
       "   ID_ESCOLA  TX_RESP_Q002  TX_RESP_Q004  TX_RESP_Q009  TX_RESP_Q012  \\\n",
       "0   11024666          18.0           0.0          40.0           2.0   \n",
       "1   11024682          14.0          11.0          50.0           2.0   \n",
       "2   11024828           5.0           4.0          40.0           2.0   \n",
       "3   11024968           5.0           0.0          40.0           2.0   \n",
       "4   11025077           9.0           NaN          40.0           2.0   \n",
       "\n",
       "   TX_RESP_Q013 TX_RESP_Q158 TX_RESP_Q163 TX_RESP_Q224 TX_RESP_Q225  \\\n",
       "0           2.0            A            A            A            B   \n",
       "1          10.0            A            A            A            A   \n",
       "2           2.0            A            A            A            A   \n",
       "3           4.0            A            A            A            A   \n",
       "4           4.0            A            A            B            B   \n",
       "\n",
       "   ID_DEPENDENCIA_ADM NIVEL_SOCIO_ECONOMICO  MEDIA_9EF_LP  MEDIA_9EF_MT  \n",
       "0                   3              Nível IV           NaN           NaN  \n",
       "1                   2              Nível IV           NaN           NaN  \n",
       "2                   3              Nível IV        239.76        244.94  \n",
       "3                   2              Nível IV           NaN           NaN  \n",
       "4                   3              Nível IV           NaN           NaN  "
      ]
     },
     "execution_count": 57,
     "metadata": {},
     "output_type": "execute_result"
    }
   ],
   "source": [
    "diresc.head()"
   ]
  },
  {
   "cell_type": "code",
   "execution_count": 58,
   "metadata": {},
   "outputs": [
    {
     "data": {
      "text/html": [
       "<div>\n",
       "<style scoped>\n",
       "    .dataframe tbody tr th:only-of-type {\n",
       "        vertical-align: middle;\n",
       "    }\n",
       "\n",
       "    .dataframe tbody tr th {\n",
       "        vertical-align: top;\n",
       "    }\n",
       "\n",
       "    .dataframe thead th {\n",
       "        text-align: right;\n",
       "    }\n",
       "</style>\n",
       "<table border=\"1\" class=\"dataframe\">\n",
       "  <thead>\n",
       "    <tr style=\"text-align: right;\">\n",
       "      <th></th>\n",
       "      <th>ID_ESCOLA</th>\n",
       "      <th>TX_RESP_Q002</th>\n",
       "      <th>TX_RESP_Q004</th>\n",
       "      <th>TX_RESP_Q009</th>\n",
       "      <th>TX_RESP_Q012</th>\n",
       "      <th>TX_RESP_Q013</th>\n",
       "      <th>ID_DEPENDENCIA_ADM</th>\n",
       "      <th>MEDIA_9EF_LP</th>\n",
       "      <th>MEDIA_9EF_MT</th>\n",
       "    </tr>\n",
       "  </thead>\n",
       "  <tbody>\n",
       "    <tr>\n",
       "      <th>count</th>\n",
       "      <td>7.144800e+04</td>\n",
       "      <td>63619.000000</td>\n",
       "      <td>60355.000000</td>\n",
       "      <td>62161.000000</td>\n",
       "      <td>63571.000000</td>\n",
       "      <td>63015.000000</td>\n",
       "      <td>71448.000000</td>\n",
       "      <td>30123.000000</td>\n",
       "      <td>30123.000000</td>\n",
       "    </tr>\n",
       "    <tr>\n",
       "      <th>mean</th>\n",
       "      <td>3.445145e+07</td>\n",
       "      <td>13.868011</td>\n",
       "      <td>6.382056</td>\n",
       "      <td>42.960216</td>\n",
       "      <td>3.654119</td>\n",
       "      <td>5.462509</td>\n",
       "      <td>2.616952</td>\n",
       "      <td>252.720845</td>\n",
       "      <td>255.237052</td>\n",
       "    </tr>\n",
       "    <tr>\n",
       "      <th>std</th>\n",
       "      <td>1.318977e+07</td>\n",
       "      <td>7.425015</td>\n",
       "      <td>5.789504</td>\n",
       "      <td>11.476747</td>\n",
       "      <td>2.655558</td>\n",
       "      <td>4.403569</td>\n",
       "      <td>0.501300</td>\n",
       "      <td>21.533358</td>\n",
       "      <td>23.734642</td>\n",
       "    </tr>\n",
       "    <tr>\n",
       "      <th>min</th>\n",
       "      <td>1.100020e+07</td>\n",
       "      <td>0.000000</td>\n",
       "      <td>0.000000</td>\n",
       "      <td>0.000000</td>\n",
       "      <td>0.000000</td>\n",
       "      <td>0.000000</td>\n",
       "      <td>1.000000</td>\n",
       "      <td>150.720000</td>\n",
       "      <td>152.880000</td>\n",
       "    </tr>\n",
       "    <tr>\n",
       "      <th>25%</th>\n",
       "      <td>2.509222e+07</td>\n",
       "      <td>8.000000</td>\n",
       "      <td>2.000000</td>\n",
       "      <td>40.000000</td>\n",
       "      <td>2.000000</td>\n",
       "      <td>3.000000</td>\n",
       "      <td>2.000000</td>\n",
       "      <td>239.110000</td>\n",
       "      <td>240.130000</td>\n",
       "    </tr>\n",
       "    <tr>\n",
       "      <th>50%</th>\n",
       "      <td>3.203256e+07</td>\n",
       "      <td>14.000000</td>\n",
       "      <td>5.000000</td>\n",
       "      <td>40.000000</td>\n",
       "      <td>3.000000</td>\n",
       "      <td>4.000000</td>\n",
       "      <td>3.000000</td>\n",
       "      <td>253.700000</td>\n",
       "      <td>255.220000</td>\n",
       "    </tr>\n",
       "    <tr>\n",
       "      <th>75%</th>\n",
       "      <td>4.137217e+07</td>\n",
       "      <td>19.000000</td>\n",
       "      <td>9.000000</td>\n",
       "      <td>50.000000</td>\n",
       "      <td>4.000000</td>\n",
       "      <td>6.000000</td>\n",
       "      <td>3.000000</td>\n",
       "      <td>266.980000</td>\n",
       "      <td>270.155000</td>\n",
       "    </tr>\n",
       "    <tr>\n",
       "      <th>max</th>\n",
       "      <td>6.132367e+07</td>\n",
       "      <td>35.000000</td>\n",
       "      <td>35.000000</td>\n",
       "      <td>70.000000</td>\n",
       "      <td>20.000000</td>\n",
       "      <td>30.000000</td>\n",
       "      <td>3.000000</td>\n",
       "      <td>356.010000</td>\n",
       "      <td>373.220000</td>\n",
       "    </tr>\n",
       "  </tbody>\n",
       "</table>\n",
       "</div>"
      ],
      "text/plain": [
       "          ID_ESCOLA  TX_RESP_Q002  TX_RESP_Q004  TX_RESP_Q009  TX_RESP_Q012  \\\n",
       "count  7.144800e+04  63619.000000  60355.000000  62161.000000  63571.000000   \n",
       "mean   3.445145e+07     13.868011      6.382056     42.960216      3.654119   \n",
       "std    1.318977e+07      7.425015      5.789504     11.476747      2.655558   \n",
       "min    1.100020e+07      0.000000      0.000000      0.000000      0.000000   \n",
       "25%    2.509222e+07      8.000000      2.000000     40.000000      2.000000   \n",
       "50%    3.203256e+07     14.000000      5.000000     40.000000      3.000000   \n",
       "75%    4.137217e+07     19.000000      9.000000     50.000000      4.000000   \n",
       "max    6.132367e+07     35.000000     35.000000     70.000000     20.000000   \n",
       "\n",
       "       TX_RESP_Q013  ID_DEPENDENCIA_ADM  MEDIA_9EF_LP  MEDIA_9EF_MT  \n",
       "count  63015.000000        71448.000000  30123.000000  30123.000000  \n",
       "mean       5.462509            2.616952    252.720845    255.237052  \n",
       "std        4.403569            0.501300     21.533358     23.734642  \n",
       "min        0.000000            1.000000    150.720000    152.880000  \n",
       "25%        3.000000            2.000000    239.110000    240.130000  \n",
       "50%        4.000000            3.000000    253.700000    255.220000  \n",
       "75%        6.000000            3.000000    266.980000    270.155000  \n",
       "max       30.000000            3.000000    356.010000    373.220000  "
      ]
     },
     "execution_count": 58,
     "metadata": {},
     "output_type": "execute_result"
    }
   ],
   "source": [
    "diresc.describe()"
   ]
  },
  {
   "cell_type": "code",
   "execution_count": 59,
   "metadata": {},
   "outputs": [],
   "source": [
    "diresc = diresc.replace(\"*\", np.nan)\n",
    "diresc = diresc.replace(\".\", np.nan)\n",
    "diresc = diresc.replace(\" \", np.nan)"
   ]
  },
  {
   "cell_type": "code",
   "execution_count": 60,
   "metadata": {},
   "outputs": [
    {
     "data": {
      "text/plain": [
       "TX_RESP_Q002              7829\n",
       "TX_RESP_Q004             11093\n",
       "TX_RESP_Q009              9287\n",
       "TX_RESP_Q012              7877\n",
       "TX_RESP_Q013              8433\n",
       "TX_RESP_Q158              5735\n",
       "TX_RESP_Q163              9242\n",
       "TX_RESP_Q224              5948\n",
       "TX_RESP_Q225              7368\n",
       "NIVEL_SOCIO_ECONOMICO     1743\n",
       "MEDIA_9EF_LP             41325\n",
       "MEDIA_9EF_MT             41325\n",
       "dtype: int64"
      ]
     },
     "execution_count": 60,
     "metadata": {},
     "output_type": "execute_result"
    }
   ],
   "source": [
    "diresc[diresc.columns[diresc.isnull().any()]].isnull().sum()"
   ]
  },
  {
   "cell_type": "code",
   "execution_count": 61,
   "metadata": {},
   "outputs": [
    {
     "data": {
      "text/plain": [
       "(22027, 14)"
      ]
     },
     "execution_count": 61,
     "metadata": {},
     "output_type": "execute_result"
    }
   ],
   "source": [
    "diresc.dropna(axis=0, inplace=True)\n",
    "diresc.drop_duplicates(keep='last', inplace=True)\n",
    "diresc.shape"
   ]
  },
  {
   "cell_type": "code",
   "execution_count": 62,
   "metadata": {},
   "outputs": [
    {
     "data": {
      "text/plain": [
       "(22027, 14)"
      ]
     },
     "execution_count": 62,
     "metadata": {},
     "output_type": "execute_result"
    }
   ],
   "source": [
    "diresc = diresc[diresc[\"ID_DEPENDENCIA_ADM\"] != 4]\n",
    "diresc.shape"
   ]
  },
  {
   "cell_type": "code",
   "execution_count": 63,
   "metadata": {},
   "outputs": [],
   "source": [
    "diresc.drop(columns=[\"ID_DEPENDENCIA_ADM\"], axis=1, inplace=True)"
   ]
  },
  {
   "cell_type": "code",
   "execution_count": null,
   "metadata": {},
   "outputs": [],
   "source": []
  },
  {
   "cell_type": "code",
   "execution_count": null,
   "metadata": {},
   "outputs": [],
   "source": []
  },
  {
   "cell_type": "code",
   "execution_count": null,
   "metadata": {},
   "outputs": [],
   "source": []
  },
  {
   "cell_type": "code",
   "execution_count": 64,
   "metadata": {},
   "outputs": [],
   "source": [
    "escala = [\n",
    "    (diresc[\"MEDIA_9EF_MT\"] < 200),\n",
    "    (diresc[\"MEDIA_9EF_MT\"] >= 200) & (diresc[\"MEDIA_9EF_MT\"] < 225),\n",
    "    (diresc[\"MEDIA_9EF_MT\"] >= 225) & (diresc[\"MEDIA_9EF_MT\"] < 250),\n",
    "    (diresc[\"MEDIA_9EF_MT\"] >= 250) & (diresc[\"MEDIA_9EF_MT\"] < 275),\n",
    "    (diresc[\"MEDIA_9EF_MT\"] >= 275) & (diresc[\"MEDIA_9EF_MT\"] < 300),\n",
    "    (diresc[\"MEDIA_9EF_MT\"] >= 300) & (diresc[\"MEDIA_9EF_MT\"] < 325),\n",
    "    (diresc[\"MEDIA_9EF_MT\"] >= 325) & (diresc[\"MEDIA_9EF_MT\"] < 350),\n",
    "    (diresc[\"MEDIA_9EF_MT\"] >= 350) & (diresc[\"MEDIA_9EF_MT\"] < 375),\n",
    "    (diresc[\"MEDIA_9EF_MT\"] >= 375) & (diresc[\"MEDIA_9EF_MT\"] < 400),\n",
    "    (diresc[\"MEDIA_9EF_MT\"] >= 400)\n",
    "    ]\n",
    "nivel = [\"Nivel 0\", \"Nivel 1\", \"Nivel 2\", \"Nivel 3\", \"Nivel 4\", \"Nivel 5\", \"Nivel 6\", \"Nivel 7\", \"Nivel 8\", \"Nivel 9\"]\n",
    "diresc[\"ESCALA_MT\"] = np.select(escala, nivel)"
   ]
  },
  {
   "cell_type": "code",
   "execution_count": 65,
   "metadata": {},
   "outputs": [],
   "source": [
    "escala = [\n",
    "    (diresc[\"MEDIA_9EF_LP\"] < 200),\n",
    "    (diresc[\"MEDIA_9EF_LP\"] >= 200) & (diresc[\"MEDIA_9EF_LP\"] < 225),\n",
    "    (diresc[\"MEDIA_9EF_LP\"] >= 225) & (diresc[\"MEDIA_9EF_LP\"] < 250),\n",
    "    (diresc[\"MEDIA_9EF_LP\"] >= 250) & (diresc[\"MEDIA_9EF_LP\"] < 275),\n",
    "    (diresc[\"MEDIA_9EF_LP\"] >= 275) & (diresc[\"MEDIA_9EF_LP\"] < 300),\n",
    "    (diresc[\"MEDIA_9EF_LP\"] >= 300) & (diresc[\"MEDIA_9EF_LP\"] < 325),\n",
    "    (diresc[\"MEDIA_9EF_LP\"] >= 325) & (diresc[\"MEDIA_9EF_LP\"] < 350),\n",
    "    (diresc[\"MEDIA_9EF_LP\"] >= 350) & (diresc[\"MEDIA_9EF_LP\"] < 375),\n",
    "    (diresc[\"MEDIA_9EF_LP\"] >= 375)\n",
    "    ]\n",
    "nivel = [\"Nivel 0\", \"Nivel 1\", \"Nivel 2\", \"Nivel 3\", \"Nivel 4\", \"Nivel 5\", \"Nivel 6\", \"Nivel 7\", \"Nivel 8\"]\n",
    "diresc[\"ESCALA_LP\"] = np.select(escala, nivel)"
   ]
  },
  {
   "cell_type": "code",
   "execution_count": 66,
   "metadata": {},
   "outputs": [
    {
     "data": {
      "text/plain": [
       "Nivel 3    10006\n",
       "Nivel 2     7043\n",
       "Nivel 4     3033\n",
       "Nivel 1     1554\n",
       "Nivel 5      247\n",
       "Nivel 0      128\n",
       "Nivel 6       15\n",
       "Nivel 7        1\n",
       "Name: ESCALA_LP, dtype: int64"
      ]
     },
     "execution_count": 66,
     "metadata": {},
     "output_type": "execute_result"
    }
   ],
   "source": [
    "diresc[\"ESCALA_LP\"].value_counts()"
   ]
  },
  {
   "cell_type": "code",
   "execution_count": 67,
   "metadata": {},
   "outputs": [
    {
     "data": {
      "text/plain": [
       "Nivel 3    9400\n",
       "Nivel 2    6655\n",
       "Nivel 4    3685\n",
       "Nivel 1    1432\n",
       "Nivel 5     598\n",
       "Nivel 0     129\n",
       "Nivel 6      99\n",
       "Nivel 7      29\n",
       "Name: ESCALA_MT, dtype: int64"
      ]
     },
     "execution_count": 67,
     "metadata": {},
     "output_type": "execute_result"
    }
   ],
   "source": [
    "diresc[\"ESCALA_MT\"].value_counts()"
   ]
  },
  {
   "cell_type": "code",
   "execution_count": 68,
   "metadata": {},
   "outputs": [
    {
     "name": "stdout",
     "output_type": "stream",
     "text": [
      "<class 'pandas.core.frame.DataFrame'>\n",
      "Int64Index: 22027 entries, 2 to 71353\n",
      "Data columns (total 15 columns):\n",
      " #   Column                 Non-Null Count  Dtype  \n",
      "---  ------                 --------------  -----  \n",
      " 0   ID_ESCOLA              22027 non-null  int64  \n",
      " 1   TX_RESP_Q002           22027 non-null  float64\n",
      " 2   TX_RESP_Q004           22027 non-null  float64\n",
      " 3   TX_RESP_Q009           22027 non-null  float64\n",
      " 4   TX_RESP_Q012           22027 non-null  float64\n",
      " 5   TX_RESP_Q013           22027 non-null  float64\n",
      " 6   TX_RESP_Q158           22027 non-null  object \n",
      " 7   TX_RESP_Q163           22027 non-null  object \n",
      " 8   TX_RESP_Q224           22027 non-null  object \n",
      " 9   TX_RESP_Q225           22027 non-null  object \n",
      " 10  NIVEL_SOCIO_ECONOMICO  22027 non-null  object \n",
      " 11  MEDIA_9EF_LP           22027 non-null  float64\n",
      " 12  MEDIA_9EF_MT           22027 non-null  float64\n",
      " 13  ESCALA_MT              22027 non-null  object \n",
      " 14  ESCALA_LP              22027 non-null  object \n",
      "dtypes: float64(7), int64(1), object(7)\n",
      "memory usage: 2.7+ MB\n"
     ]
    }
   ],
   "source": [
    "diresc.info()"
   ]
  },
  {
   "cell_type": "code",
   "execution_count": 69,
   "metadata": {},
   "outputs": [],
   "source": [
    "diresc[\"TX_RESP_Q158\"] = diresc[\"TX_RESP_Q158\"].astype(\"category\")\n",
    "diresc[\"TX_RESP_Q163\"] = diresc[\"TX_RESP_Q163\"].astype(\"category\")\n",
    "diresc[\"TX_RESP_Q224\"] = diresc[\"TX_RESP_Q224\"].astype(\"category\")\n",
    "diresc[\"TX_RESP_Q225\"] = diresc[\"TX_RESP_Q225\"].astype(\"category\")\n",
    "\n",
    "diresc[\"NIVEL_SOCIO_ECONOMICO\"] = diresc[\"NIVEL_SOCIO_ECONOMICO\"].astype(\"category\")\n",
    "diresc[\"ESCALA_LP\"] = diresc[\"ESCALA_LP\"].astype(\"category\")\n",
    "diresc[\"ESCALA_MT\"] = diresc[\"ESCALA_MT\"].astype(\"category\")"
   ]
  },
  {
   "cell_type": "code",
   "execution_count": 70,
   "metadata": {},
   "outputs": [
    {
     "data": {
      "text/plain": [
       "(22027, 15)"
      ]
     },
     "execution_count": 70,
     "metadata": {},
     "output_type": "execute_result"
    }
   ],
   "source": [
    "diresc = diresc.iloc[:,:].reset_index(drop=True)\n",
    "diresc.shape"
   ]
  },
  {
   "cell_type": "code",
   "execution_count": 71,
   "metadata": {},
   "outputs": [
    {
     "data": {
      "text/html": [
       "<div>\n",
       "<style scoped>\n",
       "    .dataframe tbody tr th:only-of-type {\n",
       "        vertical-align: middle;\n",
       "    }\n",
       "\n",
       "    .dataframe tbody tr th {\n",
       "        vertical-align: top;\n",
       "    }\n",
       "\n",
       "    .dataframe thead th {\n",
       "        text-align: right;\n",
       "    }\n",
       "</style>\n",
       "<table border=\"1\" class=\"dataframe\">\n",
       "  <thead>\n",
       "    <tr style=\"text-align: right;\">\n",
       "      <th></th>\n",
       "      <th>ID_ESCOLA</th>\n",
       "      <th>TX_RESP_Q002</th>\n",
       "      <th>TX_RESP_Q004</th>\n",
       "      <th>TX_RESP_Q009</th>\n",
       "      <th>TX_RESP_Q012</th>\n",
       "      <th>TX_RESP_Q013</th>\n",
       "      <th>TX_RESP_Q158</th>\n",
       "      <th>TX_RESP_Q163</th>\n",
       "      <th>TX_RESP_Q224</th>\n",
       "      <th>TX_RESP_Q225</th>\n",
       "      <th>NIVEL_SOCIO_ECONOMICO</th>\n",
       "      <th>MEDIA_9EF_LP</th>\n",
       "      <th>MEDIA_9EF_MT</th>\n",
       "      <th>ESCALA_MT</th>\n",
       "      <th>ESCALA_LP</th>\n",
       "    </tr>\n",
       "  </thead>\n",
       "  <tbody>\n",
       "    <tr>\n",
       "      <th>0</th>\n",
       "      <td>11024828</td>\n",
       "      <td>5.0</td>\n",
       "      <td>4.0</td>\n",
       "      <td>40.0</td>\n",
       "      <td>2.0</td>\n",
       "      <td>2.0</td>\n",
       "      <td>A</td>\n",
       "      <td>A</td>\n",
       "      <td>A</td>\n",
       "      <td>A</td>\n",
       "      <td>Nível IV</td>\n",
       "      <td>239.76</td>\n",
       "      <td>244.94</td>\n",
       "      <td>Nivel 2</td>\n",
       "      <td>Nivel 2</td>\n",
       "    </tr>\n",
       "    <tr>\n",
       "      <th>1</th>\n",
       "      <td>11025280</td>\n",
       "      <td>20.0</td>\n",
       "      <td>4.0</td>\n",
       "      <td>40.0</td>\n",
       "      <td>1.0</td>\n",
       "      <td>3.0</td>\n",
       "      <td>A</td>\n",
       "      <td>A</td>\n",
       "      <td>B</td>\n",
       "      <td>B</td>\n",
       "      <td>Nível IV</td>\n",
       "      <td>240.09</td>\n",
       "      <td>241.78</td>\n",
       "      <td>Nivel 2</td>\n",
       "      <td>Nivel 2</td>\n",
       "    </tr>\n",
       "    <tr>\n",
       "      <th>2</th>\n",
       "      <td>11025310</td>\n",
       "      <td>7.0</td>\n",
       "      <td>9.0</td>\n",
       "      <td>40.0</td>\n",
       "      <td>1.0</td>\n",
       "      <td>1.0</td>\n",
       "      <td>A</td>\n",
       "      <td>A</td>\n",
       "      <td>A</td>\n",
       "      <td>A</td>\n",
       "      <td>Nível III</td>\n",
       "      <td>276.42</td>\n",
       "      <td>265.14</td>\n",
       "      <td>Nivel 3</td>\n",
       "      <td>Nivel 4</td>\n",
       "    </tr>\n",
       "    <tr>\n",
       "      <th>3</th>\n",
       "      <td>11025638</td>\n",
       "      <td>23.0</td>\n",
       "      <td>7.0</td>\n",
       "      <td>40.0</td>\n",
       "      <td>1.0</td>\n",
       "      <td>2.0</td>\n",
       "      <td>A</td>\n",
       "      <td>A</td>\n",
       "      <td>A</td>\n",
       "      <td>A</td>\n",
       "      <td>Nível IV</td>\n",
       "      <td>268.37</td>\n",
       "      <td>273.59</td>\n",
       "      <td>Nivel 3</td>\n",
       "      <td>Nivel 3</td>\n",
       "    </tr>\n",
       "    <tr>\n",
       "      <th>4</th>\n",
       "      <td>11006773</td>\n",
       "      <td>12.0</td>\n",
       "      <td>16.0</td>\n",
       "      <td>40.0</td>\n",
       "      <td>4.0</td>\n",
       "      <td>4.0</td>\n",
       "      <td>A</td>\n",
       "      <td>A</td>\n",
       "      <td>A</td>\n",
       "      <td>A</td>\n",
       "      <td>Nível IV</td>\n",
       "      <td>251.32</td>\n",
       "      <td>257.19</td>\n",
       "      <td>Nivel 3</td>\n",
       "      <td>Nivel 3</td>\n",
       "    </tr>\n",
       "  </tbody>\n",
       "</table>\n",
       "</div>"
      ],
      "text/plain": [
       "   ID_ESCOLA  TX_RESP_Q002  TX_RESP_Q004  TX_RESP_Q009  TX_RESP_Q012  \\\n",
       "0   11024828           5.0           4.0          40.0           2.0   \n",
       "1   11025280          20.0           4.0          40.0           1.0   \n",
       "2   11025310           7.0           9.0          40.0           1.0   \n",
       "3   11025638          23.0           7.0          40.0           1.0   \n",
       "4   11006773          12.0          16.0          40.0           4.0   \n",
       "\n",
       "   TX_RESP_Q013 TX_RESP_Q158 TX_RESP_Q163 TX_RESP_Q224 TX_RESP_Q225  \\\n",
       "0           2.0            A            A            A            A   \n",
       "1           3.0            A            A            B            B   \n",
       "2           1.0            A            A            A            A   \n",
       "3           2.0            A            A            A            A   \n",
       "4           4.0            A            A            A            A   \n",
       "\n",
       "  NIVEL_SOCIO_ECONOMICO  MEDIA_9EF_LP  MEDIA_9EF_MT ESCALA_MT ESCALA_LP  \n",
       "0              Nível IV        239.76        244.94   Nivel 2   Nivel 2  \n",
       "1              Nível IV        240.09        241.78   Nivel 2   Nivel 2  \n",
       "2             Nível III        276.42        265.14   Nivel 3   Nivel 4  \n",
       "3              Nível IV        268.37        273.59   Nivel 3   Nivel 3  \n",
       "4              Nível IV        251.32        257.19   Nivel 3   Nivel 3  "
      ]
     },
     "execution_count": 71,
     "metadata": {},
     "output_type": "execute_result"
    }
   ],
   "source": [
    "diresc.head()"
   ]
  },
  {
   "cell_type": "code",
   "execution_count": 72,
   "metadata": {},
   "outputs": [],
   "source": [
    "diresc['TX_RESP_Q158'] = diresc['TX_RESP_Q158'].map({'A':'Sim','B':'Não'})\n",
    "diresc['TX_RESP_Q163'] = diresc['TX_RESP_Q163'].map({'A':'Sim','B':'Não', 'C':'Não se aplica'})\n",
    "diresc['TX_RESP_Q224'] = diresc['TX_RESP_Q224'].map({'A':'Sim','B':'Não'})\n",
    "diresc['TX_RESP_Q225'] = diresc['TX_RESP_Q225'].map({'A':'Sim','B':'Não'})"
   ]
  },
  {
   "cell_type": "code",
   "execution_count": 73,
   "metadata": {},
   "outputs": [],
   "source": [
    "diresc.columns = [\"ID_ESCOLA\",\n",
    "                  \"EXPERIENCIA_PROFESSOR\", \n",
    "                  \"EXPERIENCIA_DIRETOR\", \n",
    "                  \"HORAS_TRABALHOSEMANAL\", \n",
    "                  \"HORAS_REUNIAOPROFESSORES\", \n",
    "                  \"HORAS_ATENDIMENTO_AOSPAIS\", \n",
    "                  \"PROJETO_POLITICO_PEDAGOGICO\", \n",
    "                  \"ESTABELECE_METASAPRENDIZAGEM\",\n",
    "                  \"ATIVIDADES_FORMACAO_AA\",\n",
    "                  \"ATIVIDADES_FORMACAO_ALE\",\n",
    "                  \"NIVEL_SOCIO_ECONOMICO\",\n",
    "                  \"MEDIA_9EF_LP\",\n",
    "                  \"MEDIA_9EF_MT\",\n",
    "                  \"ESCALA_MT\",\n",
    "                  \"ESCALA_LP\"]"
   ]
  },
  {
   "cell_type": "markdown",
   "metadata": {},
   "source": [
    "## MATEMÁTICA"
   ]
  },
  {
   "cell_type": "code",
   "execution_count": 74,
   "metadata": {},
   "outputs": [
    {
     "data": {
      "text/plain": [
       "(21898, 11)"
      ]
     },
     "execution_count": 74,
     "metadata": {},
     "output_type": "execute_result"
    }
   ],
   "source": [
    "mat = diresc.drop(columns=[\"ID_ESCOLA\", \"MEDIA_9EF_LP\", \"ESCALA_LP\"], axis=1) \n",
    "mat.drop(mat[mat[\"MEDIA_9EF_MT\"] < 200].index, axis=0, inplace=True)\n",
    "mat.drop(columns=[\"MEDIA_9EF_MT\"], axis=1, inplace=True) \n",
    "mat.shape"
   ]
  },
  {
   "cell_type": "code",
   "execution_count": 75,
   "metadata": {},
   "outputs": [
    {
     "data": {
      "text/html": [
       "<div>\n",
       "<style scoped>\n",
       "    .dataframe tbody tr th:only-of-type {\n",
       "        vertical-align: middle;\n",
       "    }\n",
       "\n",
       "    .dataframe tbody tr th {\n",
       "        vertical-align: top;\n",
       "    }\n",
       "\n",
       "    .dataframe thead th {\n",
       "        text-align: right;\n",
       "    }\n",
       "</style>\n",
       "<table border=\"1\" class=\"dataframe\">\n",
       "  <thead>\n",
       "    <tr style=\"text-align: right;\">\n",
       "      <th></th>\n",
       "      <th>EXPERIENCIA_PROFESSOR</th>\n",
       "      <th>EXPERIENCIA_DIRETOR</th>\n",
       "      <th>HORAS_TRABALHOSEMANAL</th>\n",
       "      <th>HORAS_REUNIAOPROFESSORES</th>\n",
       "      <th>HORAS_ATENDIMENTO_AOSPAIS</th>\n",
       "      <th>PROJETO_POLITICO_PEDAGOGICO</th>\n",
       "      <th>ESTABELECE_METASAPRENDIZAGEM</th>\n",
       "      <th>ATIVIDADES_FORMACAO_AA</th>\n",
       "      <th>ATIVIDADES_FORMACAO_ALE</th>\n",
       "      <th>NIVEL_SOCIO_ECONOMICO</th>\n",
       "      <th>ESCALA_MT</th>\n",
       "    </tr>\n",
       "  </thead>\n",
       "  <tbody>\n",
       "    <tr>\n",
       "      <th>0</th>\n",
       "      <td>5.0</td>\n",
       "      <td>4.0</td>\n",
       "      <td>40.0</td>\n",
       "      <td>2.0</td>\n",
       "      <td>2.0</td>\n",
       "      <td>Sim</td>\n",
       "      <td>Sim</td>\n",
       "      <td>Sim</td>\n",
       "      <td>Sim</td>\n",
       "      <td>Nível IV</td>\n",
       "      <td>Nivel 2</td>\n",
       "    </tr>\n",
       "    <tr>\n",
       "      <th>1</th>\n",
       "      <td>20.0</td>\n",
       "      <td>4.0</td>\n",
       "      <td>40.0</td>\n",
       "      <td>1.0</td>\n",
       "      <td>3.0</td>\n",
       "      <td>Sim</td>\n",
       "      <td>Sim</td>\n",
       "      <td>Não</td>\n",
       "      <td>Não</td>\n",
       "      <td>Nível IV</td>\n",
       "      <td>Nivel 2</td>\n",
       "    </tr>\n",
       "    <tr>\n",
       "      <th>2</th>\n",
       "      <td>7.0</td>\n",
       "      <td>9.0</td>\n",
       "      <td>40.0</td>\n",
       "      <td>1.0</td>\n",
       "      <td>1.0</td>\n",
       "      <td>Sim</td>\n",
       "      <td>Sim</td>\n",
       "      <td>Sim</td>\n",
       "      <td>Sim</td>\n",
       "      <td>Nível III</td>\n",
       "      <td>Nivel 3</td>\n",
       "    </tr>\n",
       "    <tr>\n",
       "      <th>3</th>\n",
       "      <td>23.0</td>\n",
       "      <td>7.0</td>\n",
       "      <td>40.0</td>\n",
       "      <td>1.0</td>\n",
       "      <td>2.0</td>\n",
       "      <td>Sim</td>\n",
       "      <td>Sim</td>\n",
       "      <td>Sim</td>\n",
       "      <td>Sim</td>\n",
       "      <td>Nível IV</td>\n",
       "      <td>Nivel 3</td>\n",
       "    </tr>\n",
       "    <tr>\n",
       "      <th>4</th>\n",
       "      <td>12.0</td>\n",
       "      <td>16.0</td>\n",
       "      <td>40.0</td>\n",
       "      <td>4.0</td>\n",
       "      <td>4.0</td>\n",
       "      <td>Sim</td>\n",
       "      <td>Sim</td>\n",
       "      <td>Sim</td>\n",
       "      <td>Sim</td>\n",
       "      <td>Nível IV</td>\n",
       "      <td>Nivel 3</td>\n",
       "    </tr>\n",
       "  </tbody>\n",
       "</table>\n",
       "</div>"
      ],
      "text/plain": [
       "   EXPERIENCIA_PROFESSOR  EXPERIENCIA_DIRETOR  HORAS_TRABALHOSEMANAL  \\\n",
       "0                    5.0                  4.0                   40.0   \n",
       "1                   20.0                  4.0                   40.0   \n",
       "2                    7.0                  9.0                   40.0   \n",
       "3                   23.0                  7.0                   40.0   \n",
       "4                   12.0                 16.0                   40.0   \n",
       "\n",
       "   HORAS_REUNIAOPROFESSORES  HORAS_ATENDIMENTO_AOSPAIS  \\\n",
       "0                       2.0                        2.0   \n",
       "1                       1.0                        3.0   \n",
       "2                       1.0                        1.0   \n",
       "3                       1.0                        2.0   \n",
       "4                       4.0                        4.0   \n",
       "\n",
       "  PROJETO_POLITICO_PEDAGOGICO ESTABELECE_METASAPRENDIZAGEM  \\\n",
       "0                         Sim                          Sim   \n",
       "1                         Sim                          Sim   \n",
       "2                         Sim                          Sim   \n",
       "3                         Sim                          Sim   \n",
       "4                         Sim                          Sim   \n",
       "\n",
       "  ATIVIDADES_FORMACAO_AA ATIVIDADES_FORMACAO_ALE NIVEL_SOCIO_ECONOMICO  \\\n",
       "0                    Sim                     Sim              Nível IV   \n",
       "1                    Não                     Não              Nível IV   \n",
       "2                    Sim                     Sim             Nível III   \n",
       "3                    Sim                     Sim              Nível IV   \n",
       "4                    Sim                     Sim              Nível IV   \n",
       "\n",
       "  ESCALA_MT  \n",
       "0   Nivel 2  \n",
       "1   Nivel 2  \n",
       "2   Nivel 3  \n",
       "3   Nivel 3  \n",
       "4   Nivel 3  "
      ]
     },
     "execution_count": 75,
     "metadata": {},
     "output_type": "execute_result"
    }
   ],
   "source": [
    "mat.head()"
   ]
  },
  {
   "cell_type": "code",
   "execution_count": 76,
   "metadata": {},
   "outputs": [
    {
     "data": {
      "text/html": [
       "<div>\n",
       "<style scoped>\n",
       "    .dataframe tbody tr th:only-of-type {\n",
       "        vertical-align: middle;\n",
       "    }\n",
       "\n",
       "    .dataframe tbody tr th {\n",
       "        vertical-align: top;\n",
       "    }\n",
       "\n",
       "    .dataframe thead th {\n",
       "        text-align: right;\n",
       "    }\n",
       "</style>\n",
       "<table border=\"1\" class=\"dataframe\">\n",
       "  <thead>\n",
       "    <tr style=\"text-align: right;\">\n",
       "      <th></th>\n",
       "      <th>EXPERIENCIA_PROFESSOR</th>\n",
       "      <th>EXPERIENCIA_DIRETOR</th>\n",
       "      <th>HORAS_TRABALHOSEMANAL</th>\n",
       "      <th>HORAS_REUNIAOPROFESSORES</th>\n",
       "      <th>HORAS_ATENDIMENTO_AOSPAIS</th>\n",
       "    </tr>\n",
       "  </thead>\n",
       "  <tbody>\n",
       "    <tr>\n",
       "      <th>count</th>\n",
       "      <td>21898.000000</td>\n",
       "      <td>21898.000000</td>\n",
       "      <td>21898.000000</td>\n",
       "      <td>21898.000000</td>\n",
       "      <td>21898.000000</td>\n",
       "    </tr>\n",
       "    <tr>\n",
       "      <th>mean</th>\n",
       "      <td>13.855649</td>\n",
       "      <td>6.457256</td>\n",
       "      <td>43.668235</td>\n",
       "      <td>3.596356</td>\n",
       "      <td>5.565714</td>\n",
       "    </tr>\n",
       "    <tr>\n",
       "      <th>std</th>\n",
       "      <td>7.295205</td>\n",
       "      <td>5.918710</td>\n",
       "      <td>11.506682</td>\n",
       "      <td>2.458991</td>\n",
       "      <td>4.211330</td>\n",
       "    </tr>\n",
       "    <tr>\n",
       "      <th>min</th>\n",
       "      <td>0.000000</td>\n",
       "      <td>0.000000</td>\n",
       "      <td>0.000000</td>\n",
       "      <td>0.000000</td>\n",
       "      <td>0.000000</td>\n",
       "    </tr>\n",
       "    <tr>\n",
       "      <th>25%</th>\n",
       "      <td>8.000000</td>\n",
       "      <td>2.000000</td>\n",
       "      <td>40.000000</td>\n",
       "      <td>2.000000</td>\n",
       "      <td>3.000000</td>\n",
       "    </tr>\n",
       "    <tr>\n",
       "      <th>50%</th>\n",
       "      <td>14.000000</td>\n",
       "      <td>4.000000</td>\n",
       "      <td>40.000000</td>\n",
       "      <td>3.000000</td>\n",
       "      <td>5.000000</td>\n",
       "    </tr>\n",
       "    <tr>\n",
       "      <th>75%</th>\n",
       "      <td>19.000000</td>\n",
       "      <td>9.000000</td>\n",
       "      <td>50.000000</td>\n",
       "      <td>4.000000</td>\n",
       "      <td>7.000000</td>\n",
       "    </tr>\n",
       "    <tr>\n",
       "      <th>max</th>\n",
       "      <td>35.000000</td>\n",
       "      <td>35.000000</td>\n",
       "      <td>70.000000</td>\n",
       "      <td>20.000000</td>\n",
       "      <td>30.000000</td>\n",
       "    </tr>\n",
       "  </tbody>\n",
       "</table>\n",
       "</div>"
      ],
      "text/plain": [
       "       EXPERIENCIA_PROFESSOR  EXPERIENCIA_DIRETOR  HORAS_TRABALHOSEMANAL  \\\n",
       "count           21898.000000         21898.000000           21898.000000   \n",
       "mean               13.855649             6.457256              43.668235   \n",
       "std                 7.295205             5.918710              11.506682   \n",
       "min                 0.000000             0.000000               0.000000   \n",
       "25%                 8.000000             2.000000              40.000000   \n",
       "50%                14.000000             4.000000              40.000000   \n",
       "75%                19.000000             9.000000              50.000000   \n",
       "max                35.000000            35.000000              70.000000   \n",
       "\n",
       "       HORAS_REUNIAOPROFESSORES  HORAS_ATENDIMENTO_AOSPAIS  \n",
       "count              21898.000000               21898.000000  \n",
       "mean                   3.596356                   5.565714  \n",
       "std                    2.458991                   4.211330  \n",
       "min                    0.000000                   0.000000  \n",
       "25%                    2.000000                   3.000000  \n",
       "50%                    3.000000                   5.000000  \n",
       "75%                    4.000000                   7.000000  \n",
       "max                   20.000000                  30.000000  "
      ]
     },
     "execution_count": 76,
     "metadata": {},
     "output_type": "execute_result"
    }
   ],
   "source": [
    "mat.describe()"
   ]
  },
  {
   "cell_type": "code",
   "execution_count": 77,
   "metadata": {},
   "outputs": [],
   "source": [
    "escala = [\n",
    "    (mat[\"EXPERIENCIA_PROFESSOR\"] == 0.0),\n",
    "    (mat[\"EXPERIENCIA_PROFESSOR\"] > 0) & (mat[\"EXPERIENCIA_PROFESSOR\"] <= 5),\n",
    "    (mat[\"EXPERIENCIA_PROFESSOR\"] > 5) & (mat[\"EXPERIENCIA_PROFESSOR\"] <= 10),\n",
    "    (mat[\"EXPERIENCIA_PROFESSOR\"] > 10) & (mat[\"EXPERIENCIA_PROFESSOR\"] <= 15),\n",
    "    (mat[\"EXPERIENCIA_PROFESSOR\"] > 15) & (mat[\"EXPERIENCIA_PROFESSOR\"] <= 20),\n",
    "    (mat[\"EXPERIENCIA_PROFESSOR\"] > 20) & (mat[\"EXPERIENCIA_PROFESSOR\"] <= 25),\n",
    "    (mat[\"EXPERIENCIA_PROFESSOR\"] > 25) & (mat[\"EXPERIENCIA_PROFESSOR\"] <= 30),\n",
    "    (mat[\"EXPERIENCIA_PROFESSOR\"] > 30) & (mat[\"EXPERIENCIA_PROFESSOR\"] <= 35),\n",
    "    ]\n",
    "nivel = [\"Sem Experiência\", \"Até 5 Anos\", \"Até 10 Anos\", \"Até 15 anos\", \"Até 20 anos\", \"Até 25 anos\", \"Até 30 anos\", \"Até 35 anos\"]\n",
    "mat[\"EXPERIENCIA_PROFESSOR\"] = np.select(escala, nivel)\n",
    "\n",
    "\n",
    "\n",
    "escala2 = [\n",
    "    (mat[\"EXPERIENCIA_DIRETOR\"] == 0.0),\n",
    "    (mat[\"EXPERIENCIA_DIRETOR\"] > 0) & (mat[\"EXPERIENCIA_DIRETOR\"] <= 5),\n",
    "    (mat[\"EXPERIENCIA_DIRETOR\"] > 5) & (mat[\"EXPERIENCIA_DIRETOR\"] <= 10),\n",
    "    (mat[\"EXPERIENCIA_DIRETOR\"] > 10) & (mat[\"EXPERIENCIA_DIRETOR\"] <= 15),\n",
    "    (mat[\"EXPERIENCIA_DIRETOR\"] > 15) & (mat[\"EXPERIENCIA_DIRETOR\"] <= 20),\n",
    "    (mat[\"EXPERIENCIA_DIRETOR\"] > 20) & (mat[\"EXPERIENCIA_DIRETOR\"] <= 25),\n",
    "    (mat[\"EXPERIENCIA_DIRETOR\"] > 25) & (mat[\"EXPERIENCIA_DIRETOR\"] <= 30),\n",
    "    (mat[\"EXPERIENCIA_DIRETOR\"] > 30) & (mat[\"EXPERIENCIA_DIRETOR\"] <= 35),\n",
    "    ]\n",
    "nivel2 = [\"Sem Experiência\", \"Até 5 Anos\", \"Até 10 Anos\", \"Até 15 anos\", \"Até 20 anos\", \"Até 25 anos\", \"Até 30 anos\", \"Até 35 anos\"]\n",
    "mat[\"EXPERIENCIA_DIRETOR\"] = np.select(escala2, nivel2)\n",
    "\n",
    "\n",
    "escala3 = [\n",
    "    (mat[\"HORAS_TRABALHOSEMANAL\"] == 0.0),\n",
    "    (mat[\"HORAS_TRABALHOSEMANAL\"] > 0) & (mat[\"HORAS_TRABALHOSEMANAL\"] <= 10),\n",
    "    (mat[\"HORAS_TRABALHOSEMANAL\"] > 10) & (mat[\"HORAS_TRABALHOSEMANAL\"] <= 20),\n",
    "    (mat[\"HORAS_TRABALHOSEMANAL\"] > 20) & (mat[\"HORAS_TRABALHOSEMANAL\"] <= 30),\n",
    "    (mat[\"HORAS_TRABALHOSEMANAL\"] > 30) & (mat[\"HORAS_TRABALHOSEMANAL\"] <= 40),\n",
    "    (mat[\"HORAS_TRABALHOSEMANAL\"] > 40) & (mat[\"HORAS_TRABALHOSEMANAL\"] <= 50),\n",
    "    (mat[\"HORAS_TRABALHOSEMANAL\"] > 50) & (mat[\"HORAS_TRABALHOSEMANAL\"] <= 60),\n",
    "    (mat[\"HORAS_TRABALHOSEMANAL\"] > 60) & (mat[\"HORAS_TRABALHOSEMANAL\"] <= 70),\n",
    "    ]\n",
    "nivel3 = [\"0 horas\", \"Até 10 horas\", \"Até 20 horas\", \"Até 30 horas\", \"Até 40 horas\", \"Até 50 horas\", \"Até 60 horas\", \"Até 70 horas\"]\n",
    "mat[\"HORAS_TRABALHOSEMANAL\"] = np.select(escala3, nivel3)\n",
    "\n",
    "\n",
    "escala4 = [\n",
    "    (mat[\"HORAS_REUNIAOPROFESSORES\"] == 0.0),\n",
    "    (mat[\"HORAS_REUNIAOPROFESSORES\"] > 0) & (mat[\"HORAS_REUNIAOPROFESSORES\"] <= 5),\n",
    "    (mat[\"HORAS_REUNIAOPROFESSORES\"] > 5) & (mat[\"HORAS_REUNIAOPROFESSORES\"] <= 10),\n",
    "    (mat[\"HORAS_REUNIAOPROFESSORES\"] > 10) & (mat[\"HORAS_REUNIAOPROFESSORES\"] <= 15),\n",
    "    (mat[\"HORAS_REUNIAOPROFESSORES\"] > 15) & (mat[\"HORAS_REUNIAOPROFESSORES\"] <= 20),\n",
    "    ]\n",
    "nivel4 = [\"0 horas\", \"Até 5 horas\", \"Até 10 horas\", \"Até 15 horas\", \"Até 20 horas\"]\n",
    "mat[\"HORAS_REUNIAOPROFESSORES\"] = np.select(escala4, nivel4)\n",
    "\n",
    "\n",
    "\n",
    "escala5 = [\n",
    "    (mat[\"HORAS_ATENDIMENTO_AOSPAIS\"] == 0.0),\n",
    "    (mat[\"HORAS_ATENDIMENTO_AOSPAIS\"] > 0) & (mat[\"HORAS_ATENDIMENTO_AOSPAIS\"] <= 5),\n",
    "    (mat[\"HORAS_ATENDIMENTO_AOSPAIS\"] > 5) & (mat[\"HORAS_ATENDIMENTO_AOSPAIS\"] <= 10),\n",
    "    (mat[\"HORAS_ATENDIMENTO_AOSPAIS\"] > 10) & (mat[\"HORAS_ATENDIMENTO_AOSPAIS\"] <= 15),\n",
    "    (mat[\"HORAS_ATENDIMENTO_AOSPAIS\"] > 15) & (mat[\"HORAS_ATENDIMENTO_AOSPAIS\"] <= 20),\n",
    "    (mat[\"HORAS_ATENDIMENTO_AOSPAIS\"] > 20) & (mat[\"HORAS_ATENDIMENTO_AOSPAIS\"] <= 30),\n",
    "    ]\n",
    "nivel5 = [\"0 horas\", \"Até 5 horas\", \"Até 10 horas\", \"Até 15 horas\", \"Até 20 horas\", \"Até 30 horas\"]\n",
    "mat[\"HORAS_ATENDIMENTO_AOSPAIS\"] = np.select(escala5, nivel5)\n"
   ]
  },
  {
   "cell_type": "code",
   "execution_count": 78,
   "metadata": {},
   "outputs": [
    {
     "data": {
      "text/html": [
       "<div>\n",
       "<style scoped>\n",
       "    .dataframe tbody tr th:only-of-type {\n",
       "        vertical-align: middle;\n",
       "    }\n",
       "\n",
       "    .dataframe tbody tr th {\n",
       "        vertical-align: top;\n",
       "    }\n",
       "\n",
       "    .dataframe thead th {\n",
       "        text-align: right;\n",
       "    }\n",
       "</style>\n",
       "<table border=\"1\" class=\"dataframe\">\n",
       "  <thead>\n",
       "    <tr style=\"text-align: right;\">\n",
       "      <th></th>\n",
       "      <th>EXPERIENCIA_PROFESSOR</th>\n",
       "      <th>EXPERIENCIA_DIRETOR</th>\n",
       "      <th>HORAS_TRABALHOSEMANAL</th>\n",
       "      <th>HORAS_REUNIAOPROFESSORES</th>\n",
       "      <th>HORAS_ATENDIMENTO_AOSPAIS</th>\n",
       "      <th>PROJETO_POLITICO_PEDAGOGICO</th>\n",
       "      <th>ESTABELECE_METASAPRENDIZAGEM</th>\n",
       "      <th>ATIVIDADES_FORMACAO_AA</th>\n",
       "      <th>ATIVIDADES_FORMACAO_ALE</th>\n",
       "      <th>NIVEL_SOCIO_ECONOMICO</th>\n",
       "      <th>ESCALA_MT</th>\n",
       "    </tr>\n",
       "  </thead>\n",
       "  <tbody>\n",
       "    <tr>\n",
       "      <th>0</th>\n",
       "      <td>Até 5 Anos</td>\n",
       "      <td>Até 5 Anos</td>\n",
       "      <td>Até 40 horas</td>\n",
       "      <td>Até 5 horas</td>\n",
       "      <td>Até 5 horas</td>\n",
       "      <td>Sim</td>\n",
       "      <td>Sim</td>\n",
       "      <td>Sim</td>\n",
       "      <td>Sim</td>\n",
       "      <td>Nível IV</td>\n",
       "      <td>Nivel 2</td>\n",
       "    </tr>\n",
       "    <tr>\n",
       "      <th>1</th>\n",
       "      <td>Até 20 anos</td>\n",
       "      <td>Até 5 Anos</td>\n",
       "      <td>Até 40 horas</td>\n",
       "      <td>Até 5 horas</td>\n",
       "      <td>Até 5 horas</td>\n",
       "      <td>Sim</td>\n",
       "      <td>Sim</td>\n",
       "      <td>Não</td>\n",
       "      <td>Não</td>\n",
       "      <td>Nível IV</td>\n",
       "      <td>Nivel 2</td>\n",
       "    </tr>\n",
       "    <tr>\n",
       "      <th>2</th>\n",
       "      <td>Até 10 Anos</td>\n",
       "      <td>Até 10 Anos</td>\n",
       "      <td>Até 40 horas</td>\n",
       "      <td>Até 5 horas</td>\n",
       "      <td>Até 5 horas</td>\n",
       "      <td>Sim</td>\n",
       "      <td>Sim</td>\n",
       "      <td>Sim</td>\n",
       "      <td>Sim</td>\n",
       "      <td>Nível III</td>\n",
       "      <td>Nivel 3</td>\n",
       "    </tr>\n",
       "    <tr>\n",
       "      <th>3</th>\n",
       "      <td>Até 25 anos</td>\n",
       "      <td>Até 10 Anos</td>\n",
       "      <td>Até 40 horas</td>\n",
       "      <td>Até 5 horas</td>\n",
       "      <td>Até 5 horas</td>\n",
       "      <td>Sim</td>\n",
       "      <td>Sim</td>\n",
       "      <td>Sim</td>\n",
       "      <td>Sim</td>\n",
       "      <td>Nível IV</td>\n",
       "      <td>Nivel 3</td>\n",
       "    </tr>\n",
       "    <tr>\n",
       "      <th>4</th>\n",
       "      <td>Até 15 anos</td>\n",
       "      <td>Até 20 anos</td>\n",
       "      <td>Até 40 horas</td>\n",
       "      <td>Até 5 horas</td>\n",
       "      <td>Até 5 horas</td>\n",
       "      <td>Sim</td>\n",
       "      <td>Sim</td>\n",
       "      <td>Sim</td>\n",
       "      <td>Sim</td>\n",
       "      <td>Nível IV</td>\n",
       "      <td>Nivel 3</td>\n",
       "    </tr>\n",
       "  </tbody>\n",
       "</table>\n",
       "</div>"
      ],
      "text/plain": [
       "  EXPERIENCIA_PROFESSOR EXPERIENCIA_DIRETOR HORAS_TRABALHOSEMANAL  \\\n",
       "0            Até 5 Anos          Até 5 Anos          Até 40 horas   \n",
       "1           Até 20 anos          Até 5 Anos          Até 40 horas   \n",
       "2           Até 10 Anos         Até 10 Anos          Até 40 horas   \n",
       "3           Até 25 anos         Até 10 Anos          Até 40 horas   \n",
       "4           Até 15 anos         Até 20 anos          Até 40 horas   \n",
       "\n",
       "  HORAS_REUNIAOPROFESSORES HORAS_ATENDIMENTO_AOSPAIS  \\\n",
       "0              Até 5 horas               Até 5 horas   \n",
       "1              Até 5 horas               Até 5 horas   \n",
       "2              Até 5 horas               Até 5 horas   \n",
       "3              Até 5 horas               Até 5 horas   \n",
       "4              Até 5 horas               Até 5 horas   \n",
       "\n",
       "  PROJETO_POLITICO_PEDAGOGICO ESTABELECE_METASAPRENDIZAGEM  \\\n",
       "0                         Sim                          Sim   \n",
       "1                         Sim                          Sim   \n",
       "2                         Sim                          Sim   \n",
       "3                         Sim                          Sim   \n",
       "4                         Sim                          Sim   \n",
       "\n",
       "  ATIVIDADES_FORMACAO_AA ATIVIDADES_FORMACAO_ALE NIVEL_SOCIO_ECONOMICO  \\\n",
       "0                    Sim                     Sim              Nível IV   \n",
       "1                    Não                     Não              Nível IV   \n",
       "2                    Sim                     Sim             Nível III   \n",
       "3                    Sim                     Sim              Nível IV   \n",
       "4                    Sim                     Sim              Nível IV   \n",
       "\n",
       "  ESCALA_MT  \n",
       "0   Nivel 2  \n",
       "1   Nivel 2  \n",
       "2   Nivel 3  \n",
       "3   Nivel 3  \n",
       "4   Nivel 3  "
      ]
     },
     "execution_count": 78,
     "metadata": {},
     "output_type": "execute_result"
    }
   ],
   "source": [
    "mat.head()"
   ]
  },
  {
   "cell_type": "code",
   "execution_count": 79,
   "metadata": {},
   "outputs": [],
   "source": [
    "from sklearn import preprocessing\n",
    "\n",
    "label = preprocessing.LabelEncoder()\n",
    "data_encoded = pd.DataFrame() \n",
    "\n",
    "for i in mat.columns:\n",
    "    data_encoded[i]=label.fit_transform(mat[i])"
   ]
  },
  {
   "cell_type": "markdown",
   "metadata": {},
   "source": [
    "## TRANSFORMAÇÕES"
   ]
  },
  {
   "cell_type": "code",
   "execution_count": 80,
   "metadata": {},
   "outputs": [],
   "source": [
    "from sklearn.preprocessing import LabelEncoder\n",
    "\n",
    "mat_encode = mat.iloc[:, :]\n",
    "\n",
    "label_encoder = LabelEncoder()\n",
    "\n",
    "columns = mat_encode.columns[:].tolist()\n",
    "\n",
    "for index in columns:\n",
    "    mat_encode[index] = label_encoder.fit_transform(mat_encode[index])\n",
    "\n",
    "#mat_encode.head()"
   ]
  },
  {
   "cell_type": "code",
   "execution_count": 81,
   "metadata": {},
   "outputs": [],
   "source": [
    "## Biblioteca para normalizar os dados com MinMaxScaler\n",
    "from sklearn.preprocessing import MinMaxScaler\n",
    "scaler_min_max = MinMaxScaler()\n",
    "mat_normalizado = scaler_min_max.fit_transform(mat_encode) # Retorna um array\n",
    "mat_normalizado =  pd.DataFrame(mat_normalizado, columns=columns)\n",
    "#mat_normalizado.head()"
   ]
  },
  {
   "cell_type": "markdown",
   "metadata": {},
   "source": [
    "## CORRELAÇÕES"
   ]
  },
  {
   "cell_type": "markdown",
   "metadata": {},
   "source": [
    "### Pearson"
   ]
  },
  {
   "cell_type": "code",
   "execution_count": 82,
   "metadata": {},
   "outputs": [],
   "source": [
    "# Verificando a correlação entre as váriaveis \n",
    "\n",
    "#plt.figure(figsize=(12,8))\n",
    "#sns.heatmap(mat_encode.corr(method='pearson'), annot=True, cmap=\"PiYG\")\n",
    "#plt.title(\"Correlação entre Variáveis\")\n",
    "#plt.show()"
   ]
  },
  {
   "cell_type": "markdown",
   "metadata": {},
   "source": [
    "### Spearman"
   ]
  },
  {
   "cell_type": "code",
   "execution_count": 83,
   "metadata": {},
   "outputs": [],
   "source": [
    "#plt.figure(figsize=(12,8))\n",
    "#sns.heatmap(mat_encode.corr(method='spearman'), annot=True, cmap=\"PiYG\")\n",
    "#plt.title(\"Correlação entre Variáveis\")\n",
    "#plt.show()"
   ]
  },
  {
   "cell_type": "markdown",
   "metadata": {},
   "source": [
    "### Kendall"
   ]
  },
  {
   "cell_type": "code",
   "execution_count": 84,
   "metadata": {},
   "outputs": [],
   "source": [
    "#plt.figure(figsize=(12,8))\n",
    "#sns.heatmap(mat.corr(method='kendall'), annot=True, cmap=\"PiYG\")\n",
    "#plt.title(\"Correlação entre Variáveis\")\n",
    "#plt.show()"
   ]
  },
  {
   "cell_type": "markdown",
   "metadata": {},
   "source": [
    "### Qui-Quadrado: \n",
    "testar independendica entre as variáveis\n",
    "hipotese nula: as variaveis sao de fato independentes\n",
    "\n",
    "p < 0.05 => rejeita a hipotese nula e concluimos que as variveis sao correlacionadas\n",
    "\n",
    "p > 0.05 => aceitamos a hipotese nula e concluimos que as variáveis sao independentes\n",
    "\n",
    "qui-quadrado pode ser aplicado em variaveis categoricas ou númericas\n",
    "\n",
    "se a variavel for continua é necessario dividir os valores em bins\n",
    "\n",
    "bins: sao invervalos numericos\n"
   ]
  },
  {
   "cell_type": "code",
   "execution_count": 85,
   "metadata": {},
   "outputs": [],
   "source": [
    "from scipy.stats import chi2_contingency"
   ]
  },
  {
   "cell_type": "code",
   "execution_count": 86,
   "metadata": {},
   "outputs": [
    {
     "name": "stdout",
     "output_type": "stream",
     "text": [
      "EXPERIENCIA_PROFESSOR - ESCALA_MT => Qui-Quadrado: 163.25713406498093 p-valor: 0.0\n",
      "EXPERIENCIA_DIRETOR - ESCALA_MT => Qui-Quadrado: 125.9389106711531 p-valor: 0.0\n",
      "HORAS_TRABALHOSEMANAL - ESCALA_MT => Qui-Quadrado: 259.4878616010448 p-valor: 0.0\n",
      "HORAS_REUNIAOPROFESSORES - ESCALA_MT => Qui-Quadrado: 37.5112743122332 p-valor: 0.0389\n",
      "HORAS_ATENDIMENTO_AOSPAIS - ESCALA_MT => Qui-Quadrado: 118.2525576483174 p-valor: 0.0\n",
      "ATIVIDADES_FORMACAO_AA - ESCALA_MT => Qui-Quadrado: 60.59960106734494 p-valor: 0.0\n",
      "ATIVIDADES_FORMACAO_ALE - ESCALA_MT => Qui-Quadrado: 128.1719602426244 p-valor: 0.0\n",
      "NIVEL_SOCIO_ECONOMICO - ESCALA_MT => Qui-Quadrado: 8913.804804945405 p-valor: 0.0\n"
     ]
    }
   ],
   "source": [
    "variables = mat.columns[:-1].tolist()\n",
    "\n",
    "for index in variables:\n",
    "    confusion_matrix = pd.crosstab(mat[index], mat[\"ESCALA_MT\"])\n",
    "    chi2, p, dof, exp = chi2_contingency(confusion_matrix.values)\n",
    "    if (p < 0.05):\n",
    "        print(\"{} - {} => Qui-Quadrado: {} p-valor: {}\".format(index, \"ESCALA_MT\", chi2, round(p, 4)))"
   ]
  }
 ],
 "metadata": {
  "interpreter": {
   "hash": "f62ee94fac88131b16b5ac7ef11c2624cf5bb453bfe27ffb4d1b25d5c4adcd49"
  },
  "kernelspec": {
   "display_name": "Python 3.10.1 64-bit",
   "language": "python",
   "name": "python3"
  },
  "language_info": {
   "codemirror_mode": {
    "name": "ipython",
    "version": 3
   },
   "file_extension": ".py",
   "mimetype": "text/x-python",
   "name": "python",
   "nbconvert_exporter": "python",
   "pygments_lexer": "ipython3",
   "version": "3.10.1"
  },
  "orig_nbformat": 4
 },
 "nbformat": 4,
 "nbformat_minor": 2
}
