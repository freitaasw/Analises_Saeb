{
 "cells": [
  {
   "cell_type": "code",
   "execution_count": 1,
   "metadata": {},
   "outputs": [],
   "source": [
    "# bibliotecas necessárias\n",
    "import plotly\n",
    "import plotly.express as px\n",
    "import plotly.graph_objects as go\n",
    "import pandas as pd\n",
    "import numpy as np"
   ]
  },
  {
   "cell_type": "markdown",
   "metadata": {},
   "source": [
    "## Lendo dados"
   ]
  },
  {
   "cell_type": "code",
   "execution_count": 11,
   "metadata": {},
   "outputs": [],
   "source": [
    "# lendo dados\n",
    "dados = pd.read_excel('divulgacao_regioes_ufs_ideb_2019-AF.xlsx')"
   ]
  },
  {
   "cell_type": "code",
   "execution_count": 12,
   "metadata": {},
   "outputs": [
    {
     "data": {
      "text/html": [
       "<div>\n",
       "<style scoped>\n",
       "    .dataframe tbody tr th:only-of-type {\n",
       "        vertical-align: middle;\n",
       "    }\n",
       "\n",
       "    .dataframe tbody tr th {\n",
       "        vertical-align: top;\n",
       "    }\n",
       "\n",
       "    .dataframe thead th {\n",
       "        text-align: right;\n",
       "    }\n",
       "</style>\n",
       "<table border=\"1\" class=\"dataframe\">\n",
       "  <thead>\n",
       "    <tr style=\"text-align: right;\">\n",
       "      <th></th>\n",
       "      <th>Região/\\nUnidade da Federação</th>\n",
       "      <th>Rede</th>\n",
       "      <th>6º a 9º ano</th>\n",
       "      <th>6º</th>\n",
       "      <th>7º</th>\n",
       "      <th>8º</th>\n",
       "      <th>9º</th>\n",
       "      <th>Indicador de Rendimento (P)</th>\n",
       "      <th>6º a 9º ano.1</th>\n",
       "      <th>6º.1</th>\n",
       "      <th>...</th>\n",
       "      <th>IDEB\\n2017\\n(N x P)</th>\n",
       "      <th>IDEB\\n2019\\n(N x P)</th>\n",
       "      <th>2007</th>\n",
       "      <th>2009</th>\n",
       "      <th>2011</th>\n",
       "      <th>2013</th>\n",
       "      <th>2015</th>\n",
       "      <th>2017</th>\n",
       "      <th>2019</th>\n",
       "      <th>2021</th>\n",
       "    </tr>\n",
       "  </thead>\n",
       "  <tbody>\n",
       "    <tr>\n",
       "      <th>0</th>\n",
       "      <td>Norte</td>\n",
       "      <td>Pública</td>\n",
       "      <td>74.1</td>\n",
       "      <td>69.8</td>\n",
       "      <td>74.5</td>\n",
       "      <td>77.3</td>\n",
       "      <td>77.7</td>\n",
       "      <td>0.746881</td>\n",
       "      <td>75.9</td>\n",
       "      <td>71.4</td>\n",
       "      <td>...</td>\n",
       "      <td>4.1</td>\n",
       "      <td>4.2</td>\n",
       "      <td>3.1</td>\n",
       "      <td>3.2</td>\n",
       "      <td>3.5</td>\n",
       "      <td>3.9</td>\n",
       "      <td>4.3</td>\n",
       "      <td>4.5</td>\n",
       "      <td>4.8</td>\n",
       "      <td>5.1</td>\n",
       "    </tr>\n",
       "    <tr>\n",
       "      <th>1</th>\n",
       "      <td>Norte</td>\n",
       "      <td>Privada</td>\n",
       "      <td>95.1</td>\n",
       "      <td>95.6</td>\n",
       "      <td>95.3</td>\n",
       "      <td>95.5</td>\n",
       "      <td>93.8</td>\n",
       "      <td>0.950444</td>\n",
       "      <td>95.3</td>\n",
       "      <td>95.5</td>\n",
       "      <td>...</td>\n",
       "      <td>6.0</td>\n",
       "      <td>6.1</td>\n",
       "      <td>5.4</td>\n",
       "      <td>5.5</td>\n",
       "      <td>5.8</td>\n",
       "      <td>6.1</td>\n",
       "      <td>6.4</td>\n",
       "      <td>6.6</td>\n",
       "      <td>6.8</td>\n",
       "      <td>7.0</td>\n",
       "    </tr>\n",
       "    <tr>\n",
       "      <th>2</th>\n",
       "      <td>Norte</td>\n",
       "      <td>Estadual</td>\n",
       "      <td>75.3</td>\n",
       "      <td>72.0</td>\n",
       "      <td>75.4</td>\n",
       "      <td>77.5</td>\n",
       "      <td>77.3</td>\n",
       "      <td>0.754841</td>\n",
       "      <td>76.0</td>\n",
       "      <td>72.5</td>\n",
       "      <td>...</td>\n",
       "      <td>4.2</td>\n",
       "      <td>4.3</td>\n",
       "      <td>3.1</td>\n",
       "      <td>3.3</td>\n",
       "      <td>3.5</td>\n",
       "      <td>3.9</td>\n",
       "      <td>4.3</td>\n",
       "      <td>4.6</td>\n",
       "      <td>4.9</td>\n",
       "      <td>5.1</td>\n",
       "    </tr>\n",
       "    <tr>\n",
       "      <th>3</th>\n",
       "      <td>Rondônia</td>\n",
       "      <td>Pública (4)</td>\n",
       "      <td>72.5</td>\n",
       "      <td>68.2</td>\n",
       "      <td>71.2</td>\n",
       "      <td>75.2</td>\n",
       "      <td>78.6</td>\n",
       "      <td>0.730884</td>\n",
       "      <td>74.9</td>\n",
       "      <td>70.5</td>\n",
       "      <td>...</td>\n",
       "      <td>4.8</td>\n",
       "      <td>4.8</td>\n",
       "      <td>3.2</td>\n",
       "      <td>3.3</td>\n",
       "      <td>3.6</td>\n",
       "      <td>4.0</td>\n",
       "      <td>4.4</td>\n",
       "      <td>4.6</td>\n",
       "      <td>4.9</td>\n",
       "      <td>5.2</td>\n",
       "    </tr>\n",
       "    <tr>\n",
       "      <th>4</th>\n",
       "      <td>Rondônia</td>\n",
       "      <td>Privada (2)</td>\n",
       "      <td>94.2</td>\n",
       "      <td>95.6</td>\n",
       "      <td>94.1</td>\n",
       "      <td>94.7</td>\n",
       "      <td>92.6</td>\n",
       "      <td>0.942373</td>\n",
       "      <td>94.5</td>\n",
       "      <td>95.0</td>\n",
       "      <td>...</td>\n",
       "      <td>6.5</td>\n",
       "      <td>6.3</td>\n",
       "      <td>5.8</td>\n",
       "      <td>6.0</td>\n",
       "      <td>6.2</td>\n",
       "      <td>6.5</td>\n",
       "      <td>6.8</td>\n",
       "      <td>7.0</td>\n",
       "      <td>7.2</td>\n",
       "      <td>7.3</td>\n",
       "    </tr>\n",
       "  </tbody>\n",
       "</table>\n",
       "<p>5 rows × 90 columns</p>\n",
       "</div>"
      ],
      "text/plain": [
       "  Região/\\nUnidade da Federação         Rede  6º a 9º ano    6º    7º    8º  \\\n",
       "0                         Norte      Pública         74.1  69.8  74.5  77.3   \n",
       "1                         Norte      Privada         95.1  95.6  95.3  95.5   \n",
       "2                         Norte     Estadual         75.3  72.0  75.4  77.5   \n",
       "3                      Rondônia  Pública (4)         72.5  68.2  71.2  75.2   \n",
       "4                      Rondônia  Privada (2)         94.2  95.6  94.1  94.7   \n",
       "\n",
       "     9º  Indicador de Rendimento (P)  6º a 9º ano.1  6º.1  ...  \\\n",
       "0  77.7                     0.746881           75.9  71.4  ...   \n",
       "1  93.8                     0.950444           95.3  95.5  ...   \n",
       "2  77.3                     0.754841           76.0  72.5  ...   \n",
       "3  78.6                     0.730884           74.9  70.5  ...   \n",
       "4  92.6                     0.942373           94.5  95.0  ...   \n",
       "\n",
       "   IDEB\\n2017\\n(N x P)  IDEB\\n2019\\n(N x P)  2007  2009  2011  2013  2015  \\\n",
       "0                  4.1                  4.2   3.1   3.2   3.5   3.9   4.3   \n",
       "1                  6.0                  6.1   5.4   5.5   5.8   6.1   6.4   \n",
       "2                  4.2                  4.3   3.1   3.3   3.5   3.9   4.3   \n",
       "3                  4.8                  4.8   3.2   3.3   3.6   4.0   4.4   \n",
       "4                  6.5                  6.3   5.8   6.0   6.2   6.5   6.8   \n",
       "\n",
       "   2017  2019  2021  \n",
       "0   4.5   4.8   5.1  \n",
       "1   6.6   6.8   7.0  \n",
       "2   4.6   4.9   5.1  \n",
       "3   4.6   4.9   5.2  \n",
       "4   7.0   7.2   7.3  \n",
       "\n",
       "[5 rows x 90 columns]"
      ]
     },
     "execution_count": 12,
     "metadata": {},
     "output_type": "execute_result"
    }
   ],
   "source": [
    "dados.head()"
   ]
  },
  {
   "cell_type": "code",
   "execution_count": 49,
   "metadata": {},
   "outputs": [
    {
     "data": {
      "text/html": [
       "<div>\n",
       "<style scoped>\n",
       "    .dataframe tbody tr th:only-of-type {\n",
       "        vertical-align: middle;\n",
       "    }\n",
       "\n",
       "    .dataframe tbody tr th {\n",
       "        vertical-align: top;\n",
       "    }\n",
       "\n",
       "    .dataframe thead th {\n",
       "        text-align: right;\n",
       "    }\n",
       "</style>\n",
       "<table border=\"1\" class=\"dataframe\">\n",
       "  <thead>\n",
       "    <tr style=\"text-align: right;\">\n",
       "      <th></th>\n",
       "      <th>Rede</th>\n",
       "      <th>6º a 9º ano</th>\n",
       "      <th>6º</th>\n",
       "      <th>7º</th>\n",
       "      <th>8º</th>\n",
       "      <th>9º</th>\n",
       "      <th>Indicador de Rendimento (P)</th>\n",
       "      <th>6º a 9º ano.1</th>\n",
       "      <th>6º.1</th>\n",
       "      <th>7º.1</th>\n",
       "      <th>...</th>\n",
       "      <th>IDEB\\n2017\\n(N x P)</th>\n",
       "      <th>IDEB\\n2019\\n(N x P)</th>\n",
       "      <th>2007</th>\n",
       "      <th>2009</th>\n",
       "      <th>2011</th>\n",
       "      <th>2013</th>\n",
       "      <th>2015</th>\n",
       "      <th>2017</th>\n",
       "      <th>2019</th>\n",
       "      <th>2021</th>\n",
       "    </tr>\n",
       "    <tr>\n",
       "      <th>Região/\n",
       "Unidade da Federação</th>\n",
       "      <th></th>\n",
       "      <th></th>\n",
       "      <th></th>\n",
       "      <th></th>\n",
       "      <th></th>\n",
       "      <th></th>\n",
       "      <th></th>\n",
       "      <th></th>\n",
       "      <th></th>\n",
       "      <th></th>\n",
       "      <th></th>\n",
       "      <th></th>\n",
       "      <th></th>\n",
       "      <th></th>\n",
       "      <th></th>\n",
       "      <th></th>\n",
       "      <th></th>\n",
       "      <th></th>\n",
       "      <th></th>\n",
       "      <th></th>\n",
       "      <th></th>\n",
       "    </tr>\n",
       "  </thead>\n",
       "  <tbody>\n",
       "    <tr>\n",
       "      <th>Norte</th>\n",
       "      <td>Pública</td>\n",
       "      <td>74.1</td>\n",
       "      <td>69.8</td>\n",
       "      <td>74.5</td>\n",
       "      <td>77.3</td>\n",
       "      <td>77.7</td>\n",
       "      <td>0.746881</td>\n",
       "      <td>75.9</td>\n",
       "      <td>71.4</td>\n",
       "      <td>75.9</td>\n",
       "      <td>...</td>\n",
       "      <td>4.1</td>\n",
       "      <td>4.2</td>\n",
       "      <td>3.1</td>\n",
       "      <td>3.2</td>\n",
       "      <td>3.5</td>\n",
       "      <td>3.9</td>\n",
       "      <td>4.3</td>\n",
       "      <td>4.5</td>\n",
       "      <td>4.8</td>\n",
       "      <td>5.1</td>\n",
       "    </tr>\n",
       "    <tr>\n",
       "      <th>Norte</th>\n",
       "      <td>Privada</td>\n",
       "      <td>95.1</td>\n",
       "      <td>95.6</td>\n",
       "      <td>95.3</td>\n",
       "      <td>95.5</td>\n",
       "      <td>93.8</td>\n",
       "      <td>0.950444</td>\n",
       "      <td>95.3</td>\n",
       "      <td>95.5</td>\n",
       "      <td>95.4</td>\n",
       "      <td>...</td>\n",
       "      <td>6.0</td>\n",
       "      <td>6.1</td>\n",
       "      <td>5.4</td>\n",
       "      <td>5.5</td>\n",
       "      <td>5.8</td>\n",
       "      <td>6.1</td>\n",
       "      <td>6.4</td>\n",
       "      <td>6.6</td>\n",
       "      <td>6.8</td>\n",
       "      <td>7.0</td>\n",
       "    </tr>\n",
       "    <tr>\n",
       "      <th>Norte</th>\n",
       "      <td>Estadual</td>\n",
       "      <td>75.3</td>\n",
       "      <td>72.0</td>\n",
       "      <td>75.4</td>\n",
       "      <td>77.5</td>\n",
       "      <td>77.3</td>\n",
       "      <td>0.754841</td>\n",
       "      <td>76.0</td>\n",
       "      <td>72.5</td>\n",
       "      <td>75.3</td>\n",
       "      <td>...</td>\n",
       "      <td>4.2</td>\n",
       "      <td>4.3</td>\n",
       "      <td>3.1</td>\n",
       "      <td>3.3</td>\n",
       "      <td>3.5</td>\n",
       "      <td>3.9</td>\n",
       "      <td>4.3</td>\n",
       "      <td>4.6</td>\n",
       "      <td>4.9</td>\n",
       "      <td>5.1</td>\n",
       "    </tr>\n",
       "    <tr>\n",
       "      <th>Sul</th>\n",
       "      <td>Pública</td>\n",
       "      <td>77.2</td>\n",
       "      <td>74.3</td>\n",
       "      <td>75.4</td>\n",
       "      <td>77.9</td>\n",
       "      <td>82.8</td>\n",
       "      <td>0.774656</td>\n",
       "      <td>81.1</td>\n",
       "      <td>78.3</td>\n",
       "      <td>79.7</td>\n",
       "      <td>...</td>\n",
       "      <td>4.6</td>\n",
       "      <td>4.8</td>\n",
       "      <td>3.6</td>\n",
       "      <td>3.8</td>\n",
       "      <td>4.1</td>\n",
       "      <td>4.5</td>\n",
       "      <td>4.8</td>\n",
       "      <td>5.1</td>\n",
       "      <td>5.4</td>\n",
       "      <td>5.6</td>\n",
       "    </tr>\n",
       "    <tr>\n",
       "      <th>Sul</th>\n",
       "      <td>Privada</td>\n",
       "      <td>96.1</td>\n",
       "      <td>96.8</td>\n",
       "      <td>96.1</td>\n",
       "      <td>95.6</td>\n",
       "      <td>95.7</td>\n",
       "      <td>0.960477</td>\n",
       "      <td>96.0</td>\n",
       "      <td>96.7</td>\n",
       "      <td>95.9</td>\n",
       "      <td>...</td>\n",
       "      <td>6.7</td>\n",
       "      <td>6.7</td>\n",
       "      <td>6.1</td>\n",
       "      <td>6.2</td>\n",
       "      <td>6.4</td>\n",
       "      <td>6.7</td>\n",
       "      <td>7.0</td>\n",
       "      <td>7.2</td>\n",
       "      <td>7.3</td>\n",
       "      <td>7.5</td>\n",
       "    </tr>\n",
       "  </tbody>\n",
       "</table>\n",
       "<p>5 rows × 89 columns</p>\n",
       "</div>"
      ],
      "text/plain": [
       "                                   Rede  6º a 9º ano    6º    7º    8º    9º  \\\n",
       "Região/\\nUnidade da Federação                                                  \n",
       "Norte                           Pública         74.1  69.8  74.5  77.3  77.7   \n",
       "Norte                           Privada         95.1  95.6  95.3  95.5  93.8   \n",
       "Norte                          Estadual         75.3  72.0  75.4  77.5  77.3   \n",
       "Sul                             Pública         77.2  74.3  75.4  77.9  82.8   \n",
       "Sul                             Privada         96.1  96.8  96.1  95.6  95.7   \n",
       "\n",
       "                               Indicador de Rendimento (P)  6º a 9º ano.1  \\\n",
       "Região/\\nUnidade da Federação                                               \n",
       "Norte                                             0.746881           75.9   \n",
       "Norte                                             0.950444           95.3   \n",
       "Norte                                             0.754841           76.0   \n",
       "Sul                                               0.774656           81.1   \n",
       "Sul                                               0.960477           96.0   \n",
       "\n",
       "                               6º.1  7º.1  ...  IDEB\\n2017\\n(N x P)  \\\n",
       "Região/\\nUnidade da Federação              ...                        \n",
       "Norte                          71.4  75.9  ...                  4.1   \n",
       "Norte                          95.5  95.4  ...                  6.0   \n",
       "Norte                          72.5  75.3  ...                  4.2   \n",
       "Sul                            78.3  79.7  ...                  4.6   \n",
       "Sul                            96.7  95.9  ...                  6.7   \n",
       "\n",
       "                               IDEB\\n2019\\n(N x P)  2007  2009  2011  2013  \\\n",
       "Região/\\nUnidade da Federação                                                \n",
       "Norte                                          4.2   3.1   3.2   3.5   3.9   \n",
       "Norte                                          6.1   5.4   5.5   5.8   6.1   \n",
       "Norte                                          4.3   3.1   3.3   3.5   3.9   \n",
       "Sul                                            4.8   3.6   3.8   4.1   4.5   \n",
       "Sul                                            6.7   6.1   6.2   6.4   6.7   \n",
       "\n",
       "                               2015  2017  2019  2021  \n",
       "Região/\\nUnidade da Federação                          \n",
       "Norte                           4.3   4.5   4.8   5.1  \n",
       "Norte                           6.4   6.6   6.8   7.0  \n",
       "Norte                           4.3   4.6   4.9   5.1  \n",
       "Sul                             4.8   5.1   5.4   5.6  \n",
       "Sul                             7.0   7.2   7.3   7.5  \n",
       "\n",
       "[5 rows x 89 columns]"
      ]
     },
     "execution_count": 49,
     "metadata": {},
     "output_type": "execute_result"
    }
   ],
   "source": [
    "dados_regioes = dados.set_index('Região/\\nUnidade da Federação')\n",
    "dados_regioes = dados_regioes.loc[['Norte', 'Sul', 'Sudeste', 'Nordeste', 'Centro-Oeste']]\n",
    "dados_regioes.head()"
   ]
  },
  {
   "cell_type": "code",
   "execution_count": 63,
   "metadata": {},
   "outputs": [
    {
     "data": {
      "application/vnd.plotly.v1+json": {
       "config": {
        "plotlyServerURL": "https://plot.ly"
       },
       "data": [
        {
         "alignmentgroup": "True",
         "hovertemplate": "Rede=Pública<br>Regiões=%{x}<br>IDEB\n2019\n(N x P)=%{y}<extra></extra>",
         "legendgroup": "Pública",
         "marker": {
          "color": "#4C78A8",
          "pattern": {
           "shape": ""
          }
         },
         "name": "Pública",
         "offsetgroup": "Pública",
         "orientation": "v",
         "showlegend": true,
         "textposition": "auto",
         "type": "bar",
         "x": [
          "Norte",
          "Sul",
          "Sudeste",
          "Nordeste",
          "Centro-Oeste"
         ],
         "xaxis": "x",
         "y": [
          4.2,
          4.8,
          4.9,
          4.2,
          4.8
         ],
         "yaxis": "y"
        },
        {
         "alignmentgroup": "True",
         "hovertemplate": "Rede=Privada<br>Regiões=%{x}<br>IDEB\n2019\n(N x P)=%{y}<extra></extra>",
         "legendgroup": "Privada",
         "marker": {
          "color": "#F58518",
          "pattern": {
           "shape": ""
          }
         },
         "name": "Privada",
         "offsetgroup": "Privada",
         "orientation": "v",
         "showlegend": true,
         "textposition": "auto",
         "type": "bar",
         "x": [
          "Norte",
          "Sul",
          "Sudeste",
          "Nordeste",
          "Centro-Oeste"
         ],
         "xaxis": "x",
         "y": [
          6.1,
          6.7,
          6.6,
          6.1,
          6.5
         ],
         "yaxis": "y"
        },
        {
         "alignmentgroup": "True",
         "hovertemplate": "Rede=Estadual<br>Regiões=%{x}<br>IDEB\n2019\n(N x P)=%{y}<extra></extra>",
         "legendgroup": "Estadual",
         "marker": {
          "color": "#E45756",
          "pattern": {
           "shape": ""
          }
         },
         "name": "Estadual",
         "offsetgroup": "Estadual",
         "orientation": "v",
         "showlegend": true,
         "textposition": "auto",
         "type": "bar",
         "x": [
          "Norte",
          "Sul",
          "Sudeste",
          "Nordeste",
          "Centro-Oeste"
         ],
         "xaxis": "x",
         "y": [
          4.3,
          4.8,
          4.9,
          4.1,
          4.8
         ],
         "yaxis": "y"
        }
       ],
       "layout": {
        "barmode": "group",
        "legend": {
         "title": {
          "text": "Rede"
         },
         "tracegroupgap": 0
        },
        "margin": {
         "t": 60
        },
        "template": {
         "data": {
          "pie": [
           {
            "automargin": true,
            "type": "pie"
           }
          ],
          "scatter": [
           {
            "line": {
             "width": 3
            },
            "marker": {
             "size": 9
            },
            "type": "scatter"
           }
          ],
          "scatter3d": [
           {
            "line": {
             "width": 3
            },
            "marker": {
             "size": 9
            },
            "type": "scatter3d"
           }
          ],
          "scattergeo": [
           {
            "line": {
             "width": 3
            },
            "marker": {
             "size": 9
            },
            "type": "scattergeo"
           }
          ],
          "scattergl": [
           {
            "line": {
             "width": 3
            },
            "marker": {
             "size": 9
            },
            "type": "scattergl"
           }
          ],
          "scatterpolar": [
           {
            "line": {
             "width": 3
            },
            "marker": {
             "size": 9
            },
            "type": "scatterpolar"
           }
          ],
          "scatterpolargl": [
           {
            "line": {
             "width": 3
            },
            "marker": {
             "size": 9
            },
            "type": "scatterpolargl"
           }
          ],
          "scatterternary": [
           {
            "line": {
             "width": 3
            },
            "marker": {
             "size": 9
            },
            "type": "scatterternary"
           }
          ],
          "table": [
           {
            "cells": {
             "height": 30
            },
            "header": {
             "height": 36
            },
            "type": "table"
           }
          ]
         },
         "layout": {
          "font": {
           "size": 18
          },
          "xaxis": {
           "title": {
            "standoff": 15
           }
          },
          "yaxis": {
           "title": {
            "standoff": 15
           }
          }
         }
        },
        "title": {
         "text": "Notas do Ideb, anos finais de 2019",
         "x": 0.5,
         "y": 0.95
        },
        "xaxis": {
         "anchor": "y",
         "domain": [
          0,
          1
         ],
         "title": {
          "text": "Regiões"
         }
        },
        "yaxis": {
         "anchor": "x",
         "domain": [
          0,
          1
         ],
         "title": {
          "text": "IDEB\n2019\n(N x P)"
         }
        }
       }
      },
      "text/html": [
       "<div>                            <div id=\"8be20461-1c97-4e06-a696-107f06a670f2\" class=\"plotly-graph-div\" style=\"height:525px; width:100%;\"></div>            <script type=\"text/javascript\">                require([\"plotly\"], function(Plotly) {                    window.PLOTLYENV=window.PLOTLYENV || {};                                    if (document.getElementById(\"8be20461-1c97-4e06-a696-107f06a670f2\")) {                    Plotly.newPlot(                        \"8be20461-1c97-4e06-a696-107f06a670f2\",                        [{\"alignmentgroup\":\"True\",\"hovertemplate\":\"Rede=P\\u00fablica<br>Regi\\u00f5es=%{x}<br>IDEB\\n2019\\n(N x P)=%{y}<extra></extra>\",\"legendgroup\":\"P\\u00fablica\",\"marker\":{\"color\":\"#4C78A8\",\"pattern\":{\"shape\":\"\"}},\"name\":\"P\\u00fablica\",\"offsetgroup\":\"P\\u00fablica\",\"orientation\":\"v\",\"showlegend\":true,\"textposition\":\"auto\",\"x\":[\"Norte\",\"Sul\",\"Sudeste\",\"Nordeste\",\"Centro-Oeste\"],\"xaxis\":\"x\",\"y\":[4.2,4.8,4.9,4.2,4.8],\"yaxis\":\"y\",\"type\":\"bar\"},{\"alignmentgroup\":\"True\",\"hovertemplate\":\"Rede=Privada<br>Regi\\u00f5es=%{x}<br>IDEB\\n2019\\n(N x P)=%{y}<extra></extra>\",\"legendgroup\":\"Privada\",\"marker\":{\"color\":\"#F58518\",\"pattern\":{\"shape\":\"\"}},\"name\":\"Privada\",\"offsetgroup\":\"Privada\",\"orientation\":\"v\",\"showlegend\":true,\"textposition\":\"auto\",\"x\":[\"Norte\",\"Sul\",\"Sudeste\",\"Nordeste\",\"Centro-Oeste\"],\"xaxis\":\"x\",\"y\":[6.1,6.7,6.6,6.1,6.5],\"yaxis\":\"y\",\"type\":\"bar\"},{\"alignmentgroup\":\"True\",\"hovertemplate\":\"Rede=Estadual<br>Regi\\u00f5es=%{x}<br>IDEB\\n2019\\n(N x P)=%{y}<extra></extra>\",\"legendgroup\":\"Estadual\",\"marker\":{\"color\":\"#E45756\",\"pattern\":{\"shape\":\"\"}},\"name\":\"Estadual\",\"offsetgroup\":\"Estadual\",\"orientation\":\"v\",\"showlegend\":true,\"textposition\":\"auto\",\"x\":[\"Norte\",\"Sul\",\"Sudeste\",\"Nordeste\",\"Centro-Oeste\"],\"xaxis\":\"x\",\"y\":[4.3,4.8,4.9,4.1,4.8],\"yaxis\":\"y\",\"type\":\"bar\"}],                        {\"template\":{\"data\":{\"pie\":[{\"automargin\":true,\"type\":\"pie\"}],\"scatter3d\":[{\"line\":{\"width\":3},\"marker\":{\"size\":9},\"type\":\"scatter3d\"}],\"scattergeo\":[{\"line\":{\"width\":3},\"marker\":{\"size\":9},\"type\":\"scattergeo\"}],\"scattergl\":[{\"line\":{\"width\":3},\"marker\":{\"size\":9},\"type\":\"scattergl\"}],\"scatterpolargl\":[{\"line\":{\"width\":3},\"marker\":{\"size\":9},\"type\":\"scatterpolargl\"}],\"scatterpolar\":[{\"line\":{\"width\":3},\"marker\":{\"size\":9},\"type\":\"scatterpolar\"}],\"scatter\":[{\"line\":{\"width\":3},\"marker\":{\"size\":9},\"type\":\"scatter\"}],\"scatterternary\":[{\"line\":{\"width\":3},\"marker\":{\"size\":9},\"type\":\"scatterternary\"}],\"table\":[{\"cells\":{\"height\":30},\"header\":{\"height\":36},\"type\":\"table\"}]},\"layout\":{\"font\":{\"size\":18},\"xaxis\":{\"title\":{\"standoff\":15}},\"yaxis\":{\"title\":{\"standoff\":15}}}},\"xaxis\":{\"anchor\":\"y\",\"domain\":[0.0,1.0],\"title\":{\"text\":\"Regi\\u00f5es\"}},\"yaxis\":{\"anchor\":\"x\",\"domain\":[0.0,1.0],\"title\":{\"text\":\"IDEB\\n2019\\n(N x P)\"}},\"legend\":{\"title\":{\"text\":\"Rede\"},\"tracegroupgap\":0},\"margin\":{\"t\":60},\"barmode\":\"group\",\"title\":{\"text\":\"Notas do Ideb, anos finais de 2019\",\"y\":0.95,\"x\":0.5}},                        {\"responsive\": true}                    ).then(function(){\n",
       "                            \n",
       "var gd = document.getElementById('8be20461-1c97-4e06-a696-107f06a670f2');\n",
       "var x = new MutationObserver(function (mutations, observer) {{\n",
       "        var display = window.getComputedStyle(gd).display;\n",
       "        if (!display || display === 'none') {{\n",
       "            console.log([gd, 'removed!']);\n",
       "            Plotly.purge(gd);\n",
       "            observer.disconnect();\n",
       "        }}\n",
       "}});\n",
       "\n",
       "// Listen for the removal of the full notebook cells\n",
       "var notebookContainer = gd.closest('#notebook-container');\n",
       "if (notebookContainer) {{\n",
       "    x.observe(notebookContainer, {childList: true});\n",
       "}}\n",
       "\n",
       "// Listen for the clearing of the current output cell\n",
       "var outputEl = gd.closest('.output');\n",
       "if (outputEl) {{\n",
       "    x.observe(outputEl, {childList: true});\n",
       "}}\n",
       "\n",
       "                        })                };                });            </script>        </div>"
      ]
     },
     "metadata": {},
     "output_type": "display_data"
    }
   ],
   "source": [
    "fig1 = px.bar(dados_regioes, x = dados_regioes.index, y = 'IDEB\\n2019\\n(N x P)', color='Rede',\n",
    "            labels={'Região/\\nUnidade da Federação': 'Regiões'},\n",
    "            barmode = 'group', \n",
    "            color_discrete_sequence=px.colors.qualitative.T10, template='presentation')\n",
    "fig1.update_layout(title={'text' : 'Notas do Ideb, anos finais de 2019', 'y': 0.95, 'x': 0.5})\n",
    "fig1.show()"
   ]
  },
  {
   "cell_type": "code",
   "execution_count": 64,
   "metadata": {},
   "outputs": [
    {
     "data": {
      "application/vnd.plotly.v1+json": {
       "config": {
        "plotlyServerURL": "https://plot.ly"
       },
       "data": [
        {
         "alignmentgroup": "True",
         "hovertemplate": "Rede=Pública<br>Regiões=%{x}<br>IDEB\n2017\n(N x P)=%{y}<extra></extra>",
         "legendgroup": "Pública",
         "marker": {
          "color": "#4C78A8",
          "pattern": {
           "shape": ""
          }
         },
         "name": "Pública",
         "offsetgroup": "Pública",
         "orientation": "v",
         "showlegend": true,
         "textposition": "auto",
         "type": "bar",
         "x": [
          "Norte",
          "Sul",
          "Sudeste",
          "Nordeste",
          "Centro-Oeste"
         ],
         "xaxis": "x",
         "y": [
          4.1,
          4.6,
          4.6,
          3.9,
          4.8
         ],
         "yaxis": "y"
        },
        {
         "alignmentgroup": "True",
         "hovertemplate": "Rede=Privada<br>Regiões=%{x}<br>IDEB\n2017\n(N x P)=%{y}<extra></extra>",
         "legendgroup": "Privada",
         "marker": {
          "color": "#F58518",
          "pattern": {
           "shape": ""
          }
         },
         "name": "Privada",
         "offsetgroup": "Privada",
         "orientation": "v",
         "showlegend": true,
         "textposition": "auto",
         "type": "bar",
         "x": [
          "Norte",
          "Sul",
          "Sudeste",
          "Nordeste",
          "Centro-Oeste"
         ],
         "xaxis": "x",
         "y": [
          6,
          6.7,
          6.6,
          5.9,
          6.4
         ],
         "yaxis": "y"
        },
        {
         "alignmentgroup": "True",
         "hovertemplate": "Rede=Estadual<br>Regiões=%{x}<br>IDEB\n2017\n(N x P)=%{y}<extra></extra>",
         "legendgroup": "Estadual",
         "marker": {
          "color": "#E45756",
          "pattern": {
           "shape": ""
          }
         },
         "name": "Estadual",
         "offsetgroup": "Estadual",
         "orientation": "v",
         "showlegend": true,
         "textposition": "auto",
         "type": "bar",
         "x": [
          "Norte",
          "Sul",
          "Sudeste",
          "Nordeste",
          "Centro-Oeste"
         ],
         "xaxis": "x",
         "y": [
          4.2,
          4.6,
          4.6,
          3.8,
          4.8
         ],
         "yaxis": "y"
        }
       ],
       "layout": {
        "barmode": "group",
        "legend": {
         "title": {
          "text": "Rede"
         },
         "tracegroupgap": 0
        },
        "margin": {
         "t": 60
        },
        "template": {
         "data": {
          "pie": [
           {
            "automargin": true,
            "type": "pie"
           }
          ],
          "scatter": [
           {
            "line": {
             "width": 3
            },
            "marker": {
             "size": 9
            },
            "type": "scatter"
           }
          ],
          "scatter3d": [
           {
            "line": {
             "width": 3
            },
            "marker": {
             "size": 9
            },
            "type": "scatter3d"
           }
          ],
          "scattergeo": [
           {
            "line": {
             "width": 3
            },
            "marker": {
             "size": 9
            },
            "type": "scattergeo"
           }
          ],
          "scattergl": [
           {
            "line": {
             "width": 3
            },
            "marker": {
             "size": 9
            },
            "type": "scattergl"
           }
          ],
          "scatterpolar": [
           {
            "line": {
             "width": 3
            },
            "marker": {
             "size": 9
            },
            "type": "scatterpolar"
           }
          ],
          "scatterpolargl": [
           {
            "line": {
             "width": 3
            },
            "marker": {
             "size": 9
            },
            "type": "scatterpolargl"
           }
          ],
          "scatterternary": [
           {
            "line": {
             "width": 3
            },
            "marker": {
             "size": 9
            },
            "type": "scatterternary"
           }
          ],
          "table": [
           {
            "cells": {
             "height": 30
            },
            "header": {
             "height": 36
            },
            "type": "table"
           }
          ]
         },
         "layout": {
          "font": {
           "size": 18
          },
          "xaxis": {
           "title": {
            "standoff": 15
           }
          },
          "yaxis": {
           "title": {
            "standoff": 15
           }
          }
         }
        },
        "title": {
         "text": "Notas do Ideb, anos finais de 2017",
         "x": 0.5,
         "y": 0.95
        },
        "xaxis": {
         "anchor": "y",
         "domain": [
          0,
          1
         ],
         "title": {
          "text": "Regiões"
         }
        },
        "yaxis": {
         "anchor": "x",
         "domain": [
          0,
          1
         ],
         "title": {
          "text": "IDEB\n2017\n(N x P)"
         }
        }
       }
      },
      "text/html": [
       "<div>                            <div id=\"d034a98f-f528-4591-a774-79d9218ba92c\" class=\"plotly-graph-div\" style=\"height:525px; width:100%;\"></div>            <script type=\"text/javascript\">                require([\"plotly\"], function(Plotly) {                    window.PLOTLYENV=window.PLOTLYENV || {};                                    if (document.getElementById(\"d034a98f-f528-4591-a774-79d9218ba92c\")) {                    Plotly.newPlot(                        \"d034a98f-f528-4591-a774-79d9218ba92c\",                        [{\"alignmentgroup\":\"True\",\"hovertemplate\":\"Rede=P\\u00fablica<br>Regi\\u00f5es=%{x}<br>IDEB\\n2017\\n(N x P)=%{y}<extra></extra>\",\"legendgroup\":\"P\\u00fablica\",\"marker\":{\"color\":\"#4C78A8\",\"pattern\":{\"shape\":\"\"}},\"name\":\"P\\u00fablica\",\"offsetgroup\":\"P\\u00fablica\",\"orientation\":\"v\",\"showlegend\":true,\"textposition\":\"auto\",\"x\":[\"Norte\",\"Sul\",\"Sudeste\",\"Nordeste\",\"Centro-Oeste\"],\"xaxis\":\"x\",\"y\":[4.1,4.6,4.6,3.9,4.8],\"yaxis\":\"y\",\"type\":\"bar\"},{\"alignmentgroup\":\"True\",\"hovertemplate\":\"Rede=Privada<br>Regi\\u00f5es=%{x}<br>IDEB\\n2017\\n(N x P)=%{y}<extra></extra>\",\"legendgroup\":\"Privada\",\"marker\":{\"color\":\"#F58518\",\"pattern\":{\"shape\":\"\"}},\"name\":\"Privada\",\"offsetgroup\":\"Privada\",\"orientation\":\"v\",\"showlegend\":true,\"textposition\":\"auto\",\"x\":[\"Norte\",\"Sul\",\"Sudeste\",\"Nordeste\",\"Centro-Oeste\"],\"xaxis\":\"x\",\"y\":[6.0,6.7,6.6,5.9,6.4],\"yaxis\":\"y\",\"type\":\"bar\"},{\"alignmentgroup\":\"True\",\"hovertemplate\":\"Rede=Estadual<br>Regi\\u00f5es=%{x}<br>IDEB\\n2017\\n(N x P)=%{y}<extra></extra>\",\"legendgroup\":\"Estadual\",\"marker\":{\"color\":\"#E45756\",\"pattern\":{\"shape\":\"\"}},\"name\":\"Estadual\",\"offsetgroup\":\"Estadual\",\"orientation\":\"v\",\"showlegend\":true,\"textposition\":\"auto\",\"x\":[\"Norte\",\"Sul\",\"Sudeste\",\"Nordeste\",\"Centro-Oeste\"],\"xaxis\":\"x\",\"y\":[4.2,4.6,4.6,3.8,4.8],\"yaxis\":\"y\",\"type\":\"bar\"}],                        {\"template\":{\"data\":{\"pie\":[{\"automargin\":true,\"type\":\"pie\"}],\"scatter3d\":[{\"line\":{\"width\":3},\"marker\":{\"size\":9},\"type\":\"scatter3d\"}],\"scattergeo\":[{\"line\":{\"width\":3},\"marker\":{\"size\":9},\"type\":\"scattergeo\"}],\"scattergl\":[{\"line\":{\"width\":3},\"marker\":{\"size\":9},\"type\":\"scattergl\"}],\"scatterpolargl\":[{\"line\":{\"width\":3},\"marker\":{\"size\":9},\"type\":\"scatterpolargl\"}],\"scatterpolar\":[{\"line\":{\"width\":3},\"marker\":{\"size\":9},\"type\":\"scatterpolar\"}],\"scatter\":[{\"line\":{\"width\":3},\"marker\":{\"size\":9},\"type\":\"scatter\"}],\"scatterternary\":[{\"line\":{\"width\":3},\"marker\":{\"size\":9},\"type\":\"scatterternary\"}],\"table\":[{\"cells\":{\"height\":30},\"header\":{\"height\":36},\"type\":\"table\"}]},\"layout\":{\"font\":{\"size\":18},\"xaxis\":{\"title\":{\"standoff\":15}},\"yaxis\":{\"title\":{\"standoff\":15}}}},\"xaxis\":{\"anchor\":\"y\",\"domain\":[0.0,1.0],\"title\":{\"text\":\"Regi\\u00f5es\"}},\"yaxis\":{\"anchor\":\"x\",\"domain\":[0.0,1.0],\"title\":{\"text\":\"IDEB\\n2017\\n(N x P)\"}},\"legend\":{\"title\":{\"text\":\"Rede\"},\"tracegroupgap\":0},\"margin\":{\"t\":60},\"barmode\":\"group\",\"title\":{\"text\":\"Notas do Ideb, anos finais de 2017\",\"y\":0.95,\"x\":0.5}},                        {\"responsive\": true}                    ).then(function(){\n",
       "                            \n",
       "var gd = document.getElementById('d034a98f-f528-4591-a774-79d9218ba92c');\n",
       "var x = new MutationObserver(function (mutations, observer) {{\n",
       "        var display = window.getComputedStyle(gd).display;\n",
       "        if (!display || display === 'none') {{\n",
       "            console.log([gd, 'removed!']);\n",
       "            Plotly.purge(gd);\n",
       "            observer.disconnect();\n",
       "        }}\n",
       "}});\n",
       "\n",
       "// Listen for the removal of the full notebook cells\n",
       "var notebookContainer = gd.closest('#notebook-container');\n",
       "if (notebookContainer) {{\n",
       "    x.observe(notebookContainer, {childList: true});\n",
       "}}\n",
       "\n",
       "// Listen for the clearing of the current output cell\n",
       "var outputEl = gd.closest('.output');\n",
       "if (outputEl) {{\n",
       "    x.observe(outputEl, {childList: true});\n",
       "}}\n",
       "\n",
       "                        })                };                });            </script>        </div>"
      ]
     },
     "metadata": {},
     "output_type": "display_data"
    }
   ],
   "source": [
    "fig2 = px.bar(dados_regioes, x = dados_regioes.index, y = 'IDEB\\n2017\\n(N x P)', color='Rede',\n",
    "            labels={'Região/\\nUnidade da Federação': 'Regiões'},\n",
    "            barmode = 'group', \n",
    "            color_discrete_sequence=px.colors.qualitative.T10, template='presentation')\n",
    "fig2.update_layout(title={'text' : 'Notas do Ideb, anos finais de 2017', 'y': 0.95, 'x': 0.5})\n",
    "fig2.show()"
   ]
  },
  {
   "cell_type": "code",
   "execution_count": 65,
   "metadata": {},
   "outputs": [
    {
     "data": {
      "application/vnd.plotly.v1+json": {
       "config": {
        "plotlyServerURL": "https://plot.ly"
       },
       "data": [
        {
         "alignmentgroup": "True",
         "hovertemplate": "Rede=Pública<br>Regiões=%{x}<br>IDEB\n2015\n(N x P)=%{y}<extra></extra>",
         "legendgroup": "Pública",
         "marker": {
          "color": "#4C78A8",
          "pattern": {
           "shape": ""
          }
         },
         "name": "Pública",
         "offsetgroup": "Pública",
         "orientation": "v",
         "showlegend": true,
         "textposition": "auto",
         "type": "bar",
         "x": [
          "Norte",
          "Sul",
          "Sudeste",
          "Nordeste",
          "Centro-Oeste"
         ],
         "xaxis": "x",
         "y": [
          3.9,
          4.4,
          4.5,
          3.7,
          4.4
         ],
         "yaxis": "y"
        },
        {
         "alignmentgroup": "True",
         "hovertemplate": "Rede=Privada<br>Regiões=%{x}<br>IDEB\n2015\n(N x P)=%{y}<extra></extra>",
         "legendgroup": "Privada",
         "marker": {
          "color": "#F58518",
          "pattern": {
           "shape": ""
          }
         },
         "name": "Privada",
         "offsetgroup": "Privada",
         "orientation": "v",
         "showlegend": true,
         "textposition": "auto",
         "type": "bar",
         "x": [
          "Norte",
          "Sul",
          "Sudeste",
          "Nordeste",
          "Centro-Oeste"
         ],
         "xaxis": "x",
         "y": [
          5.6,
          6.5,
          6.2,
          5.7,
          6.2
         ],
         "yaxis": "y"
        },
        {
         "alignmentgroup": "True",
         "hovertemplate": "Rede=Estadual<br>Regiões=%{x}<br>IDEB\n2015\n(N x P)=%{y}<extra></extra>",
         "legendgroup": "Estadual",
         "marker": {
          "color": "#E45756",
          "pattern": {
           "shape": ""
          }
         },
         "name": "Estadual",
         "offsetgroup": "Estadual",
         "orientation": "v",
         "showlegend": true,
         "textposition": "auto",
         "type": "bar",
         "x": [
          "Norte",
          "Sul",
          "Sudeste",
          "Nordeste",
          "Centro-Oeste"
         ],
         "xaxis": "x",
         "y": [
          3.9,
          4.3,
          4.5,
          3.5,
          4.4
         ],
         "yaxis": "y"
        }
       ],
       "layout": {
        "barmode": "group",
        "legend": {
         "title": {
          "text": "Rede"
         },
         "tracegroupgap": 0
        },
        "margin": {
         "t": 60
        },
        "template": {
         "data": {
          "pie": [
           {
            "automargin": true,
            "type": "pie"
           }
          ],
          "scatter": [
           {
            "line": {
             "width": 3
            },
            "marker": {
             "size": 9
            },
            "type": "scatter"
           }
          ],
          "scatter3d": [
           {
            "line": {
             "width": 3
            },
            "marker": {
             "size": 9
            },
            "type": "scatter3d"
           }
          ],
          "scattergeo": [
           {
            "line": {
             "width": 3
            },
            "marker": {
             "size": 9
            },
            "type": "scattergeo"
           }
          ],
          "scattergl": [
           {
            "line": {
             "width": 3
            },
            "marker": {
             "size": 9
            },
            "type": "scattergl"
           }
          ],
          "scatterpolar": [
           {
            "line": {
             "width": 3
            },
            "marker": {
             "size": 9
            },
            "type": "scatterpolar"
           }
          ],
          "scatterpolargl": [
           {
            "line": {
             "width": 3
            },
            "marker": {
             "size": 9
            },
            "type": "scatterpolargl"
           }
          ],
          "scatterternary": [
           {
            "line": {
             "width": 3
            },
            "marker": {
             "size": 9
            },
            "type": "scatterternary"
           }
          ],
          "table": [
           {
            "cells": {
             "height": 30
            },
            "header": {
             "height": 36
            },
            "type": "table"
           }
          ]
         },
         "layout": {
          "font": {
           "size": 18
          },
          "xaxis": {
           "title": {
            "standoff": 15
           }
          },
          "yaxis": {
           "title": {
            "standoff": 15
           }
          }
         }
        },
        "title": {
         "text": "Notas do Ideb, anos finais de 2015",
         "x": 0.5,
         "y": 0.95
        },
        "xaxis": {
         "anchor": "y",
         "domain": [
          0,
          1
         ],
         "title": {
          "text": "Regiões"
         }
        },
        "yaxis": {
         "anchor": "x",
         "domain": [
          0,
          1
         ],
         "title": {
          "text": "IDEB\n2015\n(N x P)"
         }
        }
       }
      },
      "text/html": [
       "<div>                            <div id=\"415b7d9a-06a8-443a-b377-e7efd5a2eba1\" class=\"plotly-graph-div\" style=\"height:525px; width:100%;\"></div>            <script type=\"text/javascript\">                require([\"plotly\"], function(Plotly) {                    window.PLOTLYENV=window.PLOTLYENV || {};                                    if (document.getElementById(\"415b7d9a-06a8-443a-b377-e7efd5a2eba1\")) {                    Plotly.newPlot(                        \"415b7d9a-06a8-443a-b377-e7efd5a2eba1\",                        [{\"alignmentgroup\":\"True\",\"hovertemplate\":\"Rede=P\\u00fablica<br>Regi\\u00f5es=%{x}<br>IDEB\\n2015\\n(N x P)=%{y}<extra></extra>\",\"legendgroup\":\"P\\u00fablica\",\"marker\":{\"color\":\"#4C78A8\",\"pattern\":{\"shape\":\"\"}},\"name\":\"P\\u00fablica\",\"offsetgroup\":\"P\\u00fablica\",\"orientation\":\"v\",\"showlegend\":true,\"textposition\":\"auto\",\"x\":[\"Norte\",\"Sul\",\"Sudeste\",\"Nordeste\",\"Centro-Oeste\"],\"xaxis\":\"x\",\"y\":[3.9,4.4,4.5,3.7,4.4],\"yaxis\":\"y\",\"type\":\"bar\"},{\"alignmentgroup\":\"True\",\"hovertemplate\":\"Rede=Privada<br>Regi\\u00f5es=%{x}<br>IDEB\\n2015\\n(N x P)=%{y}<extra></extra>\",\"legendgroup\":\"Privada\",\"marker\":{\"color\":\"#F58518\",\"pattern\":{\"shape\":\"\"}},\"name\":\"Privada\",\"offsetgroup\":\"Privada\",\"orientation\":\"v\",\"showlegend\":true,\"textposition\":\"auto\",\"x\":[\"Norte\",\"Sul\",\"Sudeste\",\"Nordeste\",\"Centro-Oeste\"],\"xaxis\":\"x\",\"y\":[5.6,6.5,6.2,5.7,6.2],\"yaxis\":\"y\",\"type\":\"bar\"},{\"alignmentgroup\":\"True\",\"hovertemplate\":\"Rede=Estadual<br>Regi\\u00f5es=%{x}<br>IDEB\\n2015\\n(N x P)=%{y}<extra></extra>\",\"legendgroup\":\"Estadual\",\"marker\":{\"color\":\"#E45756\",\"pattern\":{\"shape\":\"\"}},\"name\":\"Estadual\",\"offsetgroup\":\"Estadual\",\"orientation\":\"v\",\"showlegend\":true,\"textposition\":\"auto\",\"x\":[\"Norte\",\"Sul\",\"Sudeste\",\"Nordeste\",\"Centro-Oeste\"],\"xaxis\":\"x\",\"y\":[3.9,4.3,4.5,3.5,4.4],\"yaxis\":\"y\",\"type\":\"bar\"}],                        {\"template\":{\"data\":{\"pie\":[{\"automargin\":true,\"type\":\"pie\"}],\"scatter3d\":[{\"line\":{\"width\":3},\"marker\":{\"size\":9},\"type\":\"scatter3d\"}],\"scattergeo\":[{\"line\":{\"width\":3},\"marker\":{\"size\":9},\"type\":\"scattergeo\"}],\"scattergl\":[{\"line\":{\"width\":3},\"marker\":{\"size\":9},\"type\":\"scattergl\"}],\"scatterpolargl\":[{\"line\":{\"width\":3},\"marker\":{\"size\":9},\"type\":\"scatterpolargl\"}],\"scatterpolar\":[{\"line\":{\"width\":3},\"marker\":{\"size\":9},\"type\":\"scatterpolar\"}],\"scatter\":[{\"line\":{\"width\":3},\"marker\":{\"size\":9},\"type\":\"scatter\"}],\"scatterternary\":[{\"line\":{\"width\":3},\"marker\":{\"size\":9},\"type\":\"scatterternary\"}],\"table\":[{\"cells\":{\"height\":30},\"header\":{\"height\":36},\"type\":\"table\"}]},\"layout\":{\"font\":{\"size\":18},\"xaxis\":{\"title\":{\"standoff\":15}},\"yaxis\":{\"title\":{\"standoff\":15}}}},\"xaxis\":{\"anchor\":\"y\",\"domain\":[0.0,1.0],\"title\":{\"text\":\"Regi\\u00f5es\"}},\"yaxis\":{\"anchor\":\"x\",\"domain\":[0.0,1.0],\"title\":{\"text\":\"IDEB\\n2015\\n(N x P)\"}},\"legend\":{\"title\":{\"text\":\"Rede\"},\"tracegroupgap\":0},\"margin\":{\"t\":60},\"barmode\":\"group\",\"title\":{\"text\":\"Notas do Ideb, anos finais de 2015\",\"y\":0.95,\"x\":0.5}},                        {\"responsive\": true}                    ).then(function(){\n",
       "                            \n",
       "var gd = document.getElementById('415b7d9a-06a8-443a-b377-e7efd5a2eba1');\n",
       "var x = new MutationObserver(function (mutations, observer) {{\n",
       "        var display = window.getComputedStyle(gd).display;\n",
       "        if (!display || display === 'none') {{\n",
       "            console.log([gd, 'removed!']);\n",
       "            Plotly.purge(gd);\n",
       "            observer.disconnect();\n",
       "        }}\n",
       "}});\n",
       "\n",
       "// Listen for the removal of the full notebook cells\n",
       "var notebookContainer = gd.closest('#notebook-container');\n",
       "if (notebookContainer) {{\n",
       "    x.observe(notebookContainer, {childList: true});\n",
       "}}\n",
       "\n",
       "// Listen for the clearing of the current output cell\n",
       "var outputEl = gd.closest('.output');\n",
       "if (outputEl) {{\n",
       "    x.observe(outputEl, {childList: true});\n",
       "}}\n",
       "\n",
       "                        })                };                });            </script>        </div>"
      ]
     },
     "metadata": {},
     "output_type": "display_data"
    }
   ],
   "source": [
    "fig2 = px.bar(dados_regioes, x = dados_regioes.index, y = 'IDEB\\n2015\\n(N x P)', color='Rede',\n",
    "            labels={'Região/\\nUnidade da Federação': 'Regiões'},\n",
    "            barmode = 'group', \n",
    "            color_discrete_sequence=px.colors.qualitative.T10, template='presentation')\n",
    "fig2.update_layout(title={'text' : 'Notas do Ideb, anos finais de 2015', 'y': 0.95, 'x': 0.5})\n",
    "fig2.show()"
   ]
  },
  {
   "cell_type": "code",
   "execution_count": 59,
   "metadata": {},
   "outputs": [
    {
     "data": {
      "text/html": [
       "<div>\n",
       "<style scoped>\n",
       "    .dataframe tbody tr th:only-of-type {\n",
       "        vertical-align: middle;\n",
       "    }\n",
       "\n",
       "    .dataframe tbody tr th {\n",
       "        vertical-align: top;\n",
       "    }\n",
       "\n",
       "    .dataframe thead th {\n",
       "        text-align: right;\n",
       "    }\n",
       "</style>\n",
       "<table border=\"1\" class=\"dataframe\">\n",
       "  <thead>\n",
       "    <tr style=\"text-align: right;\">\n",
       "      <th></th>\n",
       "      <th>Rede</th>\n",
       "      <th>6º a 9º ano</th>\n",
       "      <th>6º</th>\n",
       "      <th>7º</th>\n",
       "      <th>8º</th>\n",
       "      <th>9º</th>\n",
       "      <th>Indicador de Rendimento (P)</th>\n",
       "      <th>6º a 9º ano.1</th>\n",
       "      <th>6º.1</th>\n",
       "      <th>7º.1</th>\n",
       "      <th>...</th>\n",
       "      <th>IDEB\\n2017\\n(N x P)</th>\n",
       "      <th>IDEB\\n2019\\n(N x P)</th>\n",
       "      <th>2007</th>\n",
       "      <th>2009</th>\n",
       "      <th>2011</th>\n",
       "      <th>2013</th>\n",
       "      <th>2015</th>\n",
       "      <th>2017</th>\n",
       "      <th>2019</th>\n",
       "      <th>2021</th>\n",
       "    </tr>\n",
       "    <tr>\n",
       "      <th>Região/\n",
       "Unidade da Federação</th>\n",
       "      <th></th>\n",
       "      <th></th>\n",
       "      <th></th>\n",
       "      <th></th>\n",
       "      <th></th>\n",
       "      <th></th>\n",
       "      <th></th>\n",
       "      <th></th>\n",
       "      <th></th>\n",
       "      <th></th>\n",
       "      <th></th>\n",
       "      <th></th>\n",
       "      <th></th>\n",
       "      <th></th>\n",
       "      <th></th>\n",
       "      <th></th>\n",
       "      <th></th>\n",
       "      <th></th>\n",
       "      <th></th>\n",
       "      <th></th>\n",
       "      <th></th>\n",
       "    </tr>\n",
       "  </thead>\n",
       "  <tbody>\n",
       "    <tr>\n",
       "      <th>Norte</th>\n",
       "      <td>Pública</td>\n",
       "      <td>74.1</td>\n",
       "      <td>69.8</td>\n",
       "      <td>74.5</td>\n",
       "      <td>77.3</td>\n",
       "      <td>77.7</td>\n",
       "      <td>0.746881</td>\n",
       "      <td>75.9</td>\n",
       "      <td>71.4</td>\n",
       "      <td>75.9</td>\n",
       "      <td>...</td>\n",
       "      <td>4.1</td>\n",
       "      <td>4.2</td>\n",
       "      <td>3.1</td>\n",
       "      <td>3.2</td>\n",
       "      <td>3.5</td>\n",
       "      <td>3.9</td>\n",
       "      <td>4.3</td>\n",
       "      <td>4.5</td>\n",
       "      <td>4.8</td>\n",
       "      <td>5.1</td>\n",
       "    </tr>\n",
       "    <tr>\n",
       "      <th>Norte</th>\n",
       "      <td>Privada</td>\n",
       "      <td>95.1</td>\n",
       "      <td>95.6</td>\n",
       "      <td>95.3</td>\n",
       "      <td>95.5</td>\n",
       "      <td>93.8</td>\n",
       "      <td>0.950444</td>\n",
       "      <td>95.3</td>\n",
       "      <td>95.5</td>\n",
       "      <td>95.4</td>\n",
       "      <td>...</td>\n",
       "      <td>6.0</td>\n",
       "      <td>6.1</td>\n",
       "      <td>5.4</td>\n",
       "      <td>5.5</td>\n",
       "      <td>5.8</td>\n",
       "      <td>6.1</td>\n",
       "      <td>6.4</td>\n",
       "      <td>6.6</td>\n",
       "      <td>6.8</td>\n",
       "      <td>7.0</td>\n",
       "    </tr>\n",
       "    <tr>\n",
       "      <th>Norte</th>\n",
       "      <td>Estadual</td>\n",
       "      <td>75.3</td>\n",
       "      <td>72.0</td>\n",
       "      <td>75.4</td>\n",
       "      <td>77.5</td>\n",
       "      <td>77.3</td>\n",
       "      <td>0.754841</td>\n",
       "      <td>76.0</td>\n",
       "      <td>72.5</td>\n",
       "      <td>75.3</td>\n",
       "      <td>...</td>\n",
       "      <td>4.2</td>\n",
       "      <td>4.3</td>\n",
       "      <td>3.1</td>\n",
       "      <td>3.3</td>\n",
       "      <td>3.5</td>\n",
       "      <td>3.9</td>\n",
       "      <td>4.3</td>\n",
       "      <td>4.6</td>\n",
       "      <td>4.9</td>\n",
       "      <td>5.1</td>\n",
       "    </tr>\n",
       "    <tr>\n",
       "      <th>Sul</th>\n",
       "      <td>Pública</td>\n",
       "      <td>77.2</td>\n",
       "      <td>74.3</td>\n",
       "      <td>75.4</td>\n",
       "      <td>77.9</td>\n",
       "      <td>82.8</td>\n",
       "      <td>0.774656</td>\n",
       "      <td>81.1</td>\n",
       "      <td>78.3</td>\n",
       "      <td>79.7</td>\n",
       "      <td>...</td>\n",
       "      <td>4.6</td>\n",
       "      <td>4.8</td>\n",
       "      <td>3.6</td>\n",
       "      <td>3.8</td>\n",
       "      <td>4.1</td>\n",
       "      <td>4.5</td>\n",
       "      <td>4.8</td>\n",
       "      <td>5.1</td>\n",
       "      <td>5.4</td>\n",
       "      <td>5.6</td>\n",
       "    </tr>\n",
       "    <tr>\n",
       "      <th>Sul</th>\n",
       "      <td>Privada</td>\n",
       "      <td>96.1</td>\n",
       "      <td>96.8</td>\n",
       "      <td>96.1</td>\n",
       "      <td>95.6</td>\n",
       "      <td>95.7</td>\n",
       "      <td>0.960477</td>\n",
       "      <td>96.0</td>\n",
       "      <td>96.7</td>\n",
       "      <td>95.9</td>\n",
       "      <td>...</td>\n",
       "      <td>6.7</td>\n",
       "      <td>6.7</td>\n",
       "      <td>6.1</td>\n",
       "      <td>6.2</td>\n",
       "      <td>6.4</td>\n",
       "      <td>6.7</td>\n",
       "      <td>7.0</td>\n",
       "      <td>7.2</td>\n",
       "      <td>7.3</td>\n",
       "      <td>7.5</td>\n",
       "    </tr>\n",
       "  </tbody>\n",
       "</table>\n",
       "<p>5 rows × 89 columns</p>\n",
       "</div>"
      ],
      "text/plain": [
       "                                   Rede  6º a 9º ano    6º    7º    8º    9º  \\\n",
       "Região/\\nUnidade da Federação                                                  \n",
       "Norte                           Pública         74.1  69.8  74.5  77.3  77.7   \n",
       "Norte                           Privada         95.1  95.6  95.3  95.5  93.8   \n",
       "Norte                          Estadual         75.3  72.0  75.4  77.5  77.3   \n",
       "Sul                             Pública         77.2  74.3  75.4  77.9  82.8   \n",
       "Sul                             Privada         96.1  96.8  96.1  95.6  95.7   \n",
       "\n",
       "                               Indicador de Rendimento (P)  6º a 9º ano.1  \\\n",
       "Região/\\nUnidade da Federação                                               \n",
       "Norte                                             0.746881           75.9   \n",
       "Norte                                             0.950444           95.3   \n",
       "Norte                                             0.754841           76.0   \n",
       "Sul                                               0.774656           81.1   \n",
       "Sul                                               0.960477           96.0   \n",
       "\n",
       "                               6º.1  7º.1  ...  IDEB\\n2017\\n(N x P)  \\\n",
       "Região/\\nUnidade da Federação              ...                        \n",
       "Norte                          71.4  75.9  ...                  4.1   \n",
       "Norte                          95.5  95.4  ...                  6.0   \n",
       "Norte                          72.5  75.3  ...                  4.2   \n",
       "Sul                            78.3  79.7  ...                  4.6   \n",
       "Sul                            96.7  95.9  ...                  6.7   \n",
       "\n",
       "                               IDEB\\n2019\\n(N x P)  2007  2009  2011  2013  \\\n",
       "Região/\\nUnidade da Federação                                                \n",
       "Norte                                          4.2   3.1   3.2   3.5   3.9   \n",
       "Norte                                          6.1   5.4   5.5   5.8   6.1   \n",
       "Norte                                          4.3   3.1   3.3   3.5   3.9   \n",
       "Sul                                            4.8   3.6   3.8   4.1   4.5   \n",
       "Sul                                            6.7   6.1   6.2   6.4   6.7   \n",
       "\n",
       "                               2015  2017  2019  2021  \n",
       "Região/\\nUnidade da Federação                          \n",
       "Norte                           4.3   4.5   4.8   5.1  \n",
       "Norte                           6.4   6.6   6.8   7.0  \n",
       "Norte                           4.3   4.6   4.9   5.1  \n",
       "Sul                             4.8   5.1   5.4   5.6  \n",
       "Sul                             7.0   7.2   7.3   7.5  \n",
       "\n",
       "[5 rows x 89 columns]"
      ]
     },
     "execution_count": 59,
     "metadata": {},
     "output_type": "execute_result"
    }
   ],
   "source": [
    "dados_regioes.head()"
   ]
  },
  {
   "cell_type": "code",
   "execution_count": 61,
   "metadata": {},
   "outputs": [
    {
     "data": {
      "text/html": [
       "<div>\n",
       "<style scoped>\n",
       "    .dataframe tbody tr th:only-of-type {\n",
       "        vertical-align: middle;\n",
       "    }\n",
       "\n",
       "    .dataframe tbody tr th {\n",
       "        vertical-align: top;\n",
       "    }\n",
       "\n",
       "    .dataframe thead th {\n",
       "        text-align: right;\n",
       "    }\n",
       "</style>\n",
       "<table border=\"1\" class=\"dataframe\">\n",
       "  <thead>\n",
       "    <tr style=\"text-align: right;\">\n",
       "      <th></th>\n",
       "      <th>Região/\\nUnidade da Federação</th>\n",
       "      <th>6º a 9º ano</th>\n",
       "      <th>6º</th>\n",
       "      <th>7º</th>\n",
       "      <th>8º</th>\n",
       "      <th>9º</th>\n",
       "      <th>Indicador de Rendimento (P)</th>\n",
       "      <th>6º a 9º ano.1</th>\n",
       "      <th>6º.1</th>\n",
       "      <th>7º.1</th>\n",
       "      <th>...</th>\n",
       "      <th>IDEB\\n2017\\n(N x P)</th>\n",
       "      <th>IDEB\\n2019\\n(N x P)</th>\n",
       "      <th>2007</th>\n",
       "      <th>2009</th>\n",
       "      <th>2011</th>\n",
       "      <th>2013</th>\n",
       "      <th>2015</th>\n",
       "      <th>2017</th>\n",
       "      <th>2019</th>\n",
       "      <th>2021</th>\n",
       "    </tr>\n",
       "    <tr>\n",
       "      <th>Rede</th>\n",
       "      <th></th>\n",
       "      <th></th>\n",
       "      <th></th>\n",
       "      <th></th>\n",
       "      <th></th>\n",
       "      <th></th>\n",
       "      <th></th>\n",
       "      <th></th>\n",
       "      <th></th>\n",
       "      <th></th>\n",
       "      <th></th>\n",
       "      <th></th>\n",
       "      <th></th>\n",
       "      <th></th>\n",
       "      <th></th>\n",
       "      <th></th>\n",
       "      <th></th>\n",
       "      <th></th>\n",
       "      <th></th>\n",
       "      <th></th>\n",
       "      <th></th>\n",
       "    </tr>\n",
       "  </thead>\n",
       "  <tbody>\n",
       "    <tr>\n",
       "      <th>Pública</th>\n",
       "      <td>Norte</td>\n",
       "      <td>74.1</td>\n",
       "      <td>69.8</td>\n",
       "      <td>74.5</td>\n",
       "      <td>77.3</td>\n",
       "      <td>77.7</td>\n",
       "      <td>0.746881</td>\n",
       "      <td>75.9</td>\n",
       "      <td>71.4</td>\n",
       "      <td>75.9</td>\n",
       "      <td>...</td>\n",
       "      <td>4.1</td>\n",
       "      <td>4.2</td>\n",
       "      <td>3.1</td>\n",
       "      <td>3.2</td>\n",
       "      <td>3.5</td>\n",
       "      <td>3.9</td>\n",
       "      <td>4.3</td>\n",
       "      <td>4.5</td>\n",
       "      <td>4.8</td>\n",
       "      <td>5.1</td>\n",
       "    </tr>\n",
       "    <tr>\n",
       "      <th>Pública</th>\n",
       "      <td>Sul</td>\n",
       "      <td>77.2</td>\n",
       "      <td>74.3</td>\n",
       "      <td>75.4</td>\n",
       "      <td>77.9</td>\n",
       "      <td>82.8</td>\n",
       "      <td>0.774656</td>\n",
       "      <td>81.1</td>\n",
       "      <td>78.3</td>\n",
       "      <td>79.7</td>\n",
       "      <td>...</td>\n",
       "      <td>4.6</td>\n",
       "      <td>4.8</td>\n",
       "      <td>3.6</td>\n",
       "      <td>3.8</td>\n",
       "      <td>4.1</td>\n",
       "      <td>4.5</td>\n",
       "      <td>4.8</td>\n",
       "      <td>5.1</td>\n",
       "      <td>5.4</td>\n",
       "      <td>5.6</td>\n",
       "    </tr>\n",
       "    <tr>\n",
       "      <th>Pública</th>\n",
       "      <td>Sudeste</td>\n",
       "      <td>81.8</td>\n",
       "      <td>81.9</td>\n",
       "      <td>82.7</td>\n",
       "      <td>83.8</td>\n",
       "      <td>78.5</td>\n",
       "      <td>0.816761</td>\n",
       "      <td>83.2</td>\n",
       "      <td>83.2</td>\n",
       "      <td>84.8</td>\n",
       "      <td>...</td>\n",
       "      <td>4.6</td>\n",
       "      <td>4.9</td>\n",
       "      <td>3.7</td>\n",
       "      <td>3.8</td>\n",
       "      <td>4.1</td>\n",
       "      <td>4.5</td>\n",
       "      <td>4.9</td>\n",
       "      <td>5.1</td>\n",
       "      <td>5.4</td>\n",
       "      <td>5.6</td>\n",
       "    </tr>\n",
       "    <tr>\n",
       "      <th>Pública</th>\n",
       "      <td>Nordeste</td>\n",
       "      <td>67.1</td>\n",
       "      <td>59.5</td>\n",
       "      <td>67.5</td>\n",
       "      <td>71.0</td>\n",
       "      <td>75.5</td>\n",
       "      <td>0.678529</td>\n",
       "      <td>71.0</td>\n",
       "      <td>64.1</td>\n",
       "      <td>71.1</td>\n",
       "      <td>...</td>\n",
       "      <td>3.9</td>\n",
       "      <td>4.2</td>\n",
       "      <td>2.6</td>\n",
       "      <td>2.8</td>\n",
       "      <td>3.0</td>\n",
       "      <td>3.4</td>\n",
       "      <td>3.8</td>\n",
       "      <td>4.1</td>\n",
       "      <td>4.3</td>\n",
       "      <td>4.6</td>\n",
       "    </tr>\n",
       "    <tr>\n",
       "      <th>Pública</th>\n",
       "      <td>Centro-Oeste</td>\n",
       "      <td>72.8</td>\n",
       "      <td>70.0</td>\n",
       "      <td>72.8</td>\n",
       "      <td>74.2</td>\n",
       "      <td>75.0</td>\n",
       "      <td>0.729496</td>\n",
       "      <td>78.4</td>\n",
       "      <td>76.0</td>\n",
       "      <td>78.9</td>\n",
       "      <td>...</td>\n",
       "      <td>4.8</td>\n",
       "      <td>4.8</td>\n",
       "      <td>3.2</td>\n",
       "      <td>3.3</td>\n",
       "      <td>3.6</td>\n",
       "      <td>4.0</td>\n",
       "      <td>4.4</td>\n",
       "      <td>4.7</td>\n",
       "      <td>4.9</td>\n",
       "      <td>5.2</td>\n",
       "    </tr>\n",
       "  </tbody>\n",
       "</table>\n",
       "<p>5 rows × 89 columns</p>\n",
       "</div>"
      ],
      "text/plain": [
       "        Região/\\nUnidade da Federação  6º a 9º ano    6º    7º    8º    9º  \\\n",
       "Rede                                                                         \n",
       "Pública                         Norte         74.1  69.8  74.5  77.3  77.7   \n",
       "Pública                           Sul         77.2  74.3  75.4  77.9  82.8   \n",
       "Pública                       Sudeste         81.8  81.9  82.7  83.8  78.5   \n",
       "Pública                      Nordeste         67.1  59.5  67.5  71.0  75.5   \n",
       "Pública                  Centro-Oeste         72.8  70.0  72.8  74.2  75.0   \n",
       "\n",
       "         Indicador de Rendimento (P)  6º a 9º ano.1  6º.1  7º.1  ...  \\\n",
       "Rede                                                             ...   \n",
       "Pública                     0.746881           75.9  71.4  75.9  ...   \n",
       "Pública                     0.774656           81.1  78.3  79.7  ...   \n",
       "Pública                     0.816761           83.2  83.2  84.8  ...   \n",
       "Pública                     0.678529           71.0  64.1  71.1  ...   \n",
       "Pública                     0.729496           78.4  76.0  78.9  ...   \n",
       "\n",
       "         IDEB\\n2017\\n(N x P)  IDEB\\n2019\\n(N x P)  2007  2009  2011  2013  \\\n",
       "Rede                                                                        \n",
       "Pública                  4.1                  4.2   3.1   3.2   3.5   3.9   \n",
       "Pública                  4.6                  4.8   3.6   3.8   4.1   4.5   \n",
       "Pública                  4.6                  4.9   3.7   3.8   4.1   4.5   \n",
       "Pública                  3.9                  4.2   2.6   2.8   3.0   3.4   \n",
       "Pública                  4.8                  4.8   3.2   3.3   3.6   4.0   \n",
       "\n",
       "         2015  2017  2019  2021  \n",
       "Rede                             \n",
       "Pública   4.3   4.5   4.8   5.1  \n",
       "Pública   4.8   5.1   5.4   5.6  \n",
       "Pública   4.9   5.1   5.4   5.6  \n",
       "Pública   3.8   4.1   4.3   4.6  \n",
       "Pública   4.4   4.7   4.9   5.2  \n",
       "\n",
       "[5 rows x 89 columns]"
      ]
     },
     "execution_count": 61,
     "metadata": {},
     "output_type": "execute_result"
    }
   ],
   "source": [
    "dados_regioes_pub = dados_regioes.reset_index()\n",
    "dados_regioes_pub = dados_regioes_pub.set_index('Rede')\n",
    "dados_regioes_pub = dados_regioes_pub.loc[['Pública']]\n",
    "dados_regioes_pub.head()"
   ]
  },
  {
   "cell_type": "code",
   "execution_count": 112,
   "metadata": {},
   "outputs": [
    {
     "data": {
      "application/vnd.plotly.v1+json": {
       "config": {
        "plotlyServerURL": "https://plot.ly"
       },
       "data": [
        {
         "alignmentgroup": "True",
         "hovertemplate": "Regiões=%{x}<br>IDEB\n2019\n(N x P)=%{y}<extra></extra>",
         "legendgroup": "",
         "marker": {
          "color": "#4C78A8",
          "pattern": {
           "shape": ""
          }
         },
         "name": "",
         "offsetgroup": "",
         "orientation": "v",
         "showlegend": false,
         "textposition": "auto",
         "type": "bar",
         "x": [
          "Nordeste",
          "Norte",
          "Sul",
          "Centro-Oeste",
          "Sudeste"
         ],
         "xaxis": "x",
         "y": [
          4.2,
          4.2,
          4.8,
          4.8,
          4.9
         ],
         "yaxis": "y"
        }
       ],
       "layout": {
        "barmode": "relative",
        "legend": {
         "tracegroupgap": 0
        },
        "margin": {
         "t": 60
        },
        "template": {
         "data": {
          "pie": [
           {
            "automargin": true,
            "type": "pie"
           }
          ],
          "scatter": [
           {
            "line": {
             "width": 3
            },
            "marker": {
             "size": 9
            },
            "type": "scatter"
           }
          ],
          "scatter3d": [
           {
            "line": {
             "width": 3
            },
            "marker": {
             "size": 9
            },
            "type": "scatter3d"
           }
          ],
          "scattergeo": [
           {
            "line": {
             "width": 3
            },
            "marker": {
             "size": 9
            },
            "type": "scattergeo"
           }
          ],
          "scattergl": [
           {
            "line": {
             "width": 3
            },
            "marker": {
             "size": 9
            },
            "type": "scattergl"
           }
          ],
          "scatterpolar": [
           {
            "line": {
             "width": 3
            },
            "marker": {
             "size": 9
            },
            "type": "scatterpolar"
           }
          ],
          "scatterpolargl": [
           {
            "line": {
             "width": 3
            },
            "marker": {
             "size": 9
            },
            "type": "scatterpolargl"
           }
          ],
          "scatterternary": [
           {
            "line": {
             "width": 3
            },
            "marker": {
             "size": 9
            },
            "type": "scatterternary"
           }
          ],
          "table": [
           {
            "cells": {
             "height": 30
            },
            "header": {
             "height": 36
            },
            "type": "table"
           }
          ]
         },
         "layout": {
          "font": {
           "size": 18
          },
          "xaxis": {
           "title": {
            "standoff": 15
           }
          },
          "yaxis": {
           "title": {
            "standoff": 15
           }
          }
         }
        },
        "title": {
         "text": "Notas do Ideb, escolas públicas, anos finais de 2019",
         "x": 0.5,
         "y": 0.95
        },
        "xaxis": {
         "anchor": "y",
         "domain": [
          0,
          1
         ],
         "title": {
          "text": "Regiões"
         }
        },
        "yaxis": {
         "anchor": "x",
         "domain": [
          0,
          1
         ],
         "title": {
          "text": "IDEB\n2019\n(N x P)"
         }
        }
       }
      },
      "text/html": [
       "<div>                            <div id=\"3e4c768b-405b-4fd2-acc1-740a7072da43\" class=\"plotly-graph-div\" style=\"height:525px; width:100%;\"></div>            <script type=\"text/javascript\">                require([\"plotly\"], function(Plotly) {                    window.PLOTLYENV=window.PLOTLYENV || {};                                    if (document.getElementById(\"3e4c768b-405b-4fd2-acc1-740a7072da43\")) {                    Plotly.newPlot(                        \"3e4c768b-405b-4fd2-acc1-740a7072da43\",                        [{\"alignmentgroup\":\"True\",\"hovertemplate\":\"Regi\\u00f5es=%{x}<br>IDEB\\n2019\\n(N x P)=%{y}<extra></extra>\",\"legendgroup\":\"\",\"marker\":{\"color\":\"#4C78A8\",\"pattern\":{\"shape\":\"\"}},\"name\":\"\",\"offsetgroup\":\"\",\"orientation\":\"v\",\"showlegend\":false,\"textposition\":\"auto\",\"x\":[\"Nordeste\",\"Norte\",\"Sul\",\"Centro-Oeste\",\"Sudeste\"],\"xaxis\":\"x\",\"y\":[4.2,4.2,4.8,4.8,4.9],\"yaxis\":\"y\",\"type\":\"bar\"}],                        {\"template\":{\"data\":{\"pie\":[{\"automargin\":true,\"type\":\"pie\"}],\"scatter3d\":[{\"line\":{\"width\":3},\"marker\":{\"size\":9},\"type\":\"scatter3d\"}],\"scattergeo\":[{\"line\":{\"width\":3},\"marker\":{\"size\":9},\"type\":\"scattergeo\"}],\"scattergl\":[{\"line\":{\"width\":3},\"marker\":{\"size\":9},\"type\":\"scattergl\"}],\"scatterpolargl\":[{\"line\":{\"width\":3},\"marker\":{\"size\":9},\"type\":\"scatterpolargl\"}],\"scatterpolar\":[{\"line\":{\"width\":3},\"marker\":{\"size\":9},\"type\":\"scatterpolar\"}],\"scatter\":[{\"line\":{\"width\":3},\"marker\":{\"size\":9},\"type\":\"scatter\"}],\"scatterternary\":[{\"line\":{\"width\":3},\"marker\":{\"size\":9},\"type\":\"scatterternary\"}],\"table\":[{\"cells\":{\"height\":30},\"header\":{\"height\":36},\"type\":\"table\"}]},\"layout\":{\"font\":{\"size\":18},\"xaxis\":{\"title\":{\"standoff\":15}},\"yaxis\":{\"title\":{\"standoff\":15}}}},\"xaxis\":{\"anchor\":\"y\",\"domain\":[0.0,1.0],\"title\":{\"text\":\"Regi\\u00f5es\"}},\"yaxis\":{\"anchor\":\"x\",\"domain\":[0.0,1.0],\"title\":{\"text\":\"IDEB\\n2019\\n(N x P)\"}},\"legend\":{\"tracegroupgap\":0},\"margin\":{\"t\":60},\"barmode\":\"relative\",\"title\":{\"text\":\"Notas do Ideb, escolas p\\u00fablicas, anos finais de 2019\",\"y\":0.95,\"x\":0.5}},                        {\"responsive\": true}                    ).then(function(){\n",
       "                            \n",
       "var gd = document.getElementById('3e4c768b-405b-4fd2-acc1-740a7072da43');\n",
       "var x = new MutationObserver(function (mutations, observer) {{\n",
       "        var display = window.getComputedStyle(gd).display;\n",
       "        if (!display || display === 'none') {{\n",
       "            console.log([gd, 'removed!']);\n",
       "            Plotly.purge(gd);\n",
       "            observer.disconnect();\n",
       "        }}\n",
       "}});\n",
       "\n",
       "// Listen for the removal of the full notebook cells\n",
       "var notebookContainer = gd.closest('#notebook-container');\n",
       "if (notebookContainer) {{\n",
       "    x.observe(notebookContainer, {childList: true});\n",
       "}}\n",
       "\n",
       "// Listen for the clearing of the current output cell\n",
       "var outputEl = gd.closest('.output');\n",
       "if (outputEl) {{\n",
       "    x.observe(outputEl, {childList: true});\n",
       "}}\n",
       "\n",
       "                        })                };                });            </script>        </div>"
      ]
     },
     "metadata": {},
     "output_type": "display_data"
    }
   ],
   "source": [
    "dados_regioes_pub = dados_regioes_pub.sort_values(by= 'IDEB\\n2019\\n(N x P)')\n",
    "fig3 = px.bar(dados_regioes_pub, x = 'Região/\\nUnidade da Federação', y = 'IDEB\\n2019\\n(N x P)', \n",
    "            labels={'Região/\\nUnidade da Federação': 'Regiões'},\n",
    "            color_discrete_sequence=px.colors.qualitative.T10, template='presentation')\n",
    "fig3.update_layout(title={'text' : 'Notas do Ideb, escolas públicas, anos finais de 2019', 'y': 0.95, 'x': 0.5})\n",
    "fig3.show()"
   ]
  },
  {
   "cell_type": "code",
   "execution_count": 110,
   "metadata": {},
   "outputs": [
    {
     "data": {
      "application/vnd.plotly.v1+json": {
       "config": {
        "plotlyServerURL": "https://plot.ly"
       },
       "data": [
        {
         "alignmentgroup": "True",
         "hovertemplate": "Regiões=%{x}<br>IDEB\n2017\n(N x P)=%{y}<extra></extra>",
         "legendgroup": "",
         "marker": {
          "color": "#4C78A8",
          "pattern": {
           "shape": ""
          }
         },
         "name": "",
         "offsetgroup": "",
         "orientation": "v",
         "showlegend": false,
         "textposition": "auto",
         "type": "bar",
         "x": [
          "Nordeste",
          "Norte",
          "Sul",
          "Sudeste",
          "Centro-Oeste"
         ],
         "xaxis": "x",
         "y": [
          3.9,
          4.1,
          4.6,
          4.6,
          4.8
         ],
         "yaxis": "y"
        }
       ],
       "layout": {
        "barmode": "relative",
        "legend": {
         "tracegroupgap": 0
        },
        "margin": {
         "t": 60
        },
        "template": {
         "data": {
          "pie": [
           {
            "automargin": true,
            "type": "pie"
           }
          ],
          "scatter": [
           {
            "line": {
             "width": 3
            },
            "marker": {
             "size": 9
            },
            "type": "scatter"
           }
          ],
          "scatter3d": [
           {
            "line": {
             "width": 3
            },
            "marker": {
             "size": 9
            },
            "type": "scatter3d"
           }
          ],
          "scattergeo": [
           {
            "line": {
             "width": 3
            },
            "marker": {
             "size": 9
            },
            "type": "scattergeo"
           }
          ],
          "scattergl": [
           {
            "line": {
             "width": 3
            },
            "marker": {
             "size": 9
            },
            "type": "scattergl"
           }
          ],
          "scatterpolar": [
           {
            "line": {
             "width": 3
            },
            "marker": {
             "size": 9
            },
            "type": "scatterpolar"
           }
          ],
          "scatterpolargl": [
           {
            "line": {
             "width": 3
            },
            "marker": {
             "size": 9
            },
            "type": "scatterpolargl"
           }
          ],
          "scatterternary": [
           {
            "line": {
             "width": 3
            },
            "marker": {
             "size": 9
            },
            "type": "scatterternary"
           }
          ],
          "table": [
           {
            "cells": {
             "height": 30
            },
            "header": {
             "height": 36
            },
            "type": "table"
           }
          ]
         },
         "layout": {
          "font": {
           "size": 18
          },
          "xaxis": {
           "title": {
            "standoff": 15
           }
          },
          "yaxis": {
           "title": {
            "standoff": 15
           }
          }
         }
        },
        "title": {
         "text": "Notas do Ideb, escolas públicas, anos finais de 2017",
         "x": 0.5,
         "y": 0.95
        },
        "xaxis": {
         "anchor": "y",
         "domain": [
          0,
          1
         ],
         "title": {
          "text": "Regiões"
         }
        },
        "yaxis": {
         "anchor": "x",
         "domain": [
          0,
          1
         ],
         "title": {
          "text": "IDEB\n2017\n(N x P)"
         }
        }
       }
      },
      "text/html": [
       "<div>                            <div id=\"58be5104-5aa8-48c7-8c0b-142ca1218a42\" class=\"plotly-graph-div\" style=\"height:525px; width:100%;\"></div>            <script type=\"text/javascript\">                require([\"plotly\"], function(Plotly) {                    window.PLOTLYENV=window.PLOTLYENV || {};                                    if (document.getElementById(\"58be5104-5aa8-48c7-8c0b-142ca1218a42\")) {                    Plotly.newPlot(                        \"58be5104-5aa8-48c7-8c0b-142ca1218a42\",                        [{\"alignmentgroup\":\"True\",\"hovertemplate\":\"Regi\\u00f5es=%{x}<br>IDEB\\n2017\\n(N x P)=%{y}<extra></extra>\",\"legendgroup\":\"\",\"marker\":{\"color\":\"#4C78A8\",\"pattern\":{\"shape\":\"\"}},\"name\":\"\",\"offsetgroup\":\"\",\"orientation\":\"v\",\"showlegend\":false,\"textposition\":\"auto\",\"x\":[\"Nordeste\",\"Norte\",\"Sul\",\"Sudeste\",\"Centro-Oeste\"],\"xaxis\":\"x\",\"y\":[3.9,4.1,4.6,4.6,4.8],\"yaxis\":\"y\",\"type\":\"bar\"}],                        {\"template\":{\"data\":{\"pie\":[{\"automargin\":true,\"type\":\"pie\"}],\"scatter3d\":[{\"line\":{\"width\":3},\"marker\":{\"size\":9},\"type\":\"scatter3d\"}],\"scattergeo\":[{\"line\":{\"width\":3},\"marker\":{\"size\":9},\"type\":\"scattergeo\"}],\"scattergl\":[{\"line\":{\"width\":3},\"marker\":{\"size\":9},\"type\":\"scattergl\"}],\"scatterpolargl\":[{\"line\":{\"width\":3},\"marker\":{\"size\":9},\"type\":\"scatterpolargl\"}],\"scatterpolar\":[{\"line\":{\"width\":3},\"marker\":{\"size\":9},\"type\":\"scatterpolar\"}],\"scatter\":[{\"line\":{\"width\":3},\"marker\":{\"size\":9},\"type\":\"scatter\"}],\"scatterternary\":[{\"line\":{\"width\":3},\"marker\":{\"size\":9},\"type\":\"scatterternary\"}],\"table\":[{\"cells\":{\"height\":30},\"header\":{\"height\":36},\"type\":\"table\"}]},\"layout\":{\"font\":{\"size\":18},\"xaxis\":{\"title\":{\"standoff\":15}},\"yaxis\":{\"title\":{\"standoff\":15}}}},\"xaxis\":{\"anchor\":\"y\",\"domain\":[0.0,1.0],\"title\":{\"text\":\"Regi\\u00f5es\"}},\"yaxis\":{\"anchor\":\"x\",\"domain\":[0.0,1.0],\"title\":{\"text\":\"IDEB\\n2017\\n(N x P)\"}},\"legend\":{\"tracegroupgap\":0},\"margin\":{\"t\":60},\"barmode\":\"relative\",\"title\":{\"text\":\"Notas do Ideb, escolas p\\u00fablicas, anos finais de 2017\",\"y\":0.95,\"x\":0.5}},                        {\"responsive\": true}                    ).then(function(){\n",
       "                            \n",
       "var gd = document.getElementById('58be5104-5aa8-48c7-8c0b-142ca1218a42');\n",
       "var x = new MutationObserver(function (mutations, observer) {{\n",
       "        var display = window.getComputedStyle(gd).display;\n",
       "        if (!display || display === 'none') {{\n",
       "            console.log([gd, 'removed!']);\n",
       "            Plotly.purge(gd);\n",
       "            observer.disconnect();\n",
       "        }}\n",
       "}});\n",
       "\n",
       "// Listen for the removal of the full notebook cells\n",
       "var notebookContainer = gd.closest('#notebook-container');\n",
       "if (notebookContainer) {{\n",
       "    x.observe(notebookContainer, {childList: true});\n",
       "}}\n",
       "\n",
       "// Listen for the clearing of the current output cell\n",
       "var outputEl = gd.closest('.output');\n",
       "if (outputEl) {{\n",
       "    x.observe(outputEl, {childList: true});\n",
       "}}\n",
       "\n",
       "                        })                };                });            </script>        </div>"
      ]
     },
     "metadata": {},
     "output_type": "display_data"
    }
   ],
   "source": [
    "dados_regioes_pub = dados_regioes_pub.sort_values(by= 'IDEB\\n2017\\n(N x P)')\n",
    "fig4 = px.bar(dados_regioes_pub, x = 'Região/\\nUnidade da Federação', y = 'IDEB\\n2017\\n(N x P)', \n",
    "            labels={'Região/\\nUnidade da Federação': 'Regiões'},\n",
    "            color_discrete_sequence=px.colors.qualitative.T10, template='presentation')\n",
    "fig4.update_layout(title={'text' : 'Notas do Ideb, escolas públicas, anos finais de 2017', 'y': 0.95, 'x': 0.5})\n",
    "fig4.show()"
   ]
  },
  {
   "cell_type": "code",
   "execution_count": 107,
   "metadata": {},
   "outputs": [
    {
     "data": {
      "application/vnd.plotly.v1+json": {
       "config": {
        "plotlyServerURL": "https://plot.ly"
       },
       "data": [
        {
         "alignmentgroup": "True",
         "hovertemplate": "Regiões=%{x}<br>IDEB\n2015\n(N x P)=%{y}<extra></extra>",
         "legendgroup": "",
         "marker": {
          "color": "#4C78A8",
          "pattern": {
           "shape": ""
          }
         },
         "name": "",
         "offsetgroup": "",
         "orientation": "v",
         "showlegend": false,
         "textposition": "auto",
         "type": "bar",
         "x": [
          "Nordeste",
          "Norte",
          "Sul",
          "Centro-Oeste",
          "Sudeste"
         ],
         "xaxis": "x",
         "y": [
          3.7,
          3.9,
          4.4,
          4.4,
          4.5
         ],
         "yaxis": "y"
        }
       ],
       "layout": {
        "barmode": "relative",
        "legend": {
         "tracegroupgap": 0
        },
        "margin": {
         "t": 60
        },
        "template": {
         "data": {
          "pie": [
           {
            "automargin": true,
            "type": "pie"
           }
          ],
          "scatter": [
           {
            "line": {
             "width": 3
            },
            "marker": {
             "size": 9
            },
            "type": "scatter"
           }
          ],
          "scatter3d": [
           {
            "line": {
             "width": 3
            },
            "marker": {
             "size": 9
            },
            "type": "scatter3d"
           }
          ],
          "scattergeo": [
           {
            "line": {
             "width": 3
            },
            "marker": {
             "size": 9
            },
            "type": "scattergeo"
           }
          ],
          "scattergl": [
           {
            "line": {
             "width": 3
            },
            "marker": {
             "size": 9
            },
            "type": "scattergl"
           }
          ],
          "scatterpolar": [
           {
            "line": {
             "width": 3
            },
            "marker": {
             "size": 9
            },
            "type": "scatterpolar"
           }
          ],
          "scatterpolargl": [
           {
            "line": {
             "width": 3
            },
            "marker": {
             "size": 9
            },
            "type": "scatterpolargl"
           }
          ],
          "scatterternary": [
           {
            "line": {
             "width": 3
            },
            "marker": {
             "size": 9
            },
            "type": "scatterternary"
           }
          ],
          "table": [
           {
            "cells": {
             "height": 30
            },
            "header": {
             "height": 36
            },
            "type": "table"
           }
          ]
         },
         "layout": {
          "font": {
           "size": 18
          },
          "xaxis": {
           "title": {
            "standoff": 15
           }
          },
          "yaxis": {
           "title": {
            "standoff": 15
           }
          }
         }
        },
        "title": {
         "text": "Notas do Ideb, escolas públicas, anos finais de 2015",
         "x": 0.5,
         "y": 0.95
        },
        "xaxis": {
         "anchor": "y",
         "domain": [
          0,
          1
         ],
         "title": {
          "text": "Regiões"
         }
        },
        "yaxis": {
         "anchor": "x",
         "domain": [
          0,
          1
         ],
         "title": {
          "text": "IDEB\n2015\n(N x P)"
         }
        }
       }
      },
      "text/html": [
       "<div>                            <div id=\"e913849b-8b24-463e-875c-1b3dd3472f6b\" class=\"plotly-graph-div\" style=\"height:525px; width:100%;\"></div>            <script type=\"text/javascript\">                require([\"plotly\"], function(Plotly) {                    window.PLOTLYENV=window.PLOTLYENV || {};                                    if (document.getElementById(\"e913849b-8b24-463e-875c-1b3dd3472f6b\")) {                    Plotly.newPlot(                        \"e913849b-8b24-463e-875c-1b3dd3472f6b\",                        [{\"alignmentgroup\":\"True\",\"hovertemplate\":\"Regi\\u00f5es=%{x}<br>IDEB\\n2015\\n(N x P)=%{y}<extra></extra>\",\"legendgroup\":\"\",\"marker\":{\"color\":\"#4C78A8\",\"pattern\":{\"shape\":\"\"}},\"name\":\"\",\"offsetgroup\":\"\",\"orientation\":\"v\",\"showlegend\":false,\"textposition\":\"auto\",\"x\":[\"Nordeste\",\"Norte\",\"Sul\",\"Centro-Oeste\",\"Sudeste\"],\"xaxis\":\"x\",\"y\":[3.7,3.9,4.4,4.4,4.5],\"yaxis\":\"y\",\"type\":\"bar\"}],                        {\"template\":{\"data\":{\"pie\":[{\"automargin\":true,\"type\":\"pie\"}],\"scatter3d\":[{\"line\":{\"width\":3},\"marker\":{\"size\":9},\"type\":\"scatter3d\"}],\"scattergeo\":[{\"line\":{\"width\":3},\"marker\":{\"size\":9},\"type\":\"scattergeo\"}],\"scattergl\":[{\"line\":{\"width\":3},\"marker\":{\"size\":9},\"type\":\"scattergl\"}],\"scatterpolargl\":[{\"line\":{\"width\":3},\"marker\":{\"size\":9},\"type\":\"scatterpolargl\"}],\"scatterpolar\":[{\"line\":{\"width\":3},\"marker\":{\"size\":9},\"type\":\"scatterpolar\"}],\"scatter\":[{\"line\":{\"width\":3},\"marker\":{\"size\":9},\"type\":\"scatter\"}],\"scatterternary\":[{\"line\":{\"width\":3},\"marker\":{\"size\":9},\"type\":\"scatterternary\"}],\"table\":[{\"cells\":{\"height\":30},\"header\":{\"height\":36},\"type\":\"table\"}]},\"layout\":{\"font\":{\"size\":18},\"xaxis\":{\"title\":{\"standoff\":15}},\"yaxis\":{\"title\":{\"standoff\":15}}}},\"xaxis\":{\"anchor\":\"y\",\"domain\":[0.0,1.0],\"title\":{\"text\":\"Regi\\u00f5es\"}},\"yaxis\":{\"anchor\":\"x\",\"domain\":[0.0,1.0],\"title\":{\"text\":\"IDEB\\n2015\\n(N x P)\"}},\"legend\":{\"tracegroupgap\":0},\"margin\":{\"t\":60},\"barmode\":\"relative\",\"title\":{\"text\":\"Notas do Ideb, escolas p\\u00fablicas, anos finais de 2015\",\"y\":0.95,\"x\":0.5}},                        {\"responsive\": true}                    ).then(function(){\n",
       "                            \n",
       "var gd = document.getElementById('e913849b-8b24-463e-875c-1b3dd3472f6b');\n",
       "var x = new MutationObserver(function (mutations, observer) {{\n",
       "        var display = window.getComputedStyle(gd).display;\n",
       "        if (!display || display === 'none') {{\n",
       "            console.log([gd, 'removed!']);\n",
       "            Plotly.purge(gd);\n",
       "            observer.disconnect();\n",
       "        }}\n",
       "}});\n",
       "\n",
       "// Listen for the removal of the full notebook cells\n",
       "var notebookContainer = gd.closest('#notebook-container');\n",
       "if (notebookContainer) {{\n",
       "    x.observe(notebookContainer, {childList: true});\n",
       "}}\n",
       "\n",
       "// Listen for the clearing of the current output cell\n",
       "var outputEl = gd.closest('.output');\n",
       "if (outputEl) {{\n",
       "    x.observe(outputEl, {childList: true});\n",
       "}}\n",
       "\n",
       "                        })                };                });            </script>        </div>"
      ]
     },
     "metadata": {},
     "output_type": "display_data"
    }
   ],
   "source": [
    "dados_regioes_pub = dados_regioes_pub.sort_values(by= 'IDEB\\n2015\\n(N x P)')\n",
    "fig5 = px.bar(dados_regioes_pub, x = 'Região/\\nUnidade da Federação', y = 'IDEB\\n2015\\n(N x P)', \n",
    "            labels={'Região/\\nUnidade da Federação': 'Regiões'},\n",
    "            color_discrete_sequence=px.colors.qualitative.T10, template='presentation')\n",
    "fig5.update_layout(title={'text' : 'Notas do Ideb, escolas públicas, anos finais de 2015', 'y': 0.95, 'x': 0.5})\n",
    "fig5.show()"
   ]
  },
  {
   "cell_type": "code",
   "execution_count": 71,
   "metadata": {},
   "outputs": [
    {
     "data": {
      "text/html": [
       "<div>\n",
       "<style scoped>\n",
       "    .dataframe tbody tr th:only-of-type {\n",
       "        vertical-align: middle;\n",
       "    }\n",
       "\n",
       "    .dataframe tbody tr th {\n",
       "        vertical-align: top;\n",
       "    }\n",
       "\n",
       "    .dataframe thead th {\n",
       "        text-align: right;\n",
       "    }\n",
       "</style>\n",
       "<table border=\"1\" class=\"dataframe\">\n",
       "  <thead>\n",
       "    <tr style=\"text-align: right;\">\n",
       "      <th></th>\n",
       "      <th>Região/\\nUnidade da Federação</th>\n",
       "      <th>6º a 9º ano</th>\n",
       "      <th>6º</th>\n",
       "      <th>7º</th>\n",
       "      <th>8º</th>\n",
       "      <th>9º</th>\n",
       "      <th>Indicador de Rendimento (P)</th>\n",
       "      <th>6º a 9º ano.1</th>\n",
       "      <th>6º.1</th>\n",
       "      <th>7º.1</th>\n",
       "      <th>...</th>\n",
       "      <th>IDEB\\n2017\\n(N x P)</th>\n",
       "      <th>IDEB\\n2019\\n(N x P)</th>\n",
       "      <th>2007</th>\n",
       "      <th>2009</th>\n",
       "      <th>2011</th>\n",
       "      <th>2013</th>\n",
       "      <th>2015</th>\n",
       "      <th>2017</th>\n",
       "      <th>2019</th>\n",
       "      <th>2021</th>\n",
       "    </tr>\n",
       "    <tr>\n",
       "      <th>Rede</th>\n",
       "      <th></th>\n",
       "      <th></th>\n",
       "      <th></th>\n",
       "      <th></th>\n",
       "      <th></th>\n",
       "      <th></th>\n",
       "      <th></th>\n",
       "      <th></th>\n",
       "      <th></th>\n",
       "      <th></th>\n",
       "      <th></th>\n",
       "      <th></th>\n",
       "      <th></th>\n",
       "      <th></th>\n",
       "      <th></th>\n",
       "      <th></th>\n",
       "      <th></th>\n",
       "      <th></th>\n",
       "      <th></th>\n",
       "      <th></th>\n",
       "      <th></th>\n",
       "    </tr>\n",
       "  </thead>\n",
       "  <tbody>\n",
       "    <tr>\n",
       "      <th>Privada</th>\n",
       "      <td>Norte</td>\n",
       "      <td>95.1</td>\n",
       "      <td>95.6</td>\n",
       "      <td>95.3</td>\n",
       "      <td>95.5</td>\n",
       "      <td>93.8</td>\n",
       "      <td>0.950444</td>\n",
       "      <td>95.3</td>\n",
       "      <td>95.5</td>\n",
       "      <td>95.4</td>\n",
       "      <td>...</td>\n",
       "      <td>6.0</td>\n",
       "      <td>6.1</td>\n",
       "      <td>5.4</td>\n",
       "      <td>5.5</td>\n",
       "      <td>5.8</td>\n",
       "      <td>6.1</td>\n",
       "      <td>6.4</td>\n",
       "      <td>6.6</td>\n",
       "      <td>6.8</td>\n",
       "      <td>7.0</td>\n",
       "    </tr>\n",
       "    <tr>\n",
       "      <th>Privada</th>\n",
       "      <td>Sul</td>\n",
       "      <td>96.1</td>\n",
       "      <td>96.8</td>\n",
       "      <td>96.1</td>\n",
       "      <td>95.6</td>\n",
       "      <td>95.7</td>\n",
       "      <td>0.960477</td>\n",
       "      <td>96.0</td>\n",
       "      <td>96.7</td>\n",
       "      <td>95.9</td>\n",
       "      <td>...</td>\n",
       "      <td>6.7</td>\n",
       "      <td>6.7</td>\n",
       "      <td>6.1</td>\n",
       "      <td>6.2</td>\n",
       "      <td>6.4</td>\n",
       "      <td>6.7</td>\n",
       "      <td>7.0</td>\n",
       "      <td>7.2</td>\n",
       "      <td>7.3</td>\n",
       "      <td>7.5</td>\n",
       "    </tr>\n",
       "    <tr>\n",
       "      <th>Privada</th>\n",
       "      <td>Sudeste</td>\n",
       "      <td>95.4</td>\n",
       "      <td>95.9</td>\n",
       "      <td>95.1</td>\n",
       "      <td>95.3</td>\n",
       "      <td>95.2</td>\n",
       "      <td>0.953740</td>\n",
       "      <td>95.7</td>\n",
       "      <td>96.3</td>\n",
       "      <td>95.4</td>\n",
       "      <td>...</td>\n",
       "      <td>6.6</td>\n",
       "      <td>6.6</td>\n",
       "      <td>6.1</td>\n",
       "      <td>6.2</td>\n",
       "      <td>6.5</td>\n",
       "      <td>6.8</td>\n",
       "      <td>7.0</td>\n",
       "      <td>7.2</td>\n",
       "      <td>7.4</td>\n",
       "      <td>7.5</td>\n",
       "    </tr>\n",
       "    <tr>\n",
       "      <th>Privada</th>\n",
       "      <td>Nordeste</td>\n",
       "      <td>92.2</td>\n",
       "      <td>92.5</td>\n",
       "      <td>92.3</td>\n",
       "      <td>92.4</td>\n",
       "      <td>91.7</td>\n",
       "      <td>0.922239</td>\n",
       "      <td>93.2</td>\n",
       "      <td>93.5</td>\n",
       "      <td>93.2</td>\n",
       "      <td>...</td>\n",
       "      <td>5.9</td>\n",
       "      <td>6.1</td>\n",
       "      <td>5.4</td>\n",
       "      <td>5.5</td>\n",
       "      <td>5.7</td>\n",
       "      <td>6.1</td>\n",
       "      <td>6.4</td>\n",
       "      <td>6.6</td>\n",
       "      <td>6.8</td>\n",
       "      <td>7.0</td>\n",
       "    </tr>\n",
       "    <tr>\n",
       "      <th>Privada</th>\n",
       "      <td>Centro-Oeste</td>\n",
       "      <td>94.4</td>\n",
       "      <td>94.8</td>\n",
       "      <td>94.1</td>\n",
       "      <td>94.1</td>\n",
       "      <td>94.4</td>\n",
       "      <td>0.943491</td>\n",
       "      <td>95.1</td>\n",
       "      <td>95.9</td>\n",
       "      <td>94.9</td>\n",
       "      <td>...</td>\n",
       "      <td>6.4</td>\n",
       "      <td>6.5</td>\n",
       "      <td>5.5</td>\n",
       "      <td>5.7</td>\n",
       "      <td>5.9</td>\n",
       "      <td>6.2</td>\n",
       "      <td>6.5</td>\n",
       "      <td>6.7</td>\n",
       "      <td>6.9</td>\n",
       "      <td>7.1</td>\n",
       "    </tr>\n",
       "  </tbody>\n",
       "</table>\n",
       "<p>5 rows × 89 columns</p>\n",
       "</div>"
      ],
      "text/plain": [
       "        Região/\\nUnidade da Federação  6º a 9º ano    6º    7º    8º    9º  \\\n",
       "Rede                                                                         \n",
       "Privada                         Norte         95.1  95.6  95.3  95.5  93.8   \n",
       "Privada                           Sul         96.1  96.8  96.1  95.6  95.7   \n",
       "Privada                       Sudeste         95.4  95.9  95.1  95.3  95.2   \n",
       "Privada                      Nordeste         92.2  92.5  92.3  92.4  91.7   \n",
       "Privada                  Centro-Oeste         94.4  94.8  94.1  94.1  94.4   \n",
       "\n",
       "         Indicador de Rendimento (P)  6º a 9º ano.1  6º.1  7º.1  ...  \\\n",
       "Rede                                                             ...   \n",
       "Privada                     0.950444           95.3  95.5  95.4  ...   \n",
       "Privada                     0.960477           96.0  96.7  95.9  ...   \n",
       "Privada                     0.953740           95.7  96.3  95.4  ...   \n",
       "Privada                     0.922239           93.2  93.5  93.2  ...   \n",
       "Privada                     0.943491           95.1  95.9  94.9  ...   \n",
       "\n",
       "         IDEB\\n2017\\n(N x P)  IDEB\\n2019\\n(N x P)  2007  2009  2011  2013  \\\n",
       "Rede                                                                        \n",
       "Privada                  6.0                  6.1   5.4   5.5   5.8   6.1   \n",
       "Privada                  6.7                  6.7   6.1   6.2   6.4   6.7   \n",
       "Privada                  6.6                  6.6   6.1   6.2   6.5   6.8   \n",
       "Privada                  5.9                  6.1   5.4   5.5   5.7   6.1   \n",
       "Privada                  6.4                  6.5   5.5   5.7   5.9   6.2   \n",
       "\n",
       "         2015  2017  2019  2021  \n",
       "Rede                             \n",
       "Privada   6.4   6.6   6.8   7.0  \n",
       "Privada   7.0   7.2   7.3   7.5  \n",
       "Privada   7.0   7.2   7.4   7.5  \n",
       "Privada   6.4   6.6   6.8   7.0  \n",
       "Privada   6.5   6.7   6.9   7.1  \n",
       "\n",
       "[5 rows x 89 columns]"
      ]
     },
     "execution_count": 71,
     "metadata": {},
     "output_type": "execute_result"
    }
   ],
   "source": [
    "dados_regioes_pri = dados_regioes.reset_index()\n",
    "dados_regioes_pri = dados_regioes_pri.set_index('Rede')\n",
    "dados_regioes_pri = dados_regioes_pri.loc[['Privada']]\n",
    "dados_regioes_pri.head()"
   ]
  },
  {
   "cell_type": "code",
   "execution_count": 106,
   "metadata": {},
   "outputs": [
    {
     "data": {
      "application/vnd.plotly.v1+json": {
       "config": {
        "plotlyServerURL": "https://plot.ly"
       },
       "data": [
        {
         "alignmentgroup": "True",
         "hovertemplate": "Região/\nUnidade da Federação=%{x}<br>IDEB\n2019\n(N x P)=%{y}<extra></extra>",
         "legendgroup": "",
         "marker": {
          "color": "#4C78A8",
          "pattern": {
           "shape": ""
          }
         },
         "name": "",
         "offsetgroup": "",
         "orientation": "v",
         "showlegend": false,
         "textposition": "auto",
         "type": "bar",
         "x": [
          "Nordeste",
          "Norte",
          "Sul",
          "Centro-Oeste",
          "Sudeste"
         ],
         "xaxis": "x",
         "y": [
          4.1,
          4.3,
          4.8,
          4.8,
          4.9
         ],
         "yaxis": "y"
        }
       ],
       "layout": {
        "barmode": "relative",
        "legend": {
         "tracegroupgap": 0
        },
        "margin": {
         "t": 60
        },
        "template": {
         "data": {
          "pie": [
           {
            "automargin": true,
            "type": "pie"
           }
          ],
          "scatter": [
           {
            "line": {
             "width": 3
            },
            "marker": {
             "size": 9
            },
            "type": "scatter"
           }
          ],
          "scatter3d": [
           {
            "line": {
             "width": 3
            },
            "marker": {
             "size": 9
            },
            "type": "scatter3d"
           }
          ],
          "scattergeo": [
           {
            "line": {
             "width": 3
            },
            "marker": {
             "size": 9
            },
            "type": "scattergeo"
           }
          ],
          "scattergl": [
           {
            "line": {
             "width": 3
            },
            "marker": {
             "size": 9
            },
            "type": "scattergl"
           }
          ],
          "scatterpolar": [
           {
            "line": {
             "width": 3
            },
            "marker": {
             "size": 9
            },
            "type": "scatterpolar"
           }
          ],
          "scatterpolargl": [
           {
            "line": {
             "width": 3
            },
            "marker": {
             "size": 9
            },
            "type": "scatterpolargl"
           }
          ],
          "scatterternary": [
           {
            "line": {
             "width": 3
            },
            "marker": {
             "size": 9
            },
            "type": "scatterternary"
           }
          ],
          "table": [
           {
            "cells": {
             "height": 30
            },
            "header": {
             "height": 36
            },
            "type": "table"
           }
          ]
         },
         "layout": {
          "font": {
           "size": 18
          },
          "xaxis": {
           "title": {
            "standoff": 15
           }
          },
          "yaxis": {
           "title": {
            "standoff": 15
           }
          }
         }
        },
        "title": {
         "text": "Notas do Ideb, escolas privadas, anos finais de 2019",
         "x": 0.5,
         "y": 0.95
        },
        "xaxis": {
         "anchor": "y",
         "domain": [
          0,
          1
         ],
         "title": {
          "text": "Região/\nUnidade da Federação"
         }
        },
        "yaxis": {
         "anchor": "x",
         "domain": [
          0,
          1
         ],
         "title": {
          "text": "IDEB\n2019\n(N x P)"
         }
        }
       }
      },
      "text/html": [
       "<div>                            <div id=\"7cf5796c-719e-455b-a7b0-e97d4f239844\" class=\"plotly-graph-div\" style=\"height:525px; width:100%;\"></div>            <script type=\"text/javascript\">                require([\"plotly\"], function(Plotly) {                    window.PLOTLYENV=window.PLOTLYENV || {};                                    if (document.getElementById(\"7cf5796c-719e-455b-a7b0-e97d4f239844\")) {                    Plotly.newPlot(                        \"7cf5796c-719e-455b-a7b0-e97d4f239844\",                        [{\"alignmentgroup\":\"True\",\"hovertemplate\":\"Regi\\u00e3o/\\nUnidade da Federa\\u00e7\\u00e3o=%{x}<br>IDEB\\n2019\\n(N x P)=%{y}<extra></extra>\",\"legendgroup\":\"\",\"marker\":{\"color\":\"#4C78A8\",\"pattern\":{\"shape\":\"\"}},\"name\":\"\",\"offsetgroup\":\"\",\"orientation\":\"v\",\"showlegend\":false,\"textposition\":\"auto\",\"x\":[\"Nordeste\",\"Norte\",\"Sul\",\"Centro-Oeste\",\"Sudeste\"],\"xaxis\":\"x\",\"y\":[4.1,4.3,4.8,4.8,4.9],\"yaxis\":\"y\",\"type\":\"bar\"}],                        {\"template\":{\"data\":{\"pie\":[{\"automargin\":true,\"type\":\"pie\"}],\"scatter3d\":[{\"line\":{\"width\":3},\"marker\":{\"size\":9},\"type\":\"scatter3d\"}],\"scattergeo\":[{\"line\":{\"width\":3},\"marker\":{\"size\":9},\"type\":\"scattergeo\"}],\"scattergl\":[{\"line\":{\"width\":3},\"marker\":{\"size\":9},\"type\":\"scattergl\"}],\"scatterpolargl\":[{\"line\":{\"width\":3},\"marker\":{\"size\":9},\"type\":\"scatterpolargl\"}],\"scatterpolar\":[{\"line\":{\"width\":3},\"marker\":{\"size\":9},\"type\":\"scatterpolar\"}],\"scatter\":[{\"line\":{\"width\":3},\"marker\":{\"size\":9},\"type\":\"scatter\"}],\"scatterternary\":[{\"line\":{\"width\":3},\"marker\":{\"size\":9},\"type\":\"scatterternary\"}],\"table\":[{\"cells\":{\"height\":30},\"header\":{\"height\":36},\"type\":\"table\"}]},\"layout\":{\"font\":{\"size\":18},\"xaxis\":{\"title\":{\"standoff\":15}},\"yaxis\":{\"title\":{\"standoff\":15}}}},\"xaxis\":{\"anchor\":\"y\",\"domain\":[0.0,1.0],\"title\":{\"text\":\"Regi\\u00e3o/\\nUnidade da Federa\\u00e7\\u00e3o\"}},\"yaxis\":{\"anchor\":\"x\",\"domain\":[0.0,1.0],\"title\":{\"text\":\"IDEB\\n2019\\n(N x P)\"}},\"legend\":{\"tracegroupgap\":0},\"margin\":{\"t\":60},\"barmode\":\"relative\",\"title\":{\"text\":\"Notas do Ideb, escolas privadas, anos finais de 2019\",\"y\":0.95,\"x\":0.5}},                        {\"responsive\": true}                    ).then(function(){\n",
       "                            \n",
       "var gd = document.getElementById('7cf5796c-719e-455b-a7b0-e97d4f239844');\n",
       "var x = new MutationObserver(function (mutations, observer) {{\n",
       "        var display = window.getComputedStyle(gd).display;\n",
       "        if (!display || display === 'none') {{\n",
       "            console.log([gd, 'removed!']);\n",
       "            Plotly.purge(gd);\n",
       "            observer.disconnect();\n",
       "        }}\n",
       "}});\n",
       "\n",
       "// Listen for the removal of the full notebook cells\n",
       "var notebookContainer = gd.closest('#notebook-container');\n",
       "if (notebookContainer) {{\n",
       "    x.observe(notebookContainer, {childList: true});\n",
       "}}\n",
       "\n",
       "// Listen for the clearing of the current output cell\n",
       "var outputEl = gd.closest('.output');\n",
       "if (outputEl) {{\n",
       "    x.observe(outputEl, {childList: true});\n",
       "}}\n",
       "\n",
       "                        })                };                });            </script>        </div>"
      ]
     },
     "metadata": {},
     "output_type": "display_data"
    }
   ],
   "source": [
    "dados_regioes_pri = dados_regioes_pri.sort_values(by= 'IDEB\\n2019\\n(N x P)')\n",
    "fig6 = px.bar(dados_regioes_pri, x = 'Região/\\nUnidade da Federação', y = 'IDEB\\n2019\\n(N x P)', \n",
    "            color_discrete_sequence=px.colors.qualitative.T10, template='presentation')\n",
    "fig6.update_layout(title={'text' : 'Notas do Ideb, escolas privadas, anos finais de 2019', 'y': 0.95, 'x': 0.5})\n",
    "fig6.show()"
   ]
  },
  {
   "cell_type": "code",
   "execution_count": 103,
   "metadata": {},
   "outputs": [
    {
     "data": {
      "application/vnd.plotly.v1+json": {
       "config": {
        "plotlyServerURL": "https://plot.ly"
       },
       "data": [
        {
         "alignmentgroup": "True",
         "hovertemplate": "Regiões=%{x}<br>IDEB\n2017\n(N x P)=%{y}<extra></extra>",
         "legendgroup": "",
         "marker": {
          "color": "#4C78A8",
          "pattern": {
           "shape": ""
          }
         },
         "name": "",
         "offsetgroup": "",
         "orientation": "v",
         "showlegend": false,
         "textposition": "auto",
         "type": "bar",
         "x": [
          "Nordeste",
          "Norte",
          "Sul",
          "Sudeste",
          "Centro-Oeste"
         ],
         "xaxis": "x",
         "y": [
          3.8,
          4.2,
          4.6,
          4.6,
          4.8
         ],
         "yaxis": "y"
        }
       ],
       "layout": {
        "barmode": "relative",
        "legend": {
         "tracegroupgap": 0
        },
        "margin": {
         "t": 60
        },
        "template": {
         "data": {
          "pie": [
           {
            "automargin": true,
            "type": "pie"
           }
          ],
          "scatter": [
           {
            "line": {
             "width": 3
            },
            "marker": {
             "size": 9
            },
            "type": "scatter"
           }
          ],
          "scatter3d": [
           {
            "line": {
             "width": 3
            },
            "marker": {
             "size": 9
            },
            "type": "scatter3d"
           }
          ],
          "scattergeo": [
           {
            "line": {
             "width": 3
            },
            "marker": {
             "size": 9
            },
            "type": "scattergeo"
           }
          ],
          "scattergl": [
           {
            "line": {
             "width": 3
            },
            "marker": {
             "size": 9
            },
            "type": "scattergl"
           }
          ],
          "scatterpolar": [
           {
            "line": {
             "width": 3
            },
            "marker": {
             "size": 9
            },
            "type": "scatterpolar"
           }
          ],
          "scatterpolargl": [
           {
            "line": {
             "width": 3
            },
            "marker": {
             "size": 9
            },
            "type": "scatterpolargl"
           }
          ],
          "scatterternary": [
           {
            "line": {
             "width": 3
            },
            "marker": {
             "size": 9
            },
            "type": "scatterternary"
           }
          ],
          "table": [
           {
            "cells": {
             "height": 30
            },
            "header": {
             "height": 36
            },
            "type": "table"
           }
          ]
         },
         "layout": {
          "font": {
           "size": 18
          },
          "xaxis": {
           "title": {
            "standoff": 15
           }
          },
          "yaxis": {
           "title": {
            "standoff": 15
           }
          }
         }
        },
        "title": {
         "text": "Notas do Ideb, escolas privadas, anos finais de 2017",
         "x": 0.5,
         "y": 0.95
        },
        "xaxis": {
         "anchor": "y",
         "domain": [
          0,
          1
         ],
         "title": {
          "text": "Regiões"
         }
        },
        "yaxis": {
         "anchor": "x",
         "domain": [
          0,
          1
         ],
         "title": {
          "text": "IDEB\n2017\n(N x P)"
         }
        }
       }
      },
      "text/html": [
       "<div>                            <div id=\"7fdeb39d-ecfe-488a-9c33-63d0e352f41b\" class=\"plotly-graph-div\" style=\"height:525px; width:100%;\"></div>            <script type=\"text/javascript\">                require([\"plotly\"], function(Plotly) {                    window.PLOTLYENV=window.PLOTLYENV || {};                                    if (document.getElementById(\"7fdeb39d-ecfe-488a-9c33-63d0e352f41b\")) {                    Plotly.newPlot(                        \"7fdeb39d-ecfe-488a-9c33-63d0e352f41b\",                        [{\"alignmentgroup\":\"True\",\"hovertemplate\":\"Regi\\u00f5es=%{x}<br>IDEB\\n2017\\n(N x P)=%{y}<extra></extra>\",\"legendgroup\":\"\",\"marker\":{\"color\":\"#4C78A8\",\"pattern\":{\"shape\":\"\"}},\"name\":\"\",\"offsetgroup\":\"\",\"orientation\":\"v\",\"showlegend\":false,\"textposition\":\"auto\",\"x\":[\"Nordeste\",\"Norte\",\"Sul\",\"Sudeste\",\"Centro-Oeste\"],\"xaxis\":\"x\",\"y\":[3.8,4.2,4.6,4.6,4.8],\"yaxis\":\"y\",\"type\":\"bar\"}],                        {\"template\":{\"data\":{\"pie\":[{\"automargin\":true,\"type\":\"pie\"}],\"scatter3d\":[{\"line\":{\"width\":3},\"marker\":{\"size\":9},\"type\":\"scatter3d\"}],\"scattergeo\":[{\"line\":{\"width\":3},\"marker\":{\"size\":9},\"type\":\"scattergeo\"}],\"scattergl\":[{\"line\":{\"width\":3},\"marker\":{\"size\":9},\"type\":\"scattergl\"}],\"scatterpolargl\":[{\"line\":{\"width\":3},\"marker\":{\"size\":9},\"type\":\"scatterpolargl\"}],\"scatterpolar\":[{\"line\":{\"width\":3},\"marker\":{\"size\":9},\"type\":\"scatterpolar\"}],\"scatter\":[{\"line\":{\"width\":3},\"marker\":{\"size\":9},\"type\":\"scatter\"}],\"scatterternary\":[{\"line\":{\"width\":3},\"marker\":{\"size\":9},\"type\":\"scatterternary\"}],\"table\":[{\"cells\":{\"height\":30},\"header\":{\"height\":36},\"type\":\"table\"}]},\"layout\":{\"font\":{\"size\":18},\"xaxis\":{\"title\":{\"standoff\":15}},\"yaxis\":{\"title\":{\"standoff\":15}}}},\"xaxis\":{\"anchor\":\"y\",\"domain\":[0.0,1.0],\"title\":{\"text\":\"Regi\\u00f5es\"}},\"yaxis\":{\"anchor\":\"x\",\"domain\":[0.0,1.0],\"title\":{\"text\":\"IDEB\\n2017\\n(N x P)\"}},\"legend\":{\"tracegroupgap\":0},\"margin\":{\"t\":60},\"barmode\":\"relative\",\"title\":{\"text\":\"Notas do Ideb, escolas privadas, anos finais de 2017\",\"y\":0.95,\"x\":0.5}},                        {\"responsive\": true}                    ).then(function(){\n",
       "                            \n",
       "var gd = document.getElementById('7fdeb39d-ecfe-488a-9c33-63d0e352f41b');\n",
       "var x = new MutationObserver(function (mutations, observer) {{\n",
       "        var display = window.getComputedStyle(gd).display;\n",
       "        if (!display || display === 'none') {{\n",
       "            console.log([gd, 'removed!']);\n",
       "            Plotly.purge(gd);\n",
       "            observer.disconnect();\n",
       "        }}\n",
       "}});\n",
       "\n",
       "// Listen for the removal of the full notebook cells\n",
       "var notebookContainer = gd.closest('#notebook-container');\n",
       "if (notebookContainer) {{\n",
       "    x.observe(notebookContainer, {childList: true});\n",
       "}}\n",
       "\n",
       "// Listen for the clearing of the current output cell\n",
       "var outputEl = gd.closest('.output');\n",
       "if (outputEl) {{\n",
       "    x.observe(outputEl, {childList: true});\n",
       "}}\n",
       "\n",
       "                        })                };                });            </script>        </div>"
      ]
     },
     "metadata": {},
     "output_type": "display_data"
    }
   ],
   "source": [
    "dados_regioes_pri = dados_regioes_pri.sort_values(by= 'IDEB\\n2017\\n(N x P)')\n",
    "fig7 = px.bar(dados_regioes_pri, x = 'Região/\\nUnidade da Federação', y = 'IDEB\\n2017\\n(N x P)', \n",
    "            labels={'Região/\\nUnidade da Federação': 'Regiões'},\n",
    "            color_discrete_sequence=px.colors.qualitative.T10, template='presentation')\n",
    "fig7.update_layout(title={'text' : 'Notas do Ideb, escolas privadas, anos finais de 2017', 'y': 0.95, 'x': 0.5})\n",
    "fig7.show()"
   ]
  },
  {
   "cell_type": "code",
   "execution_count": 100,
   "metadata": {},
   "outputs": [
    {
     "data": {
      "application/vnd.plotly.v1+json": {
       "config": {
        "plotlyServerURL": "https://plot.ly"
       },
       "data": [
        {
         "alignmentgroup": "True",
         "hovertemplate": "Regiões=%{x}<br>IDEB\n2015\n(N x P)=%{y}<extra></extra>",
         "legendgroup": "",
         "marker": {
          "color": "#4C78A8",
          "pattern": {
           "shape": ""
          }
         },
         "name": "",
         "offsetgroup": "",
         "orientation": "v",
         "showlegend": false,
         "textposition": "auto",
         "type": "bar",
         "x": [
          "Nordeste",
          "Norte",
          "Sul",
          "Centro-Oeste",
          "Sudeste"
         ],
         "xaxis": "x",
         "y": [
          3.5,
          3.9,
          4.3,
          4.4,
          4.5
         ],
         "yaxis": "y"
        }
       ],
       "layout": {
        "barmode": "relative",
        "legend": {
         "tracegroupgap": 0
        },
        "margin": {
         "t": 60
        },
        "template": {
         "data": {
          "pie": [
           {
            "automargin": true,
            "type": "pie"
           }
          ],
          "scatter": [
           {
            "line": {
             "width": 3
            },
            "marker": {
             "size": 9
            },
            "type": "scatter"
           }
          ],
          "scatter3d": [
           {
            "line": {
             "width": 3
            },
            "marker": {
             "size": 9
            },
            "type": "scatter3d"
           }
          ],
          "scattergeo": [
           {
            "line": {
             "width": 3
            },
            "marker": {
             "size": 9
            },
            "type": "scattergeo"
           }
          ],
          "scattergl": [
           {
            "line": {
             "width": 3
            },
            "marker": {
             "size": 9
            },
            "type": "scattergl"
           }
          ],
          "scatterpolar": [
           {
            "line": {
             "width": 3
            },
            "marker": {
             "size": 9
            },
            "type": "scatterpolar"
           }
          ],
          "scatterpolargl": [
           {
            "line": {
             "width": 3
            },
            "marker": {
             "size": 9
            },
            "type": "scatterpolargl"
           }
          ],
          "scatterternary": [
           {
            "line": {
             "width": 3
            },
            "marker": {
             "size": 9
            },
            "type": "scatterternary"
           }
          ],
          "table": [
           {
            "cells": {
             "height": 30
            },
            "header": {
             "height": 36
            },
            "type": "table"
           }
          ]
         },
         "layout": {
          "font": {
           "size": 18
          },
          "xaxis": {
           "title": {
            "standoff": 15
           }
          },
          "yaxis": {
           "title": {
            "standoff": 15
           }
          }
         }
        },
        "title": {
         "text": "Notas do Ideb, escolas privadas, anos finais de 2015",
         "x": 0.5,
         "y": 0.95
        },
        "xaxis": {
         "anchor": "y",
         "domain": [
          0,
          1
         ],
         "title": {
          "text": "Regiões"
         }
        },
        "yaxis": {
         "anchor": "x",
         "domain": [
          0,
          1
         ],
         "title": {
          "text": "IDEB\n2015\n(N x P)"
         }
        }
       }
      },
      "text/html": [
       "<div>                            <div id=\"097a2aff-64d4-42db-a8b0-9b3117b1a2d2\" class=\"plotly-graph-div\" style=\"height:525px; width:100%;\"></div>            <script type=\"text/javascript\">                require([\"plotly\"], function(Plotly) {                    window.PLOTLYENV=window.PLOTLYENV || {};                                    if (document.getElementById(\"097a2aff-64d4-42db-a8b0-9b3117b1a2d2\")) {                    Plotly.newPlot(                        \"097a2aff-64d4-42db-a8b0-9b3117b1a2d2\",                        [{\"alignmentgroup\":\"True\",\"hovertemplate\":\"Regi\\u00f5es=%{x}<br>IDEB\\n2015\\n(N x P)=%{y}<extra></extra>\",\"legendgroup\":\"\",\"marker\":{\"color\":\"#4C78A8\",\"pattern\":{\"shape\":\"\"}},\"name\":\"\",\"offsetgroup\":\"\",\"orientation\":\"v\",\"showlegend\":false,\"textposition\":\"auto\",\"x\":[\"Nordeste\",\"Norte\",\"Sul\",\"Centro-Oeste\",\"Sudeste\"],\"xaxis\":\"x\",\"y\":[3.5,3.9,4.3,4.4,4.5],\"yaxis\":\"y\",\"type\":\"bar\"}],                        {\"template\":{\"data\":{\"pie\":[{\"automargin\":true,\"type\":\"pie\"}],\"scatter3d\":[{\"line\":{\"width\":3},\"marker\":{\"size\":9},\"type\":\"scatter3d\"}],\"scattergeo\":[{\"line\":{\"width\":3},\"marker\":{\"size\":9},\"type\":\"scattergeo\"}],\"scattergl\":[{\"line\":{\"width\":3},\"marker\":{\"size\":9},\"type\":\"scattergl\"}],\"scatterpolargl\":[{\"line\":{\"width\":3},\"marker\":{\"size\":9},\"type\":\"scatterpolargl\"}],\"scatterpolar\":[{\"line\":{\"width\":3},\"marker\":{\"size\":9},\"type\":\"scatterpolar\"}],\"scatter\":[{\"line\":{\"width\":3},\"marker\":{\"size\":9},\"type\":\"scatter\"}],\"scatterternary\":[{\"line\":{\"width\":3},\"marker\":{\"size\":9},\"type\":\"scatterternary\"}],\"table\":[{\"cells\":{\"height\":30},\"header\":{\"height\":36},\"type\":\"table\"}]},\"layout\":{\"font\":{\"size\":18},\"xaxis\":{\"title\":{\"standoff\":15}},\"yaxis\":{\"title\":{\"standoff\":15}}}},\"xaxis\":{\"anchor\":\"y\",\"domain\":[0.0,1.0],\"title\":{\"text\":\"Regi\\u00f5es\"}},\"yaxis\":{\"anchor\":\"x\",\"domain\":[0.0,1.0],\"title\":{\"text\":\"IDEB\\n2015\\n(N x P)\"}},\"legend\":{\"tracegroupgap\":0},\"margin\":{\"t\":60},\"barmode\":\"relative\",\"title\":{\"text\":\"Notas do Ideb, escolas privadas, anos finais de 2015\",\"y\":0.95,\"x\":0.5}},                        {\"responsive\": true}                    ).then(function(){\n",
       "                            \n",
       "var gd = document.getElementById('097a2aff-64d4-42db-a8b0-9b3117b1a2d2');\n",
       "var x = new MutationObserver(function (mutations, observer) {{\n",
       "        var display = window.getComputedStyle(gd).display;\n",
       "        if (!display || display === 'none') {{\n",
       "            console.log([gd, 'removed!']);\n",
       "            Plotly.purge(gd);\n",
       "            observer.disconnect();\n",
       "        }}\n",
       "}});\n",
       "\n",
       "// Listen for the removal of the full notebook cells\n",
       "var notebookContainer = gd.closest('#notebook-container');\n",
       "if (notebookContainer) {{\n",
       "    x.observe(notebookContainer, {childList: true});\n",
       "}}\n",
       "\n",
       "// Listen for the clearing of the current output cell\n",
       "var outputEl = gd.closest('.output');\n",
       "if (outputEl) {{\n",
       "    x.observe(outputEl, {childList: true});\n",
       "}}\n",
       "\n",
       "                        })                };                });            </script>        </div>"
      ]
     },
     "metadata": {},
     "output_type": "display_data"
    }
   ],
   "source": [
    "dados_regioes_pri = dados_regioes_pri.sort_values(by= 'IDEB\\n2015\\n(N x P)')\n",
    "fig8 = px.bar(dados_regioes_pri, x = 'Região/\\nUnidade da Federação', y = 'IDEB\\n2015\\n(N x P)', \n",
    "            labels={'Região/\\nUnidade da Federação': 'Regiões'},\n",
    "            color_discrete_sequence=px.colors.qualitative.T10, template='presentation')\n",
    "fig8.update_layout(title={'text' : 'Notas do Ideb, escolas privadas, anos finais de 2015', 'y': 0.95, 'x': 0.5})\n",
    "fig8.show()"
   ]
  },
  {
   "cell_type": "code",
   "execution_count": 93,
   "metadata": {},
   "outputs": [
    {
     "data": {
      "text/html": [
       "<div>\n",
       "<style scoped>\n",
       "    .dataframe tbody tr th:only-of-type {\n",
       "        vertical-align: middle;\n",
       "    }\n",
       "\n",
       "    .dataframe tbody tr th {\n",
       "        vertical-align: top;\n",
       "    }\n",
       "\n",
       "    .dataframe thead th {\n",
       "        text-align: right;\n",
       "    }\n",
       "</style>\n",
       "<table border=\"1\" class=\"dataframe\">\n",
       "  <thead>\n",
       "    <tr style=\"text-align: right;\">\n",
       "      <th></th>\n",
       "      <th>Região/\\nUnidade da Federação</th>\n",
       "      <th>6º a 9º ano</th>\n",
       "      <th>6º</th>\n",
       "      <th>7º</th>\n",
       "      <th>8º</th>\n",
       "      <th>9º</th>\n",
       "      <th>Indicador de Rendimento (P)</th>\n",
       "      <th>6º a 9º ano.1</th>\n",
       "      <th>6º.1</th>\n",
       "      <th>7º.1</th>\n",
       "      <th>...</th>\n",
       "      <th>IDEB\\n2017\\n(N x P)</th>\n",
       "      <th>IDEB\\n2019\\n(N x P)</th>\n",
       "      <th>2007</th>\n",
       "      <th>2009</th>\n",
       "      <th>2011</th>\n",
       "      <th>2013</th>\n",
       "      <th>2015</th>\n",
       "      <th>2017</th>\n",
       "      <th>2019</th>\n",
       "      <th>2021</th>\n",
       "    </tr>\n",
       "    <tr>\n",
       "      <th>Rede</th>\n",
       "      <th></th>\n",
       "      <th></th>\n",
       "      <th></th>\n",
       "      <th></th>\n",
       "      <th></th>\n",
       "      <th></th>\n",
       "      <th></th>\n",
       "      <th></th>\n",
       "      <th></th>\n",
       "      <th></th>\n",
       "      <th></th>\n",
       "      <th></th>\n",
       "      <th></th>\n",
       "      <th></th>\n",
       "      <th></th>\n",
       "      <th></th>\n",
       "      <th></th>\n",
       "      <th></th>\n",
       "      <th></th>\n",
       "      <th></th>\n",
       "      <th></th>\n",
       "    </tr>\n",
       "  </thead>\n",
       "  <tbody>\n",
       "    <tr>\n",
       "      <th>Estadual</th>\n",
       "      <td>Norte</td>\n",
       "      <td>75.3</td>\n",
       "      <td>72.0</td>\n",
       "      <td>75.4</td>\n",
       "      <td>77.5</td>\n",
       "      <td>77.3</td>\n",
       "      <td>0.754841</td>\n",
       "      <td>76.0</td>\n",
       "      <td>72.5</td>\n",
       "      <td>75.3</td>\n",
       "      <td>...</td>\n",
       "      <td>4.2</td>\n",
       "      <td>4.3</td>\n",
       "      <td>3.1</td>\n",
       "      <td>3.3</td>\n",
       "      <td>3.5</td>\n",
       "      <td>3.9</td>\n",
       "      <td>4.3</td>\n",
       "      <td>4.6</td>\n",
       "      <td>4.9</td>\n",
       "      <td>5.1</td>\n",
       "    </tr>\n",
       "    <tr>\n",
       "      <th>Estadual</th>\n",
       "      <td>Sul</td>\n",
       "      <td>76.1</td>\n",
       "      <td>73.4</td>\n",
       "      <td>74.4</td>\n",
       "      <td>76.6</td>\n",
       "      <td>81.3</td>\n",
       "      <td>0.763071</td>\n",
       "      <td>80.5</td>\n",
       "      <td>78.2</td>\n",
       "      <td>79.2</td>\n",
       "      <td>...</td>\n",
       "      <td>4.6</td>\n",
       "      <td>4.8</td>\n",
       "      <td>3.5</td>\n",
       "      <td>3.7</td>\n",
       "      <td>4.0</td>\n",
       "      <td>4.4</td>\n",
       "      <td>4.8</td>\n",
       "      <td>5.0</td>\n",
       "      <td>5.3</td>\n",
       "      <td>5.5</td>\n",
       "    </tr>\n",
       "    <tr>\n",
       "      <th>Estadual</th>\n",
       "      <td>Sudeste</td>\n",
       "      <td>82.1</td>\n",
       "      <td>83.4</td>\n",
       "      <td>83.8</td>\n",
       "      <td>83.8</td>\n",
       "      <td>76.9</td>\n",
       "      <td>0.818655</td>\n",
       "      <td>83.1</td>\n",
       "      <td>84.2</td>\n",
       "      <td>85.4</td>\n",
       "      <td>...</td>\n",
       "      <td>4.6</td>\n",
       "      <td>4.9</td>\n",
       "      <td>3.7</td>\n",
       "      <td>3.8</td>\n",
       "      <td>4.1</td>\n",
       "      <td>4.5</td>\n",
       "      <td>4.9</td>\n",
       "      <td>5.1</td>\n",
       "      <td>5.4</td>\n",
       "      <td>5.6</td>\n",
       "    </tr>\n",
       "    <tr>\n",
       "      <th>Estadual</th>\n",
       "      <td>Nordeste</td>\n",
       "      <td>66.8</td>\n",
       "      <td>58.8</td>\n",
       "      <td>67.1</td>\n",
       "      <td>70.5</td>\n",
       "      <td>73.0</td>\n",
       "      <td>0.668975</td>\n",
       "      <td>69.0</td>\n",
       "      <td>61.7</td>\n",
       "      <td>69.0</td>\n",
       "      <td>...</td>\n",
       "      <td>3.8</td>\n",
       "      <td>4.1</td>\n",
       "      <td>2.7</td>\n",
       "      <td>2.8</td>\n",
       "      <td>3.1</td>\n",
       "      <td>3.5</td>\n",
       "      <td>3.8</td>\n",
       "      <td>4.1</td>\n",
       "      <td>4.4</td>\n",
       "      <td>4.6</td>\n",
       "    </tr>\n",
       "    <tr>\n",
       "      <th>Estadual</th>\n",
       "      <td>Centro-Oeste</td>\n",
       "      <td>72.1</td>\n",
       "      <td>69.4</td>\n",
       "      <td>72.3</td>\n",
       "      <td>73.9</td>\n",
       "      <td>73.3</td>\n",
       "      <td>0.721828</td>\n",
       "      <td>77.0</td>\n",
       "      <td>74.2</td>\n",
       "      <td>77.6</td>\n",
       "      <td>...</td>\n",
       "      <td>4.8</td>\n",
       "      <td>4.8</td>\n",
       "      <td>3.2</td>\n",
       "      <td>3.3</td>\n",
       "      <td>3.6</td>\n",
       "      <td>4.0</td>\n",
       "      <td>4.4</td>\n",
       "      <td>4.6</td>\n",
       "      <td>4.9</td>\n",
       "      <td>5.2</td>\n",
       "    </tr>\n",
       "  </tbody>\n",
       "</table>\n",
       "<p>5 rows × 89 columns</p>\n",
       "</div>"
      ],
      "text/plain": [
       "         Região/\\nUnidade da Federação  6º a 9º ano    6º    7º    8º    9º  \\\n",
       "Rede                                                                          \n",
       "Estadual                         Norte         75.3  72.0  75.4  77.5  77.3   \n",
       "Estadual                           Sul         76.1  73.4  74.4  76.6  81.3   \n",
       "Estadual                       Sudeste         82.1  83.4  83.8  83.8  76.9   \n",
       "Estadual                      Nordeste         66.8  58.8  67.1  70.5  73.0   \n",
       "Estadual                  Centro-Oeste         72.1  69.4  72.3  73.9  73.3   \n",
       "\n",
       "          Indicador de Rendimento (P)  6º a 9º ano.1  6º.1  7º.1  ...  \\\n",
       "Rede                                                              ...   \n",
       "Estadual                     0.754841           76.0  72.5  75.3  ...   \n",
       "Estadual                     0.763071           80.5  78.2  79.2  ...   \n",
       "Estadual                     0.818655           83.1  84.2  85.4  ...   \n",
       "Estadual                     0.668975           69.0  61.7  69.0  ...   \n",
       "Estadual                     0.721828           77.0  74.2  77.6  ...   \n",
       "\n",
       "          IDEB\\n2017\\n(N x P)  IDEB\\n2019\\n(N x P)  2007  2009  2011  2013  \\\n",
       "Rede                                                                         \n",
       "Estadual                  4.2                  4.3   3.1   3.3   3.5   3.9   \n",
       "Estadual                  4.6                  4.8   3.5   3.7   4.0   4.4   \n",
       "Estadual                  4.6                  4.9   3.7   3.8   4.1   4.5   \n",
       "Estadual                  3.8                  4.1   2.7   2.8   3.1   3.5   \n",
       "Estadual                  4.8                  4.8   3.2   3.3   3.6   4.0   \n",
       "\n",
       "          2015  2017  2019  2021  \n",
       "Rede                              \n",
       "Estadual   4.3   4.6   4.9   5.1  \n",
       "Estadual   4.8   5.0   5.3   5.5  \n",
       "Estadual   4.9   5.1   5.4   5.6  \n",
       "Estadual   3.8   4.1   4.4   4.6  \n",
       "Estadual   4.4   4.6   4.9   5.2  \n",
       "\n",
       "[5 rows x 89 columns]"
      ]
     },
     "execution_count": 93,
     "metadata": {},
     "output_type": "execute_result"
    }
   ],
   "source": [
    "dados_regioes_est = dados_regioes.reset_index()\n",
    "dados_regioes_est = dados_regioes_est.set_index('Rede')\n",
    "dados_regioes_est = dados_regioes_est.loc[['Estadual']]\n",
    "dados_regioes_est.head()"
   ]
  },
  {
   "cell_type": "code",
   "execution_count": 94,
   "metadata": {},
   "outputs": [
    {
     "data": {
      "application/vnd.plotly.v1+json": {
       "config": {
        "plotlyServerURL": "https://plot.ly"
       },
       "data": [
        {
         "alignmentgroup": "True",
         "hovertemplate": "Regiões=%{x}<br>IDEB\n2019\n(N x P)=%{y}<extra></extra>",
         "legendgroup": "",
         "marker": {
          "color": "#4C78A8",
          "pattern": {
           "shape": ""
          }
         },
         "name": "",
         "offsetgroup": "",
         "orientation": "v",
         "showlegend": false,
         "textposition": "auto",
         "type": "bar",
         "x": [
          "Nordeste",
          "Norte",
          "Sul",
          "Centro-Oeste",
          "Sudeste"
         ],
         "xaxis": "x",
         "y": [
          4.1,
          4.3,
          4.8,
          4.8,
          4.9
         ],
         "yaxis": "y"
        }
       ],
       "layout": {
        "barmode": "relative",
        "legend": {
         "tracegroupgap": 0
        },
        "margin": {
         "t": 60
        },
        "template": {
         "data": {
          "pie": [
           {
            "automargin": true,
            "type": "pie"
           }
          ],
          "scatter": [
           {
            "line": {
             "width": 3
            },
            "marker": {
             "size": 9
            },
            "type": "scatter"
           }
          ],
          "scatter3d": [
           {
            "line": {
             "width": 3
            },
            "marker": {
             "size": 9
            },
            "type": "scatter3d"
           }
          ],
          "scattergeo": [
           {
            "line": {
             "width": 3
            },
            "marker": {
             "size": 9
            },
            "type": "scattergeo"
           }
          ],
          "scattergl": [
           {
            "line": {
             "width": 3
            },
            "marker": {
             "size": 9
            },
            "type": "scattergl"
           }
          ],
          "scatterpolar": [
           {
            "line": {
             "width": 3
            },
            "marker": {
             "size": 9
            },
            "type": "scatterpolar"
           }
          ],
          "scatterpolargl": [
           {
            "line": {
             "width": 3
            },
            "marker": {
             "size": 9
            },
            "type": "scatterpolargl"
           }
          ],
          "scatterternary": [
           {
            "line": {
             "width": 3
            },
            "marker": {
             "size": 9
            },
            "type": "scatterternary"
           }
          ],
          "table": [
           {
            "cells": {
             "height": 30
            },
            "header": {
             "height": 36
            },
            "type": "table"
           }
          ]
         },
         "layout": {
          "font": {
           "size": 18
          },
          "xaxis": {
           "title": {
            "standoff": 15
           }
          },
          "yaxis": {
           "title": {
            "standoff": 15
           }
          }
         }
        },
        "title": {
         "text": "Notas do Ideb, escolas privadas, anos finais de 2019",
         "x": 0.5,
         "y": 0.95
        },
        "xaxis": {
         "anchor": "y",
         "domain": [
          0,
          1
         ],
         "title": {
          "text": "Regiões"
         }
        },
        "yaxis": {
         "anchor": "x",
         "domain": [
          0,
          1
         ],
         "title": {
          "text": "IDEB\n2019\n(N x P)"
         }
        }
       }
      },
      "text/html": [
       "<div>                            <div id=\"8fb7cba2-ea07-4ed1-acd0-487f22539c4c\" class=\"plotly-graph-div\" style=\"height:525px; width:100%;\"></div>            <script type=\"text/javascript\">                require([\"plotly\"], function(Plotly) {                    window.PLOTLYENV=window.PLOTLYENV || {};                                    if (document.getElementById(\"8fb7cba2-ea07-4ed1-acd0-487f22539c4c\")) {                    Plotly.newPlot(                        \"8fb7cba2-ea07-4ed1-acd0-487f22539c4c\",                        [{\"alignmentgroup\":\"True\",\"hovertemplate\":\"Regi\\u00f5es=%{x}<br>IDEB\\n2019\\n(N x P)=%{y}<extra></extra>\",\"legendgroup\":\"\",\"marker\":{\"color\":\"#4C78A8\",\"pattern\":{\"shape\":\"\"}},\"name\":\"\",\"offsetgroup\":\"\",\"orientation\":\"v\",\"showlegend\":false,\"textposition\":\"auto\",\"x\":[\"Nordeste\",\"Norte\",\"Sul\",\"Centro-Oeste\",\"Sudeste\"],\"xaxis\":\"x\",\"y\":[4.1,4.3,4.8,4.8,4.9],\"yaxis\":\"y\",\"type\":\"bar\"}],                        {\"template\":{\"data\":{\"pie\":[{\"automargin\":true,\"type\":\"pie\"}],\"scatter3d\":[{\"line\":{\"width\":3},\"marker\":{\"size\":9},\"type\":\"scatter3d\"}],\"scattergeo\":[{\"line\":{\"width\":3},\"marker\":{\"size\":9},\"type\":\"scattergeo\"}],\"scattergl\":[{\"line\":{\"width\":3},\"marker\":{\"size\":9},\"type\":\"scattergl\"}],\"scatterpolargl\":[{\"line\":{\"width\":3},\"marker\":{\"size\":9},\"type\":\"scatterpolargl\"}],\"scatterpolar\":[{\"line\":{\"width\":3},\"marker\":{\"size\":9},\"type\":\"scatterpolar\"}],\"scatter\":[{\"line\":{\"width\":3},\"marker\":{\"size\":9},\"type\":\"scatter\"}],\"scatterternary\":[{\"line\":{\"width\":3},\"marker\":{\"size\":9},\"type\":\"scatterternary\"}],\"table\":[{\"cells\":{\"height\":30},\"header\":{\"height\":36},\"type\":\"table\"}]},\"layout\":{\"font\":{\"size\":18},\"xaxis\":{\"title\":{\"standoff\":15}},\"yaxis\":{\"title\":{\"standoff\":15}}}},\"xaxis\":{\"anchor\":\"y\",\"domain\":[0.0,1.0],\"title\":{\"text\":\"Regi\\u00f5es\"}},\"yaxis\":{\"anchor\":\"x\",\"domain\":[0.0,1.0],\"title\":{\"text\":\"IDEB\\n2019\\n(N x P)\"}},\"legend\":{\"tracegroupgap\":0},\"margin\":{\"t\":60},\"barmode\":\"relative\",\"title\":{\"text\":\"Notas do Ideb, escolas privadas, anos finais de 2019\",\"y\":0.95,\"x\":0.5}},                        {\"responsive\": true}                    ).then(function(){\n",
       "                            \n",
       "var gd = document.getElementById('8fb7cba2-ea07-4ed1-acd0-487f22539c4c');\n",
       "var x = new MutationObserver(function (mutations, observer) {{\n",
       "        var display = window.getComputedStyle(gd).display;\n",
       "        if (!display || display === 'none') {{\n",
       "            console.log([gd, 'removed!']);\n",
       "            Plotly.purge(gd);\n",
       "            observer.disconnect();\n",
       "        }}\n",
       "}});\n",
       "\n",
       "// Listen for the removal of the full notebook cells\n",
       "var notebookContainer = gd.closest('#notebook-container');\n",
       "if (notebookContainer) {{\n",
       "    x.observe(notebookContainer, {childList: true});\n",
       "}}\n",
       "\n",
       "// Listen for the clearing of the current output cell\n",
       "var outputEl = gd.closest('.output');\n",
       "if (outputEl) {{\n",
       "    x.observe(outputEl, {childList: true});\n",
       "}}\n",
       "\n",
       "                        })                };                });            </script>        </div>"
      ]
     },
     "metadata": {},
     "output_type": "display_data"
    }
   ],
   "source": [
    "dados_regioes_est = dados_regioes_est.sort_values(by= 'IDEB\\n2019\\n(N x P)')\n",
    "fig9 = px.bar(dados_regioes_est, x = 'Região/\\nUnidade da Federação', y = 'IDEB\\n2019\\n(N x P)', \n",
    "            labels={'Região/\\nUnidade da Federação': 'Regiões'},\n",
    "            color_discrete_sequence=px.colors.qualitative.T10, template='presentation')\n",
    "fig9.update_layout(title={'text' : 'Notas do Ideb, escolas privadas, anos finais de 2019', 'y': 0.95, 'x': 0.5})\n",
    "fig9.show()"
   ]
  },
  {
   "cell_type": "code",
   "execution_count": 95,
   "metadata": {},
   "outputs": [
    {
     "data": {
      "application/vnd.plotly.v1+json": {
       "config": {
        "plotlyServerURL": "https://plot.ly"
       },
       "data": [
        {
         "alignmentgroup": "True",
         "hovertemplate": "Regiões=%{x}<br>IDEB\n2017\n(N x P)=%{y}<extra></extra>",
         "legendgroup": "",
         "marker": {
          "color": "#4C78A8",
          "pattern": {
           "shape": ""
          }
         },
         "name": "",
         "offsetgroup": "",
         "orientation": "v",
         "showlegend": false,
         "textposition": "auto",
         "type": "bar",
         "x": [
          "Nordeste",
          "Norte",
          "Sul",
          "Sudeste",
          "Centro-Oeste"
         ],
         "xaxis": "x",
         "y": [
          3.8,
          4.2,
          4.6,
          4.6,
          4.8
         ],
         "yaxis": "y"
        }
       ],
       "layout": {
        "barmode": "relative",
        "legend": {
         "tracegroupgap": 0
        },
        "margin": {
         "t": 60
        },
        "template": {
         "data": {
          "pie": [
           {
            "automargin": true,
            "type": "pie"
           }
          ],
          "scatter": [
           {
            "line": {
             "width": 3
            },
            "marker": {
             "size": 9
            },
            "type": "scatter"
           }
          ],
          "scatter3d": [
           {
            "line": {
             "width": 3
            },
            "marker": {
             "size": 9
            },
            "type": "scatter3d"
           }
          ],
          "scattergeo": [
           {
            "line": {
             "width": 3
            },
            "marker": {
             "size": 9
            },
            "type": "scattergeo"
           }
          ],
          "scattergl": [
           {
            "line": {
             "width": 3
            },
            "marker": {
             "size": 9
            },
            "type": "scattergl"
           }
          ],
          "scatterpolar": [
           {
            "line": {
             "width": 3
            },
            "marker": {
             "size": 9
            },
            "type": "scatterpolar"
           }
          ],
          "scatterpolargl": [
           {
            "line": {
             "width": 3
            },
            "marker": {
             "size": 9
            },
            "type": "scatterpolargl"
           }
          ],
          "scatterternary": [
           {
            "line": {
             "width": 3
            },
            "marker": {
             "size": 9
            },
            "type": "scatterternary"
           }
          ],
          "table": [
           {
            "cells": {
             "height": 30
            },
            "header": {
             "height": 36
            },
            "type": "table"
           }
          ]
         },
         "layout": {
          "font": {
           "size": 18
          },
          "xaxis": {
           "title": {
            "standoff": 15
           }
          },
          "yaxis": {
           "title": {
            "standoff": 15
           }
          }
         }
        },
        "title": {
         "text": "Notas do Ideb, escolas privadas, anos finais de 2017",
         "x": 0.5,
         "y": 0.95
        },
        "xaxis": {
         "anchor": "y",
         "domain": [
          0,
          1
         ],
         "title": {
          "text": "Regiões"
         }
        },
        "yaxis": {
         "anchor": "x",
         "domain": [
          0,
          1
         ],
         "title": {
          "text": "IDEB\n2017\n(N x P)"
         }
        }
       }
      },
      "text/html": [
       "<div>                            <div id=\"252f8a98-79a1-47cf-9a64-3555d35ccab4\" class=\"plotly-graph-div\" style=\"height:525px; width:100%;\"></div>            <script type=\"text/javascript\">                require([\"plotly\"], function(Plotly) {                    window.PLOTLYENV=window.PLOTLYENV || {};                                    if (document.getElementById(\"252f8a98-79a1-47cf-9a64-3555d35ccab4\")) {                    Plotly.newPlot(                        \"252f8a98-79a1-47cf-9a64-3555d35ccab4\",                        [{\"alignmentgroup\":\"True\",\"hovertemplate\":\"Regi\\u00f5es=%{x}<br>IDEB\\n2017\\n(N x P)=%{y}<extra></extra>\",\"legendgroup\":\"\",\"marker\":{\"color\":\"#4C78A8\",\"pattern\":{\"shape\":\"\"}},\"name\":\"\",\"offsetgroup\":\"\",\"orientation\":\"v\",\"showlegend\":false,\"textposition\":\"auto\",\"x\":[\"Nordeste\",\"Norte\",\"Sul\",\"Sudeste\",\"Centro-Oeste\"],\"xaxis\":\"x\",\"y\":[3.8,4.2,4.6,4.6,4.8],\"yaxis\":\"y\",\"type\":\"bar\"}],                        {\"template\":{\"data\":{\"pie\":[{\"automargin\":true,\"type\":\"pie\"}],\"scatter3d\":[{\"line\":{\"width\":3},\"marker\":{\"size\":9},\"type\":\"scatter3d\"}],\"scattergeo\":[{\"line\":{\"width\":3},\"marker\":{\"size\":9},\"type\":\"scattergeo\"}],\"scattergl\":[{\"line\":{\"width\":3},\"marker\":{\"size\":9},\"type\":\"scattergl\"}],\"scatterpolargl\":[{\"line\":{\"width\":3},\"marker\":{\"size\":9},\"type\":\"scatterpolargl\"}],\"scatterpolar\":[{\"line\":{\"width\":3},\"marker\":{\"size\":9},\"type\":\"scatterpolar\"}],\"scatter\":[{\"line\":{\"width\":3},\"marker\":{\"size\":9},\"type\":\"scatter\"}],\"scatterternary\":[{\"line\":{\"width\":3},\"marker\":{\"size\":9},\"type\":\"scatterternary\"}],\"table\":[{\"cells\":{\"height\":30},\"header\":{\"height\":36},\"type\":\"table\"}]},\"layout\":{\"font\":{\"size\":18},\"xaxis\":{\"title\":{\"standoff\":15}},\"yaxis\":{\"title\":{\"standoff\":15}}}},\"xaxis\":{\"anchor\":\"y\",\"domain\":[0.0,1.0],\"title\":{\"text\":\"Regi\\u00f5es\"}},\"yaxis\":{\"anchor\":\"x\",\"domain\":[0.0,1.0],\"title\":{\"text\":\"IDEB\\n2017\\n(N x P)\"}},\"legend\":{\"tracegroupgap\":0},\"margin\":{\"t\":60},\"barmode\":\"relative\",\"title\":{\"text\":\"Notas do Ideb, escolas privadas, anos finais de 2017\",\"y\":0.95,\"x\":0.5}},                        {\"responsive\": true}                    ).then(function(){\n",
       "                            \n",
       "var gd = document.getElementById('252f8a98-79a1-47cf-9a64-3555d35ccab4');\n",
       "var x = new MutationObserver(function (mutations, observer) {{\n",
       "        var display = window.getComputedStyle(gd).display;\n",
       "        if (!display || display === 'none') {{\n",
       "            console.log([gd, 'removed!']);\n",
       "            Plotly.purge(gd);\n",
       "            observer.disconnect();\n",
       "        }}\n",
       "}});\n",
       "\n",
       "// Listen for the removal of the full notebook cells\n",
       "var notebookContainer = gd.closest('#notebook-container');\n",
       "if (notebookContainer) {{\n",
       "    x.observe(notebookContainer, {childList: true});\n",
       "}}\n",
       "\n",
       "// Listen for the clearing of the current output cell\n",
       "var outputEl = gd.closest('.output');\n",
       "if (outputEl) {{\n",
       "    x.observe(outputEl, {childList: true});\n",
       "}}\n",
       "\n",
       "                        })                };                });            </script>        </div>"
      ]
     },
     "metadata": {},
     "output_type": "display_data"
    }
   ],
   "source": [
    "dados_regioes_est = dados_regioes_est.sort_values(by= 'IDEB\\n2017\\n(N x P)')\n",
    "fig10 = px.bar(dados_regioes_est, x = 'Região/\\nUnidade da Federação', y = 'IDEB\\n2017\\n(N x P)', \n",
    "            labels={'Região/\\nUnidade da Federação': 'Regiões'},\n",
    "            color_discrete_sequence=px.colors.qualitative.T10, template='presentation')\n",
    "fig10.update_layout(title={'text' : 'Notas do Ideb, escolas privadas, anos finais de 2017', 'y': 0.95, 'x': 0.5})\n",
    "fig10.show()"
   ]
  },
  {
   "cell_type": "code",
   "execution_count": 96,
   "metadata": {},
   "outputs": [
    {
     "data": {
      "application/vnd.plotly.v1+json": {
       "config": {
        "plotlyServerURL": "https://plot.ly"
       },
       "data": [
        {
         "alignmentgroup": "True",
         "hovertemplate": "Regiões=%{x}<br>IDEB\n2015\n(N x P)=%{y}<extra></extra>",
         "legendgroup": "",
         "marker": {
          "color": "#4C78A8",
          "pattern": {
           "shape": ""
          }
         },
         "name": "",
         "offsetgroup": "",
         "orientation": "v",
         "showlegend": false,
         "textposition": "auto",
         "type": "bar",
         "x": [
          "Nordeste",
          "Norte",
          "Sul",
          "Centro-Oeste",
          "Sudeste"
         ],
         "xaxis": "x",
         "y": [
          3.5,
          3.9,
          4.3,
          4.4,
          4.5
         ],
         "yaxis": "y"
        }
       ],
       "layout": {
        "barmode": "relative",
        "legend": {
         "tracegroupgap": 0
        },
        "margin": {
         "t": 60
        },
        "template": {
         "data": {
          "pie": [
           {
            "automargin": true,
            "type": "pie"
           }
          ],
          "scatter": [
           {
            "line": {
             "width": 3
            },
            "marker": {
             "size": 9
            },
            "type": "scatter"
           }
          ],
          "scatter3d": [
           {
            "line": {
             "width": 3
            },
            "marker": {
             "size": 9
            },
            "type": "scatter3d"
           }
          ],
          "scattergeo": [
           {
            "line": {
             "width": 3
            },
            "marker": {
             "size": 9
            },
            "type": "scattergeo"
           }
          ],
          "scattergl": [
           {
            "line": {
             "width": 3
            },
            "marker": {
             "size": 9
            },
            "type": "scattergl"
           }
          ],
          "scatterpolar": [
           {
            "line": {
             "width": 3
            },
            "marker": {
             "size": 9
            },
            "type": "scatterpolar"
           }
          ],
          "scatterpolargl": [
           {
            "line": {
             "width": 3
            },
            "marker": {
             "size": 9
            },
            "type": "scatterpolargl"
           }
          ],
          "scatterternary": [
           {
            "line": {
             "width": 3
            },
            "marker": {
             "size": 9
            },
            "type": "scatterternary"
           }
          ],
          "table": [
           {
            "cells": {
             "height": 30
            },
            "header": {
             "height": 36
            },
            "type": "table"
           }
          ]
         },
         "layout": {
          "font": {
           "size": 18
          },
          "xaxis": {
           "title": {
            "standoff": 15
           }
          },
          "yaxis": {
           "title": {
            "standoff": 15
           }
          }
         }
        },
        "title": {
         "text": "Notas do Ideb, escolas privadas, anos finais de 2015",
         "x": 0.5,
         "y": 0.95
        },
        "xaxis": {
         "anchor": "y",
         "domain": [
          0,
          1
         ],
         "title": {
          "text": "Regiões"
         }
        },
        "yaxis": {
         "anchor": "x",
         "domain": [
          0,
          1
         ],
         "title": {
          "text": "IDEB\n2015\n(N x P)"
         }
        }
       }
      },
      "text/html": [
       "<div>                            <div id=\"15b022b4-3296-4a40-b5f7-ada4ac5de813\" class=\"plotly-graph-div\" style=\"height:525px; width:100%;\"></div>            <script type=\"text/javascript\">                require([\"plotly\"], function(Plotly) {                    window.PLOTLYENV=window.PLOTLYENV || {};                                    if (document.getElementById(\"15b022b4-3296-4a40-b5f7-ada4ac5de813\")) {                    Plotly.newPlot(                        \"15b022b4-3296-4a40-b5f7-ada4ac5de813\",                        [{\"alignmentgroup\":\"True\",\"hovertemplate\":\"Regi\\u00f5es=%{x}<br>IDEB\\n2015\\n(N x P)=%{y}<extra></extra>\",\"legendgroup\":\"\",\"marker\":{\"color\":\"#4C78A8\",\"pattern\":{\"shape\":\"\"}},\"name\":\"\",\"offsetgroup\":\"\",\"orientation\":\"v\",\"showlegend\":false,\"textposition\":\"auto\",\"x\":[\"Nordeste\",\"Norte\",\"Sul\",\"Centro-Oeste\",\"Sudeste\"],\"xaxis\":\"x\",\"y\":[3.5,3.9,4.3,4.4,4.5],\"yaxis\":\"y\",\"type\":\"bar\"}],                        {\"template\":{\"data\":{\"pie\":[{\"automargin\":true,\"type\":\"pie\"}],\"scatter3d\":[{\"line\":{\"width\":3},\"marker\":{\"size\":9},\"type\":\"scatter3d\"}],\"scattergeo\":[{\"line\":{\"width\":3},\"marker\":{\"size\":9},\"type\":\"scattergeo\"}],\"scattergl\":[{\"line\":{\"width\":3},\"marker\":{\"size\":9},\"type\":\"scattergl\"}],\"scatterpolargl\":[{\"line\":{\"width\":3},\"marker\":{\"size\":9},\"type\":\"scatterpolargl\"}],\"scatterpolar\":[{\"line\":{\"width\":3},\"marker\":{\"size\":9},\"type\":\"scatterpolar\"}],\"scatter\":[{\"line\":{\"width\":3},\"marker\":{\"size\":9},\"type\":\"scatter\"}],\"scatterternary\":[{\"line\":{\"width\":3},\"marker\":{\"size\":9},\"type\":\"scatterternary\"}],\"table\":[{\"cells\":{\"height\":30},\"header\":{\"height\":36},\"type\":\"table\"}]},\"layout\":{\"font\":{\"size\":18},\"xaxis\":{\"title\":{\"standoff\":15}},\"yaxis\":{\"title\":{\"standoff\":15}}}},\"xaxis\":{\"anchor\":\"y\",\"domain\":[0.0,1.0],\"title\":{\"text\":\"Regi\\u00f5es\"}},\"yaxis\":{\"anchor\":\"x\",\"domain\":[0.0,1.0],\"title\":{\"text\":\"IDEB\\n2015\\n(N x P)\"}},\"legend\":{\"tracegroupgap\":0},\"margin\":{\"t\":60},\"barmode\":\"relative\",\"title\":{\"text\":\"Notas do Ideb, escolas privadas, anos finais de 2015\",\"y\":0.95,\"x\":0.5}},                        {\"responsive\": true}                    ).then(function(){\n",
       "                            \n",
       "var gd = document.getElementById('15b022b4-3296-4a40-b5f7-ada4ac5de813');\n",
       "var x = new MutationObserver(function (mutations, observer) {{\n",
       "        var display = window.getComputedStyle(gd).display;\n",
       "        if (!display || display === 'none') {{\n",
       "            console.log([gd, 'removed!']);\n",
       "            Plotly.purge(gd);\n",
       "            observer.disconnect();\n",
       "        }}\n",
       "}});\n",
       "\n",
       "// Listen for the removal of the full notebook cells\n",
       "var notebookContainer = gd.closest('#notebook-container');\n",
       "if (notebookContainer) {{\n",
       "    x.observe(notebookContainer, {childList: true});\n",
       "}}\n",
       "\n",
       "// Listen for the clearing of the current output cell\n",
       "var outputEl = gd.closest('.output');\n",
       "if (outputEl) {{\n",
       "    x.observe(outputEl, {childList: true});\n",
       "}}\n",
       "\n",
       "                        })                };                });            </script>        </div>"
      ]
     },
     "metadata": {},
     "output_type": "display_data"
    }
   ],
   "source": [
    "dados_regioes_est = dados_regioes_est.sort_values(by= 'IDEB\\n2015\\n(N x P)')\n",
    "fig11 = px.bar(dados_regioes_est, x = 'Região/\\nUnidade da Federação', y = 'IDEB\\n2015\\n(N x P)', \n",
    "            labels={'Região/\\nUnidade da Federação': 'Regiões'},\n",
    "            color_discrete_sequence=px.colors.qualitative.T10, template='presentation')\n",
    "fig11.update_layout(title={'text' : 'Notas do Ideb, escolas privadas, anos finais de 2015', 'y': 0.95, 'x': 0.5})\n",
    "fig11.show()"
   ]
  },
  {
   "cell_type": "code",
   "execution_count": null,
   "metadata": {},
   "outputs": [],
   "source": []
  },
  {
   "cell_type": "code",
   "execution_count": null,
   "metadata": {},
   "outputs": [],
   "source": []
  }
 ],
 "metadata": {
  "kernelspec": {
   "display_name": "Python 3",
   "language": "python",
   "name": "python3"
  },
  "language_info": {
   "codemirror_mode": {
    "name": "ipython",
    "version": 3
   },
   "file_extension": ".py",
   "mimetype": "text/x-python",
   "name": "python",
   "nbconvert_exporter": "python",
   "pygments_lexer": "ipython3",
   "version": "3.8.8"
  }
 },
 "nbformat": 4,
 "nbformat_minor": 4
}
