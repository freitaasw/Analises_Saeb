{
 "cells": [
  {
   "cell_type": "code",
   "execution_count": 1,
   "id": "e289b979",
   "metadata": {},
   "outputs": [
    {
     "data": {
      "text/html": [
       "<div>\n",
       "<style scoped>\n",
       "    .dataframe tbody tr th:only-of-type {\n",
       "        vertical-align: middle;\n",
       "    }\n",
       "\n",
       "    .dataframe tbody tr th {\n",
       "        vertical-align: top;\n",
       "    }\n",
       "\n",
       "    .dataframe thead th {\n",
       "        text-align: right;\n",
       "    }\n",
       "</style>\n",
       "<table border=\"1\" class=\"dataframe\">\n",
       "  <thead>\n",
       "    <tr style=\"text-align: right;\">\n",
       "      <th></th>\n",
       "      <th>CO_REGIAO</th>\n",
       "      <th>NO_REGIAO</th>\n",
       "      <th>DEPENDENCIA_ADM</th>\n",
       "      <th>LOCALIZACAO</th>\n",
       "      <th>CAPITAL</th>\n",
       "      <th>MEDIA_2_LP</th>\n",
       "      <th>MEDIA_2_MT</th>\n",
       "      <th>MEDIA_5_LP</th>\n",
       "      <th>MEDIA_5_MT</th>\n",
       "      <th>MEDIA_9_LP</th>\n",
       "      <th>...</th>\n",
       "      <th>nivel_1_MTEM</th>\n",
       "      <th>nivel_2_MTEM</th>\n",
       "      <th>nivel_3_MTEM</th>\n",
       "      <th>nivel_4_MTEM</th>\n",
       "      <th>nivel_5_MTEM</th>\n",
       "      <th>nivel_6_MTEM</th>\n",
       "      <th>nivel_7_MTEM</th>\n",
       "      <th>nivel_8_MTEM</th>\n",
       "      <th>nivel_9_MTEM</th>\n",
       "      <th>nivel_10_MTEM</th>\n",
       "    </tr>\n",
       "  </thead>\n",
       "  <tbody>\n",
       "    <tr>\n",
       "      <th>0</th>\n",
       "      <td>1</td>\n",
       "      <td>Norte</td>\n",
       "      <td>Estadual</td>\n",
       "      <td>Rural</td>\n",
       "      <td>Capital</td>\n",
       "      <td>712.03</td>\n",
       "      <td>721.96</td>\n",
       "      <td>184.98</td>\n",
       "      <td>194.85</td>\n",
       "      <td>234.08</td>\n",
       "      <td>...</td>\n",
       "      <td>19.69</td>\n",
       "      <td>15.10</td>\n",
       "      <td>13.31</td>\n",
       "      <td>6.37</td>\n",
       "      <td>1.85</td>\n",
       "      <td>1.37</td>\n",
       "      <td>0.00</td>\n",
       "      <td>0.00</td>\n",
       "      <td>0.00</td>\n",
       "      <td>0.0</td>\n",
       "    </tr>\n",
       "    <tr>\n",
       "      <th>1</th>\n",
       "      <td>1</td>\n",
       "      <td>Norte</td>\n",
       "      <td>Estadual</td>\n",
       "      <td>Rural</td>\n",
       "      <td>Interior</td>\n",
       "      <td>719.78</td>\n",
       "      <td>726.00</td>\n",
       "      <td>167.88</td>\n",
       "      <td>182.51</td>\n",
       "      <td>222.13</td>\n",
       "      <td>...</td>\n",
       "      <td>19.36</td>\n",
       "      <td>14.92</td>\n",
       "      <td>9.19</td>\n",
       "      <td>3.85</td>\n",
       "      <td>1.31</td>\n",
       "      <td>0.41</td>\n",
       "      <td>0.07</td>\n",
       "      <td>0.00</td>\n",
       "      <td>0.00</td>\n",
       "      <td>0.0</td>\n",
       "    </tr>\n",
       "    <tr>\n",
       "      <th>2</th>\n",
       "      <td>1</td>\n",
       "      <td>Norte</td>\n",
       "      <td>Estadual</td>\n",
       "      <td>Rural</td>\n",
       "      <td>Total</td>\n",
       "      <td>717.60</td>\n",
       "      <td>724.86</td>\n",
       "      <td>172.16</td>\n",
       "      <td>185.60</td>\n",
       "      <td>223.67</td>\n",
       "      <td>...</td>\n",
       "      <td>19.38</td>\n",
       "      <td>14.93</td>\n",
       "      <td>9.38</td>\n",
       "      <td>3.97</td>\n",
       "      <td>1.33</td>\n",
       "      <td>0.45</td>\n",
       "      <td>0.06</td>\n",
       "      <td>0.00</td>\n",
       "      <td>0.00</td>\n",
       "      <td>0.0</td>\n",
       "    </tr>\n",
       "    <tr>\n",
       "      <th>3</th>\n",
       "      <td>1</td>\n",
       "      <td>Norte</td>\n",
       "      <td>Estadual</td>\n",
       "      <td>Total</td>\n",
       "      <td>Capital</td>\n",
       "      <td>733.81</td>\n",
       "      <td>740.31</td>\n",
       "      <td>210.17</td>\n",
       "      <td>218.95</td>\n",
       "      <td>249.86</td>\n",
       "      <td>...</td>\n",
       "      <td>17.21</td>\n",
       "      <td>18.55</td>\n",
       "      <td>16.35</td>\n",
       "      <td>10.42</td>\n",
       "      <td>5.16</td>\n",
       "      <td>1.99</td>\n",
       "      <td>0.58</td>\n",
       "      <td>0.17</td>\n",
       "      <td>0.04</td>\n",
       "      <td>0.0</td>\n",
       "    </tr>\n",
       "    <tr>\n",
       "      <th>4</th>\n",
       "      <td>1</td>\n",
       "      <td>Norte</td>\n",
       "      <td>Estadual</td>\n",
       "      <td>Total</td>\n",
       "      <td>Interior</td>\n",
       "      <td>736.08</td>\n",
       "      <td>746.74</td>\n",
       "      <td>199.10</td>\n",
       "      <td>211.86</td>\n",
       "      <td>242.06</td>\n",
       "      <td>...</td>\n",
       "      <td>18.69</td>\n",
       "      <td>18.52</td>\n",
       "      <td>14.62</td>\n",
       "      <td>8.37</td>\n",
       "      <td>3.84</td>\n",
       "      <td>1.29</td>\n",
       "      <td>0.30</td>\n",
       "      <td>0.06</td>\n",
       "      <td>0.01</td>\n",
       "      <td>0.0</td>\n",
       "    </tr>\n",
       "    <tr>\n",
       "      <th>5</th>\n",
       "      <td>1</td>\n",
       "      <td>Norte</td>\n",
       "      <td>Estadual</td>\n",
       "      <td>Total</td>\n",
       "      <td>Total</td>\n",
       "      <td>734.83</td>\n",
       "      <td>743.18</td>\n",
       "      <td>204.46</td>\n",
       "      <td>215.30</td>\n",
       "      <td>245.11</td>\n",
       "      <td>...</td>\n",
       "      <td>18.23</td>\n",
       "      <td>18.53</td>\n",
       "      <td>15.15</td>\n",
       "      <td>9.00</td>\n",
       "      <td>4.25</td>\n",
       "      <td>1.51</td>\n",
       "      <td>0.39</td>\n",
       "      <td>0.10</td>\n",
       "      <td>0.02</td>\n",
       "      <td>0.0</td>\n",
       "    </tr>\n",
       "    <tr>\n",
       "      <th>6</th>\n",
       "      <td>1</td>\n",
       "      <td>Norte</td>\n",
       "      <td>Estadual</td>\n",
       "      <td>Urbana</td>\n",
       "      <td>Capital</td>\n",
       "      <td>734.81</td>\n",
       "      <td>741.15</td>\n",
       "      <td>211.26</td>\n",
       "      <td>220.00</td>\n",
       "      <td>250.30</td>\n",
       "      <td>...</td>\n",
       "      <td>17.17</td>\n",
       "      <td>18.60</td>\n",
       "      <td>16.40</td>\n",
       "      <td>10.48</td>\n",
       "      <td>5.21</td>\n",
       "      <td>2.00</td>\n",
       "      <td>0.59</td>\n",
       "      <td>0.18</td>\n",
       "      <td>0.04</td>\n",
       "      <td>0.0</td>\n",
       "    </tr>\n",
       "    <tr>\n",
       "      <th>7</th>\n",
       "      <td>1</td>\n",
       "      <td>Norte</td>\n",
       "      <td>Estadual</td>\n",
       "      <td>Urbana</td>\n",
       "      <td>Interior</td>\n",
       "      <td>738.71</td>\n",
       "      <td>750.08</td>\n",
       "      <td>203.26</td>\n",
       "      <td>215.78</td>\n",
       "      <td>244.70</td>\n",
       "      <td>...</td>\n",
       "      <td>18.57</td>\n",
       "      <td>19.15</td>\n",
       "      <td>15.58</td>\n",
       "      <td>9.17</td>\n",
       "      <td>4.29</td>\n",
       "      <td>1.45</td>\n",
       "      <td>0.34</td>\n",
       "      <td>0.07</td>\n",
       "      <td>0.01</td>\n",
       "      <td>0.0</td>\n",
       "    </tr>\n",
       "    <tr>\n",
       "      <th>8</th>\n",
       "      <td>1</td>\n",
       "      <td>Norte</td>\n",
       "      <td>Estadual</td>\n",
       "      <td>Urbana</td>\n",
       "      <td>Total</td>\n",
       "      <td>736.45</td>\n",
       "      <td>744.91</td>\n",
       "      <td>207.31</td>\n",
       "      <td>217.91</td>\n",
       "      <td>247.02</td>\n",
       "      <td>...</td>\n",
       "      <td>18.09</td>\n",
       "      <td>18.96</td>\n",
       "      <td>15.86</td>\n",
       "      <td>9.61</td>\n",
       "      <td>4.61</td>\n",
       "      <td>1.64</td>\n",
       "      <td>0.43</td>\n",
       "      <td>0.11</td>\n",
       "      <td>0.02</td>\n",
       "      <td>0.0</td>\n",
       "    </tr>\n",
       "    <tr>\n",
       "      <th>9</th>\n",
       "      <td>1</td>\n",
       "      <td>Norte</td>\n",
       "      <td>Federal</td>\n",
       "      <td>Rural</td>\n",
       "      <td>Capital</td>\n",
       "      <td>NaN</td>\n",
       "      <td>NaN</td>\n",
       "      <td>NaN</td>\n",
       "      <td>NaN</td>\n",
       "      <td>NaN</td>\n",
       "      <td>...</td>\n",
       "      <td>2.84</td>\n",
       "      <td>11.78</td>\n",
       "      <td>8.94</td>\n",
       "      <td>28.06</td>\n",
       "      <td>24.39</td>\n",
       "      <td>12.20</td>\n",
       "      <td>2.84</td>\n",
       "      <td>0.00</td>\n",
       "      <td>0.00</td>\n",
       "      <td>0.0</td>\n",
       "    </tr>\n",
       "    <tr>\n",
       "      <th>10</th>\n",
       "      <td>1</td>\n",
       "      <td>Norte</td>\n",
       "      <td>Federal</td>\n",
       "      <td>Rural</td>\n",
       "      <td>Interior</td>\n",
       "      <td>NaN</td>\n",
       "      <td>NaN</td>\n",
       "      <td>NaN</td>\n",
       "      <td>NaN</td>\n",
       "      <td>NaN</td>\n",
       "      <td>...</td>\n",
       "      <td>9.47</td>\n",
       "      <td>14.47</td>\n",
       "      <td>18.83</td>\n",
       "      <td>22.32</td>\n",
       "      <td>18.17</td>\n",
       "      <td>6.12</td>\n",
       "      <td>3.30</td>\n",
       "      <td>0.42</td>\n",
       "      <td>0.00</td>\n",
       "      <td>0.0</td>\n",
       "    </tr>\n",
       "    <tr>\n",
       "      <th>11</th>\n",
       "      <td>1</td>\n",
       "      <td>Norte</td>\n",
       "      <td>Federal</td>\n",
       "      <td>Rural</td>\n",
       "      <td>Total</td>\n",
       "      <td>NaN</td>\n",
       "      <td>NaN</td>\n",
       "      <td>NaN</td>\n",
       "      <td>NaN</td>\n",
       "      <td>NaN</td>\n",
       "      <td>...</td>\n",
       "      <td>9.06</td>\n",
       "      <td>14.30</td>\n",
       "      <td>18.22</td>\n",
       "      <td>22.67</td>\n",
       "      <td>18.55</td>\n",
       "      <td>6.50</td>\n",
       "      <td>3.27</td>\n",
       "      <td>0.40</td>\n",
       "      <td>0.00</td>\n",
       "      <td>0.0</td>\n",
       "    </tr>\n",
       "    <tr>\n",
       "      <th>12</th>\n",
       "      <td>1</td>\n",
       "      <td>Norte</td>\n",
       "      <td>Federal</td>\n",
       "      <td>Total</td>\n",
       "      <td>Capital</td>\n",
       "      <td>764.89</td>\n",
       "      <td>758.83</td>\n",
       "      <td>235.49</td>\n",
       "      <td>241.93</td>\n",
       "      <td>298.55</td>\n",
       "      <td>...</td>\n",
       "      <td>3.00</td>\n",
       "      <td>6.78</td>\n",
       "      <td>13.35</td>\n",
       "      <td>18.22</td>\n",
       "      <td>21.95</td>\n",
       "      <td>16.73</td>\n",
       "      <td>10.83</td>\n",
       "      <td>4.50</td>\n",
       "      <td>0.90</td>\n",
       "      <td>0.0</td>\n",
       "    </tr>\n",
       "    <tr>\n",
       "      <th>13</th>\n",
       "      <td>1</td>\n",
       "      <td>Norte</td>\n",
       "      <td>Federal</td>\n",
       "      <td>Total</td>\n",
       "      <td>Interior</td>\n",
       "      <td>NaN</td>\n",
       "      <td>NaN</td>\n",
       "      <td>NaN</td>\n",
       "      <td>NaN</td>\n",
       "      <td>NaN</td>\n",
       "      <td>...</td>\n",
       "      <td>8.32</td>\n",
       "      <td>14.70</td>\n",
       "      <td>20.53</td>\n",
       "      <td>19.05</td>\n",
       "      <td>16.50</td>\n",
       "      <td>9.58</td>\n",
       "      <td>2.93</td>\n",
       "      <td>1.31</td>\n",
       "      <td>0.05</td>\n",
       "      <td>0.0</td>\n",
       "    </tr>\n",
       "    <tr>\n",
       "      <th>14</th>\n",
       "      <td>1</td>\n",
       "      <td>Norte</td>\n",
       "      <td>Federal</td>\n",
       "      <td>Total</td>\n",
       "      <td>Total</td>\n",
       "      <td>764.89</td>\n",
       "      <td>758.83</td>\n",
       "      <td>235.49</td>\n",
       "      <td>241.93</td>\n",
       "      <td>298.55</td>\n",
       "      <td>...</td>\n",
       "      <td>6.32</td>\n",
       "      <td>11.72</td>\n",
       "      <td>17.83</td>\n",
       "      <td>18.74</td>\n",
       "      <td>18.55</td>\n",
       "      <td>12.26</td>\n",
       "      <td>5.90</td>\n",
       "      <td>2.51</td>\n",
       "      <td>0.37</td>\n",
       "      <td>0.0</td>\n",
       "    </tr>\n",
       "    <tr>\n",
       "      <th>15</th>\n",
       "      <td>1</td>\n",
       "      <td>Norte</td>\n",
       "      <td>Federal</td>\n",
       "      <td>Urbana</td>\n",
       "      <td>Capital</td>\n",
       "      <td>764.89</td>\n",
       "      <td>758.83</td>\n",
       "      <td>235.49</td>\n",
       "      <td>241.93</td>\n",
       "      <td>298.55</td>\n",
       "      <td>...</td>\n",
       "      <td>3.00</td>\n",
       "      <td>6.69</td>\n",
       "      <td>13.42</td>\n",
       "      <td>18.06</td>\n",
       "      <td>21.91</td>\n",
       "      <td>16.80</td>\n",
       "      <td>10.96</td>\n",
       "      <td>4.57</td>\n",
       "      <td>0.92</td>\n",
       "      <td>0.0</td>\n",
       "    </tr>\n",
       "    <tr>\n",
       "      <th>16</th>\n",
       "      <td>1</td>\n",
       "      <td>Norte</td>\n",
       "      <td>Federal</td>\n",
       "      <td>Urbana</td>\n",
       "      <td>Interior</td>\n",
       "      <td>NaN</td>\n",
       "      <td>NaN</td>\n",
       "      <td>NaN</td>\n",
       "      <td>NaN</td>\n",
       "      <td>NaN</td>\n",
       "      <td>...</td>\n",
       "      <td>8.12</td>\n",
       "      <td>14.74</td>\n",
       "      <td>20.82</td>\n",
       "      <td>18.49</td>\n",
       "      <td>16.21</td>\n",
       "      <td>10.17</td>\n",
       "      <td>2.86</td>\n",
       "      <td>1.47</td>\n",
       "      <td>0.06</td>\n",
       "      <td>0.0</td>\n",
       "    </tr>\n",
       "    <tr>\n",
       "      <th>17</th>\n",
       "      <td>1</td>\n",
       "      <td>Norte</td>\n",
       "      <td>Federal</td>\n",
       "      <td>Urbana</td>\n",
       "      <td>Total</td>\n",
       "      <td>764.89</td>\n",
       "      <td>758.83</td>\n",
       "      <td>235.49</td>\n",
       "      <td>241.93</td>\n",
       "      <td>298.55</td>\n",
       "      <td>...</td>\n",
       "      <td>6.03</td>\n",
       "      <td>11.44</td>\n",
       "      <td>17.79</td>\n",
       "      <td>18.31</td>\n",
       "      <td>18.55</td>\n",
       "      <td>12.89</td>\n",
       "      <td>6.19</td>\n",
       "      <td>2.74</td>\n",
       "      <td>0.41</td>\n",
       "      <td>0.0</td>\n",
       "    </tr>\n",
       "    <tr>\n",
       "      <th>18</th>\n",
       "      <td>1</td>\n",
       "      <td>Norte</td>\n",
       "      <td>Municipal</td>\n",
       "      <td>Rural</td>\n",
       "      <td>Capital</td>\n",
       "      <td>725.52</td>\n",
       "      <td>723.14</td>\n",
       "      <td>199.49</td>\n",
       "      <td>213.01</td>\n",
       "      <td>246.91</td>\n",
       "      <td>...</td>\n",
       "      <td>NaN</td>\n",
       "      <td>NaN</td>\n",
       "      <td>NaN</td>\n",
       "      <td>NaN</td>\n",
       "      <td>NaN</td>\n",
       "      <td>NaN</td>\n",
       "      <td>NaN</td>\n",
       "      <td>NaN</td>\n",
       "      <td>NaN</td>\n",
       "      <td>NaN</td>\n",
       "    </tr>\n",
       "    <tr>\n",
       "      <th>19</th>\n",
       "      <td>1</td>\n",
       "      <td>Norte</td>\n",
       "      <td>Municipal</td>\n",
       "      <td>Rural</td>\n",
       "      <td>Interior</td>\n",
       "      <td>717.30</td>\n",
       "      <td>732.72</td>\n",
       "      <td>167.68</td>\n",
       "      <td>182.37</td>\n",
       "      <td>223.45</td>\n",
       "      <td>...</td>\n",
       "      <td>NaN</td>\n",
       "      <td>NaN</td>\n",
       "      <td>NaN</td>\n",
       "      <td>NaN</td>\n",
       "      <td>NaN</td>\n",
       "      <td>NaN</td>\n",
       "      <td>NaN</td>\n",
       "      <td>NaN</td>\n",
       "      <td>NaN</td>\n",
       "      <td>NaN</td>\n",
       "    </tr>\n",
       "    <tr>\n",
       "      <th>20</th>\n",
       "      <td>1</td>\n",
       "      <td>Norte</td>\n",
       "      <td>Municipal</td>\n",
       "      <td>Rural</td>\n",
       "      <td>Total</td>\n",
       "      <td>717.96</td>\n",
       "      <td>731.94</td>\n",
       "      <td>169.34</td>\n",
       "      <td>183.96</td>\n",
       "      <td>224.00</td>\n",
       "      <td>...</td>\n",
       "      <td>NaN</td>\n",
       "      <td>NaN</td>\n",
       "      <td>NaN</td>\n",
       "      <td>NaN</td>\n",
       "      <td>NaN</td>\n",
       "      <td>NaN</td>\n",
       "      <td>NaN</td>\n",
       "      <td>NaN</td>\n",
       "      <td>NaN</td>\n",
       "      <td>NaN</td>\n",
       "    </tr>\n",
       "    <tr>\n",
       "      <th>21</th>\n",
       "      <td>1</td>\n",
       "      <td>Norte</td>\n",
       "      <td>Municipal</td>\n",
       "      <td>Total</td>\n",
       "      <td>Capital</td>\n",
       "      <td>728.93</td>\n",
       "      <td>736.86</td>\n",
       "      <td>208.62</td>\n",
       "      <td>220.83</td>\n",
       "      <td>258.91</td>\n",
       "      <td>...</td>\n",
       "      <td>25.00</td>\n",
       "      <td>25.00</td>\n",
       "      <td>25.00</td>\n",
       "      <td>18.75</td>\n",
       "      <td>0.00</td>\n",
       "      <td>0.00</td>\n",
       "      <td>0.00</td>\n",
       "      <td>0.00</td>\n",
       "      <td>0.00</td>\n",
       "      <td>0.0</td>\n",
       "    </tr>\n",
       "    <tr>\n",
       "      <th>22</th>\n",
       "      <td>1</td>\n",
       "      <td>Norte</td>\n",
       "      <td>Municipal</td>\n",
       "      <td>Total</td>\n",
       "      <td>Interior</td>\n",
       "      <td>723.44</td>\n",
       "      <td>731.97</td>\n",
       "      <td>184.13</td>\n",
       "      <td>197.00</td>\n",
       "      <td>235.10</td>\n",
       "      <td>...</td>\n",
       "      <td>NaN</td>\n",
       "      <td>NaN</td>\n",
       "      <td>NaN</td>\n",
       "      <td>NaN</td>\n",
       "      <td>NaN</td>\n",
       "      <td>NaN</td>\n",
       "      <td>NaN</td>\n",
       "      <td>NaN</td>\n",
       "      <td>NaN</td>\n",
       "      <td>NaN</td>\n",
       "    </tr>\n",
       "    <tr>\n",
       "      <th>23</th>\n",
       "      <td>1</td>\n",
       "      <td>Norte</td>\n",
       "      <td>Municipal</td>\n",
       "      <td>Total</td>\n",
       "      <td>Total</td>\n",
       "      <td>724.82</td>\n",
       "      <td>733.21</td>\n",
       "      <td>189.10</td>\n",
       "      <td>201.83</td>\n",
       "      <td>238.61</td>\n",
       "      <td>...</td>\n",
       "      <td>25.00</td>\n",
       "      <td>25.00</td>\n",
       "      <td>25.00</td>\n",
       "      <td>18.75</td>\n",
       "      <td>0.00</td>\n",
       "      <td>0.00</td>\n",
       "      <td>0.00</td>\n",
       "      <td>0.00</td>\n",
       "      <td>0.00</td>\n",
       "      <td>0.0</td>\n",
       "    </tr>\n",
       "    <tr>\n",
       "      <th>24</th>\n",
       "      <td>1</td>\n",
       "      <td>Norte</td>\n",
       "      <td>Municipal</td>\n",
       "      <td>Urbana</td>\n",
       "      <td>Capital</td>\n",
       "      <td>729.15</td>\n",
       "      <td>737.72</td>\n",
       "      <td>209.24</td>\n",
       "      <td>221.36</td>\n",
       "      <td>259.60</td>\n",
       "      <td>...</td>\n",
       "      <td>25.00</td>\n",
       "      <td>25.00</td>\n",
       "      <td>25.00</td>\n",
       "      <td>18.75</td>\n",
       "      <td>0.00</td>\n",
       "      <td>0.00</td>\n",
       "      <td>0.00</td>\n",
       "      <td>0.00</td>\n",
       "      <td>0.00</td>\n",
       "      <td>0.0</td>\n",
       "    </tr>\n",
       "  </tbody>\n",
       "</table>\n",
       "<p>25 rows × 156 columns</p>\n",
       "</div>"
      ],
      "text/plain": [
       "    CO_REGIAO NO_REGIAO DEPENDENCIA_ADM LOCALIZACAO   CAPITAL  MEDIA_2_LP  \\\n",
       "0           1     Norte        Estadual       Rural   Capital      712.03   \n",
       "1           1     Norte        Estadual       Rural  Interior      719.78   \n",
       "2           1     Norte        Estadual       Rural     Total      717.60   \n",
       "3           1     Norte        Estadual       Total   Capital      733.81   \n",
       "4           1     Norte        Estadual       Total  Interior      736.08   \n",
       "5           1     Norte        Estadual       Total     Total      734.83   \n",
       "6           1     Norte        Estadual      Urbana   Capital      734.81   \n",
       "7           1     Norte        Estadual      Urbana  Interior      738.71   \n",
       "8           1     Norte        Estadual      Urbana     Total      736.45   \n",
       "9           1     Norte         Federal       Rural   Capital         NaN   \n",
       "10          1     Norte         Federal       Rural  Interior         NaN   \n",
       "11          1     Norte         Federal       Rural     Total         NaN   \n",
       "12          1     Norte         Federal       Total   Capital      764.89   \n",
       "13          1     Norte         Federal       Total  Interior         NaN   \n",
       "14          1     Norte         Federal       Total     Total      764.89   \n",
       "15          1     Norte         Federal      Urbana   Capital      764.89   \n",
       "16          1     Norte         Federal      Urbana  Interior         NaN   \n",
       "17          1     Norte         Federal      Urbana     Total      764.89   \n",
       "18          1     Norte       Municipal       Rural   Capital      725.52   \n",
       "19          1     Norte       Municipal       Rural  Interior      717.30   \n",
       "20          1     Norte       Municipal       Rural     Total      717.96   \n",
       "21          1     Norte       Municipal       Total   Capital      728.93   \n",
       "22          1     Norte       Municipal       Total  Interior      723.44   \n",
       "23          1     Norte       Municipal       Total     Total      724.82   \n",
       "24          1     Norte       Municipal      Urbana   Capital      729.15   \n",
       "\n",
       "    MEDIA_2_MT  MEDIA_5_LP  MEDIA_5_MT  MEDIA_9_LP  ...  nivel_1_MTEM  \\\n",
       "0       721.96      184.98      194.85      234.08  ...         19.69   \n",
       "1       726.00      167.88      182.51      222.13  ...         19.36   \n",
       "2       724.86      172.16      185.60      223.67  ...         19.38   \n",
       "3       740.31      210.17      218.95      249.86  ...         17.21   \n",
       "4       746.74      199.10      211.86      242.06  ...         18.69   \n",
       "5       743.18      204.46      215.30      245.11  ...         18.23   \n",
       "6       741.15      211.26      220.00      250.30  ...         17.17   \n",
       "7       750.08      203.26      215.78      244.70  ...         18.57   \n",
       "8       744.91      207.31      217.91      247.02  ...         18.09   \n",
       "9          NaN         NaN         NaN         NaN  ...          2.84   \n",
       "10         NaN         NaN         NaN         NaN  ...          9.47   \n",
       "11         NaN         NaN         NaN         NaN  ...          9.06   \n",
       "12      758.83      235.49      241.93      298.55  ...          3.00   \n",
       "13         NaN         NaN         NaN         NaN  ...          8.32   \n",
       "14      758.83      235.49      241.93      298.55  ...          6.32   \n",
       "15      758.83      235.49      241.93      298.55  ...          3.00   \n",
       "16         NaN         NaN         NaN         NaN  ...          8.12   \n",
       "17      758.83      235.49      241.93      298.55  ...          6.03   \n",
       "18      723.14      199.49      213.01      246.91  ...           NaN   \n",
       "19      732.72      167.68      182.37      223.45  ...           NaN   \n",
       "20      731.94      169.34      183.96      224.00  ...           NaN   \n",
       "21      736.86      208.62      220.83      258.91  ...         25.00   \n",
       "22      731.97      184.13      197.00      235.10  ...           NaN   \n",
       "23      733.21      189.10      201.83      238.61  ...         25.00   \n",
       "24      737.72      209.24      221.36      259.60  ...         25.00   \n",
       "\n",
       "    nivel_2_MTEM  nivel_3_MTEM  nivel_4_MTEM  nivel_5_MTEM  nivel_6_MTEM  \\\n",
       "0          15.10         13.31          6.37          1.85          1.37   \n",
       "1          14.92          9.19          3.85          1.31          0.41   \n",
       "2          14.93          9.38          3.97          1.33          0.45   \n",
       "3          18.55         16.35         10.42          5.16          1.99   \n",
       "4          18.52         14.62          8.37          3.84          1.29   \n",
       "5          18.53         15.15          9.00          4.25          1.51   \n",
       "6          18.60         16.40         10.48          5.21          2.00   \n",
       "7          19.15         15.58          9.17          4.29          1.45   \n",
       "8          18.96         15.86          9.61          4.61          1.64   \n",
       "9          11.78          8.94         28.06         24.39         12.20   \n",
       "10         14.47         18.83         22.32         18.17          6.12   \n",
       "11         14.30         18.22         22.67         18.55          6.50   \n",
       "12          6.78         13.35         18.22         21.95         16.73   \n",
       "13         14.70         20.53         19.05         16.50          9.58   \n",
       "14         11.72         17.83         18.74         18.55         12.26   \n",
       "15          6.69         13.42         18.06         21.91         16.80   \n",
       "16         14.74         20.82         18.49         16.21         10.17   \n",
       "17         11.44         17.79         18.31         18.55         12.89   \n",
       "18           NaN           NaN           NaN           NaN           NaN   \n",
       "19           NaN           NaN           NaN           NaN           NaN   \n",
       "20           NaN           NaN           NaN           NaN           NaN   \n",
       "21         25.00         25.00         18.75          0.00          0.00   \n",
       "22           NaN           NaN           NaN           NaN           NaN   \n",
       "23         25.00         25.00         18.75          0.00          0.00   \n",
       "24         25.00         25.00         18.75          0.00          0.00   \n",
       "\n",
       "    nivel_7_MTEM  nivel_8_MTEM  nivel_9_MTEM  nivel_10_MTEM  \n",
       "0           0.00          0.00          0.00            0.0  \n",
       "1           0.07          0.00          0.00            0.0  \n",
       "2           0.06          0.00          0.00            0.0  \n",
       "3           0.58          0.17          0.04            0.0  \n",
       "4           0.30          0.06          0.01            0.0  \n",
       "5           0.39          0.10          0.02            0.0  \n",
       "6           0.59          0.18          0.04            0.0  \n",
       "7           0.34          0.07          0.01            0.0  \n",
       "8           0.43          0.11          0.02            0.0  \n",
       "9           2.84          0.00          0.00            0.0  \n",
       "10          3.30          0.42          0.00            0.0  \n",
       "11          3.27          0.40          0.00            0.0  \n",
       "12         10.83          4.50          0.90            0.0  \n",
       "13          2.93          1.31          0.05            0.0  \n",
       "14          5.90          2.51          0.37            0.0  \n",
       "15         10.96          4.57          0.92            0.0  \n",
       "16          2.86          1.47          0.06            0.0  \n",
       "17          6.19          2.74          0.41            0.0  \n",
       "18           NaN           NaN           NaN            NaN  \n",
       "19           NaN           NaN           NaN            NaN  \n",
       "20           NaN           NaN           NaN            NaN  \n",
       "21          0.00          0.00          0.00            0.0  \n",
       "22           NaN           NaN           NaN            NaN  \n",
       "23          0.00          0.00          0.00            0.0  \n",
       "24          0.00          0.00          0.00            0.0  \n",
       "\n",
       "[25 rows x 156 columns]"
      ]
     },
     "execution_count": 1,
     "metadata": {},
     "output_type": "execute_result"
    }
   ],
   "source": [
    "import plotly\n",
    "import plotly.express as px\n",
    "import plotly.graph_objects as go\n",
    "import pandas as pd\n",
    "df = pd.read_excel('TS_REGIAO.xlsx')\n",
    "df.head(25)"
   ]
  },
  {
   "cell_type": "code",
   "execution_count": 2,
   "id": "4b283636",
   "metadata": {},
   "outputs": [
    {
     "data": {
      "text/plain": [
       "(306, 156)"
      ]
     },
     "execution_count": 2,
     "metadata": {},
     "output_type": "execute_result"
    }
   ],
   "source": [
    "df.shape"
   ]
  },
  {
   "cell_type": "code",
   "execution_count": 3,
   "id": "c498cf5e",
   "metadata": {},
   "outputs": [
    {
     "data": {
      "text/html": [
       "<div>\n",
       "<style scoped>\n",
       "    .dataframe tbody tr th:only-of-type {\n",
       "        vertical-align: middle;\n",
       "    }\n",
       "\n",
       "    .dataframe tbody tr th {\n",
       "        vertical-align: top;\n",
       "    }\n",
       "\n",
       "    .dataframe thead th {\n",
       "        text-align: right;\n",
       "    }\n",
       "</style>\n",
       "<table border=\"1\" class=\"dataframe\">\n",
       "  <thead>\n",
       "    <tr style=\"text-align: right;\">\n",
       "      <th></th>\n",
       "      <th>CO_REGIAO</th>\n",
       "      <th>MEDIA_2_LP</th>\n",
       "      <th>MEDIA_2_MT</th>\n",
       "      <th>MEDIA_5_LP</th>\n",
       "      <th>MEDIA_5_MT</th>\n",
       "      <th>MEDIA_9_LP</th>\n",
       "      <th>MEDIA_9_MT</th>\n",
       "      <th>MEDIA_9_CH</th>\n",
       "      <th>MEDIA_9_CN</th>\n",
       "    </tr>\n",
       "    <tr>\n",
       "      <th>NO_REGIAO</th>\n",
       "      <th></th>\n",
       "      <th></th>\n",
       "      <th></th>\n",
       "      <th></th>\n",
       "      <th></th>\n",
       "      <th></th>\n",
       "      <th></th>\n",
       "      <th></th>\n",
       "      <th></th>\n",
       "    </tr>\n",
       "  </thead>\n",
       "  <tbody>\n",
       "    <tr>\n",
       "      <th>Centro-Oeste</th>\n",
       "      <td>5</td>\n",
       "      <td>748.314655</td>\n",
       "      <td>744.509655</td>\n",
       "      <td>214.190877</td>\n",
       "      <td>226.613509</td>\n",
       "      <td>261.022586</td>\n",
       "      <td>265.996207</td>\n",
       "      <td>251.897069</td>\n",
       "      <td>255.398103</td>\n",
       "    </tr>\n",
       "    <tr>\n",
       "      <th>Nordeste</th>\n",
       "      <td>2</td>\n",
       "      <td>740.195500</td>\n",
       "      <td>741.276833</td>\n",
       "      <td>206.883115</td>\n",
       "      <td>217.015738</td>\n",
       "      <td>257.598387</td>\n",
       "      <td>261.558871</td>\n",
       "      <td>251.469032</td>\n",
       "      <td>233.614839</td>\n",
       "    </tr>\n",
       "    <tr>\n",
       "      <th>Norte</th>\n",
       "      <td>1</td>\n",
       "      <td>733.444483</td>\n",
       "      <td>738.275690</td>\n",
       "      <td>201.114483</td>\n",
       "      <td>212.586379</td>\n",
       "      <td>251.022241</td>\n",
       "      <td>252.034828</td>\n",
       "      <td>245.733103</td>\n",
       "      <td>241.022931</td>\n",
       "    </tr>\n",
       "    <tr>\n",
       "      <th>Sudeste</th>\n",
       "      <td>3</td>\n",
       "      <td>758.010185</td>\n",
       "      <td>756.443148</td>\n",
       "      <td>225.604259</td>\n",
       "      <td>240.321296</td>\n",
       "      <td>268.640370</td>\n",
       "      <td>273.904815</td>\n",
       "      <td>258.985926</td>\n",
       "      <td>259.185370</td>\n",
       "    </tr>\n",
       "    <tr>\n",
       "      <th>Sul</th>\n",
       "      <td>4</td>\n",
       "      <td>763.381228</td>\n",
       "      <td>758.527193</td>\n",
       "      <td>224.542632</td>\n",
       "      <td>237.978070</td>\n",
       "      <td>271.291695</td>\n",
       "      <td>278.257627</td>\n",
       "      <td>258.393051</td>\n",
       "      <td>262.942034</td>\n",
       "    </tr>\n",
       "  </tbody>\n",
       "</table>\n",
       "</div>"
      ],
      "text/plain": [
       "              CO_REGIAO  MEDIA_2_LP  MEDIA_2_MT  MEDIA_5_LP  MEDIA_5_MT  \\\n",
       "NO_REGIAO                                                                 \n",
       "Centro-Oeste          5  748.314655  744.509655  214.190877  226.613509   \n",
       "Nordeste              2  740.195500  741.276833  206.883115  217.015738   \n",
       "Norte                 1  733.444483  738.275690  201.114483  212.586379   \n",
       "Sudeste               3  758.010185  756.443148  225.604259  240.321296   \n",
       "Sul                   4  763.381228  758.527193  224.542632  237.978070   \n",
       "\n",
       "              MEDIA_9_LP  MEDIA_9_MT  MEDIA_9_CH  MEDIA_9_CN  \n",
       "NO_REGIAO                                                     \n",
       "Centro-Oeste  261.022586  265.996207  251.897069  255.398103  \n",
       "Nordeste      257.598387  261.558871  251.469032  233.614839  \n",
       "Norte         251.022241  252.034828  245.733103  241.022931  \n",
       "Sudeste       268.640370  273.904815  258.985926  259.185370  \n",
       "Sul           271.291695  278.257627  258.393051  262.942034  "
      ]
     },
     "execution_count": 3,
     "metadata": {},
     "output_type": "execute_result"
    }
   ],
   "source": [
    "df = df.iloc[:,:13]\n",
    "df_regioes = df.groupby('NO_REGIAO').mean()\n",
    "df_regioes.head()"
   ]
  },
  {
   "cell_type": "code",
   "execution_count": 28,
   "id": "49d75804",
   "metadata": {},
   "outputs": [
    {
     "data": {
      "application/vnd.plotly.v1+json": {
       "config": {
        "plotlyServerURL": "https://plot.ly"
       },
       "data": [
        {
         "alignmentgroup": "True",
         "hovertemplate": "Regiões=%{x}<br>Notas=%{text}<extra></extra>",
         "legendgroup": "",
         "marker": {
          "color": "#4C78A8",
          "pattern": {
           "shape": ""
          }
         },
         "name": "",
         "offsetgroup": "",
         "orientation": "v",
         "showlegend": false,
         "text": [
          251.02224137931037,
          257.5983870967743,
          261.0225862068965,
          268.64037037037036,
          271.2916949152543
         ],
         "textposition": "inside",
         "texttemplate": "%{text:.5s}",
         "type": "bar",
         "x": [
          "Norte",
          "Nordeste",
          "Centro-Oeste",
          "Sudeste",
          "Sul"
         ],
         "xaxis": "x",
         "y": [
          251.02224137931037,
          257.5983870967743,
          261.0225862068965,
          268.64037037037036,
          271.2916949152543
         ],
         "yaxis": "y"
        }
       ],
       "layout": {
        "barmode": "relative",
        "legend": {
         "tracegroupgap": 0
        },
        "margin": {
         "t": 60
        },
        "template": {
         "data": {
          "pie": [
           {
            "automargin": true,
            "type": "pie"
           }
          ],
          "scatter": [
           {
            "line": {
             "width": 3
            },
            "marker": {
             "size": 9
            },
            "type": "scatter"
           }
          ],
          "scatter3d": [
           {
            "line": {
             "width": 3
            },
            "marker": {
             "size": 9
            },
            "type": "scatter3d"
           }
          ],
          "scattergeo": [
           {
            "line": {
             "width": 3
            },
            "marker": {
             "size": 9
            },
            "type": "scattergeo"
           }
          ],
          "scattergl": [
           {
            "line": {
             "width": 3
            },
            "marker": {
             "size": 9
            },
            "type": "scattergl"
           }
          ],
          "scatterpolar": [
           {
            "line": {
             "width": 3
            },
            "marker": {
             "size": 9
            },
            "type": "scatterpolar"
           }
          ],
          "scatterpolargl": [
           {
            "line": {
             "width": 3
            },
            "marker": {
             "size": 9
            },
            "type": "scatterpolargl"
           }
          ],
          "scatterternary": [
           {
            "line": {
             "width": 3
            },
            "marker": {
             "size": 9
            },
            "type": "scatterternary"
           }
          ],
          "table": [
           {
            "cells": {
             "height": 30
            },
            "header": {
             "height": 36
            },
            "type": "table"
           }
          ]
         },
         "layout": {
          "font": {
           "size": 18
          },
          "xaxis": {
           "title": {
            "standoff": 15
           }
          },
          "yaxis": {
           "title": {
            "standoff": 15
           }
          }
         }
        },
        "title": {
         "text": "Médias de Língua portuguesa, 9° ano em 2019",
         "x": 0.5,
         "y": 0.95
        },
        "xaxis": {
         "anchor": "y",
         "domain": [
          0,
          1
         ],
         "title": {
          "text": "Regiões"
         }
        },
        "yaxis": {
         "anchor": "x",
         "domain": [
          0,
          1
         ],
         "title": {
          "text": "Notas"
         }
        }
       }
      },
      "text/html": [
       "<div>                            <div id=\"6a4b39b4-01e3-4156-bf54-f5f46d3db6ab\" class=\"plotly-graph-div\" style=\"height:525px; width:100%;\"></div>            <script type=\"text/javascript\">                require([\"plotly\"], function(Plotly) {                    window.PLOTLYENV=window.PLOTLYENV || {};                                    if (document.getElementById(\"6a4b39b4-01e3-4156-bf54-f5f46d3db6ab\")) {                    Plotly.newPlot(                        \"6a4b39b4-01e3-4156-bf54-f5f46d3db6ab\",                        [{\"alignmentgroup\":\"True\",\"hovertemplate\":\"Regi\\u00f5es=%{x}<br>Notas=%{text}<extra></extra>\",\"legendgroup\":\"\",\"marker\":{\"color\":\"#4C78A8\",\"pattern\":{\"shape\":\"\"}},\"name\":\"\",\"offsetgroup\":\"\",\"orientation\":\"v\",\"showlegend\":false,\"text\":[251.02224137931037,257.5983870967743,261.0225862068965,268.64037037037036,271.2916949152543],\"textposition\":\"inside\",\"x\":[\"Norte\",\"Nordeste\",\"Centro-Oeste\",\"Sudeste\",\"Sul\"],\"xaxis\":\"x\",\"y\":[251.02224137931037,257.5983870967743,261.0225862068965,268.64037037037036,271.2916949152543],\"yaxis\":\"y\",\"type\":\"bar\",\"texttemplate\":\"%{text:.5s}\"}],                        {\"template\":{\"data\":{\"pie\":[{\"automargin\":true,\"type\":\"pie\"}],\"scatter3d\":[{\"line\":{\"width\":3},\"marker\":{\"size\":9},\"type\":\"scatter3d\"}],\"scattergeo\":[{\"line\":{\"width\":3},\"marker\":{\"size\":9},\"type\":\"scattergeo\"}],\"scattergl\":[{\"line\":{\"width\":3},\"marker\":{\"size\":9},\"type\":\"scattergl\"}],\"scatterpolargl\":[{\"line\":{\"width\":3},\"marker\":{\"size\":9},\"type\":\"scatterpolargl\"}],\"scatterpolar\":[{\"line\":{\"width\":3},\"marker\":{\"size\":9},\"type\":\"scatterpolar\"}],\"scatter\":[{\"line\":{\"width\":3},\"marker\":{\"size\":9},\"type\":\"scatter\"}],\"scatterternary\":[{\"line\":{\"width\":3},\"marker\":{\"size\":9},\"type\":\"scatterternary\"}],\"table\":[{\"cells\":{\"height\":30},\"header\":{\"height\":36},\"type\":\"table\"}]},\"layout\":{\"font\":{\"size\":18},\"xaxis\":{\"title\":{\"standoff\":15}},\"yaxis\":{\"title\":{\"standoff\":15}}}},\"xaxis\":{\"anchor\":\"y\",\"domain\":[0.0,1.0],\"title\":{\"text\":\"Regi\\u00f5es\"}},\"yaxis\":{\"anchor\":\"x\",\"domain\":[0.0,1.0],\"title\":{\"text\":\"Notas\"}},\"legend\":{\"tracegroupgap\":0},\"margin\":{\"t\":60},\"barmode\":\"relative\",\"title\":{\"text\":\"M\\u00e9dias de L\\u00edngua portuguesa, 9\\u00b0 ano em 2019\",\"y\":0.95,\"x\":0.5}},                        {\"responsive\": true}                    ).then(function(){\n",
       "                            \n",
       "var gd = document.getElementById('6a4b39b4-01e3-4156-bf54-f5f46d3db6ab');\n",
       "var x = new MutationObserver(function (mutations, observer) {{\n",
       "        var display = window.getComputedStyle(gd).display;\n",
       "        if (!display || display === 'none') {{\n",
       "            console.log([gd, 'removed!']);\n",
       "            Plotly.purge(gd);\n",
       "            observer.disconnect();\n",
       "        }}\n",
       "}});\n",
       "\n",
       "// Listen for the removal of the full notebook cells\n",
       "var notebookContainer = gd.closest('#notebook-container');\n",
       "if (notebookContainer) {{\n",
       "    x.observe(notebookContainer, {childList: true});\n",
       "}}\n",
       "\n",
       "// Listen for the clearing of the current output cell\n",
       "var outputEl = gd.closest('.output');\n",
       "if (outputEl) {{\n",
       "    x.observe(outputEl, {childList: true});\n",
       "}}\n",
       "\n",
       "                        })                };                });            </script>        </div>"
      ]
     },
     "metadata": {},
     "output_type": "display_data"
    }
   ],
   "source": [
    "df_teste = df_regioes['MEDIA_9_LP'].reset_index().sort_values(by= 'MEDIA_9_LP')\n",
    "fig1 = px.bar(df_teste, x = 'NO_REGIAO', y = 'MEDIA_9_LP',\n",
    "             labels={'NO_REGIAO': 'Regiões', 'MEDIA_9_LP': 'Notas'},\n",
    "             color_discrete_sequence=px.colors.qualitative.T10, template='presentation', text='MEDIA_9_LP')\n",
    "fig1.update_traces(textposition='inside',texttemplate='%{text:.5s}')\n",
    "fig1.update_layout(title={'text' : 'Médias de Língua portuguesa, 9° ano em 2019', 'y': 0.95, 'x': 0.5})\n",
    "fig1.show()"
   ]
  },
  {
   "cell_type": "code",
   "execution_count": 29,
   "id": "a471b468",
   "metadata": {},
   "outputs": [
    {
     "data": {
      "application/vnd.plotly.v1+json": {
       "config": {
        "plotlyServerURL": "https://plot.ly"
       },
       "data": [
        {
         "alignmentgroup": "True",
         "hovertemplate": "Regiões=%{x}<br>Notas=%{text}<extra></extra>",
         "legendgroup": "",
         "marker": {
          "color": "#4C78A8",
          "pattern": {
           "shape": ""
          }
         },
         "name": "",
         "offsetgroup": "",
         "orientation": "v",
         "showlegend": false,
         "text": [
          252.03482758620686,
          261.55887096774194,
          265.99620689655166,
          273.9048148148148,
          278.25762711864417
         ],
         "textposition": "inside",
         "texttemplate": "%{text:.5s}",
         "type": "bar",
         "x": [
          "Norte",
          "Nordeste",
          "Centro-Oeste",
          "Sudeste",
          "Sul"
         ],
         "xaxis": "x",
         "y": [
          252.03482758620686,
          261.55887096774194,
          265.99620689655166,
          273.9048148148148,
          278.25762711864417
         ],
         "yaxis": "y"
        }
       ],
       "layout": {
        "barmode": "relative",
        "legend": {
         "tracegroupgap": 0
        },
        "margin": {
         "t": 60
        },
        "template": {
         "data": {
          "pie": [
           {
            "automargin": true,
            "type": "pie"
           }
          ],
          "scatter": [
           {
            "line": {
             "width": 3
            },
            "marker": {
             "size": 9
            },
            "type": "scatter"
           }
          ],
          "scatter3d": [
           {
            "line": {
             "width": 3
            },
            "marker": {
             "size": 9
            },
            "type": "scatter3d"
           }
          ],
          "scattergeo": [
           {
            "line": {
             "width": 3
            },
            "marker": {
             "size": 9
            },
            "type": "scattergeo"
           }
          ],
          "scattergl": [
           {
            "line": {
             "width": 3
            },
            "marker": {
             "size": 9
            },
            "type": "scattergl"
           }
          ],
          "scatterpolar": [
           {
            "line": {
             "width": 3
            },
            "marker": {
             "size": 9
            },
            "type": "scatterpolar"
           }
          ],
          "scatterpolargl": [
           {
            "line": {
             "width": 3
            },
            "marker": {
             "size": 9
            },
            "type": "scatterpolargl"
           }
          ],
          "scatterternary": [
           {
            "line": {
             "width": 3
            },
            "marker": {
             "size": 9
            },
            "type": "scatterternary"
           }
          ],
          "table": [
           {
            "cells": {
             "height": 30
            },
            "header": {
             "height": 36
            },
            "type": "table"
           }
          ]
         },
         "layout": {
          "font": {
           "size": 18
          },
          "xaxis": {
           "title": {
            "standoff": 15
           }
          },
          "yaxis": {
           "title": {
            "standoff": 15
           }
          }
         }
        },
        "title": {
         "text": "Médias de Matemática, 9° ano em 2019",
         "x": 0.5,
         "y": 0.95
        },
        "xaxis": {
         "anchor": "y",
         "domain": [
          0,
          1
         ],
         "title": {
          "text": "Regiões"
         }
        },
        "yaxis": {
         "anchor": "x",
         "domain": [
          0,
          1
         ],
         "title": {
          "text": "Notas"
         }
        }
       }
      },
      "text/html": [
       "<div>                            <div id=\"b2e0f3bd-bf58-4049-811a-d9cb651c54e4\" class=\"plotly-graph-div\" style=\"height:525px; width:100%;\"></div>            <script type=\"text/javascript\">                require([\"plotly\"], function(Plotly) {                    window.PLOTLYENV=window.PLOTLYENV || {};                                    if (document.getElementById(\"b2e0f3bd-bf58-4049-811a-d9cb651c54e4\")) {                    Plotly.newPlot(                        \"b2e0f3bd-bf58-4049-811a-d9cb651c54e4\",                        [{\"alignmentgroup\":\"True\",\"hovertemplate\":\"Regi\\u00f5es=%{x}<br>Notas=%{text}<extra></extra>\",\"legendgroup\":\"\",\"marker\":{\"color\":\"#4C78A8\",\"pattern\":{\"shape\":\"\"}},\"name\":\"\",\"offsetgroup\":\"\",\"orientation\":\"v\",\"showlegend\":false,\"text\":[252.03482758620686,261.55887096774194,265.99620689655166,273.9048148148148,278.25762711864417],\"textposition\":\"inside\",\"x\":[\"Norte\",\"Nordeste\",\"Centro-Oeste\",\"Sudeste\",\"Sul\"],\"xaxis\":\"x\",\"y\":[252.03482758620686,261.55887096774194,265.99620689655166,273.9048148148148,278.25762711864417],\"yaxis\":\"y\",\"type\":\"bar\",\"texttemplate\":\"%{text:.5s}\"}],                        {\"template\":{\"data\":{\"pie\":[{\"automargin\":true,\"type\":\"pie\"}],\"scatter3d\":[{\"line\":{\"width\":3},\"marker\":{\"size\":9},\"type\":\"scatter3d\"}],\"scattergeo\":[{\"line\":{\"width\":3},\"marker\":{\"size\":9},\"type\":\"scattergeo\"}],\"scattergl\":[{\"line\":{\"width\":3},\"marker\":{\"size\":9},\"type\":\"scattergl\"}],\"scatterpolargl\":[{\"line\":{\"width\":3},\"marker\":{\"size\":9},\"type\":\"scatterpolargl\"}],\"scatterpolar\":[{\"line\":{\"width\":3},\"marker\":{\"size\":9},\"type\":\"scatterpolar\"}],\"scatter\":[{\"line\":{\"width\":3},\"marker\":{\"size\":9},\"type\":\"scatter\"}],\"scatterternary\":[{\"line\":{\"width\":3},\"marker\":{\"size\":9},\"type\":\"scatterternary\"}],\"table\":[{\"cells\":{\"height\":30},\"header\":{\"height\":36},\"type\":\"table\"}]},\"layout\":{\"font\":{\"size\":18},\"xaxis\":{\"title\":{\"standoff\":15}},\"yaxis\":{\"title\":{\"standoff\":15}}}},\"xaxis\":{\"anchor\":\"y\",\"domain\":[0.0,1.0],\"title\":{\"text\":\"Regi\\u00f5es\"}},\"yaxis\":{\"anchor\":\"x\",\"domain\":[0.0,1.0],\"title\":{\"text\":\"Notas\"}},\"legend\":{\"tracegroupgap\":0},\"margin\":{\"t\":60},\"barmode\":\"relative\",\"title\":{\"text\":\"M\\u00e9dias de Matem\\u00e1tica, 9\\u00b0 ano em 2019\",\"y\":0.95,\"x\":0.5}},                        {\"responsive\": true}                    ).then(function(){\n",
       "                            \n",
       "var gd = document.getElementById('b2e0f3bd-bf58-4049-811a-d9cb651c54e4');\n",
       "var x = new MutationObserver(function (mutations, observer) {{\n",
       "        var display = window.getComputedStyle(gd).display;\n",
       "        if (!display || display === 'none') {{\n",
       "            console.log([gd, 'removed!']);\n",
       "            Plotly.purge(gd);\n",
       "            observer.disconnect();\n",
       "        }}\n",
       "}});\n",
       "\n",
       "// Listen for the removal of the full notebook cells\n",
       "var notebookContainer = gd.closest('#notebook-container');\n",
       "if (notebookContainer) {{\n",
       "    x.observe(notebookContainer, {childList: true});\n",
       "}}\n",
       "\n",
       "// Listen for the clearing of the current output cell\n",
       "var outputEl = gd.closest('.output');\n",
       "if (outputEl) {{\n",
       "    x.observe(outputEl, {childList: true});\n",
       "}}\n",
       "\n",
       "                        })                };                });            </script>        </div>"
      ]
     },
     "metadata": {},
     "output_type": "display_data"
    }
   ],
   "source": [
    "df_teste = df_regioes['MEDIA_9_MT'].reset_index().sort_values(by= 'MEDIA_9_MT')\n",
    "fig2 = px.bar(df_teste, x = 'NO_REGIAO', y = 'MEDIA_9_MT',\n",
    "             labels={'NO_REGIAO': 'Regiões', 'MEDIA_9_MT': 'Notas'},\n",
    "             color_discrete_sequence=px.colors.qualitative.T10, template='presentation', text='MEDIA_9_MT')\n",
    "fig2.update_traces(textposition='inside',texttemplate='%{text:.5s}')\n",
    "fig2.update_layout(title={'text' : 'Médias de Matemática, 9° ano em 2019', 'y': 0.95, 'x': 0.5})\n",
    "fig2.show()"
   ]
  },
  {
   "cell_type": "code",
   "execution_count": 30,
   "id": "8c461459",
   "metadata": {},
   "outputs": [
    {
     "data": {
      "application/vnd.plotly.v1+json": {
       "config": {
        "plotlyServerURL": "https://plot.ly"
       },
       "data": [
        {
         "alignmentgroup": "True",
         "hovertemplate": "Regiões=%{x}<br>Notas=%{text}<extra></extra>",
         "legendgroup": "",
         "marker": {
          "color": "#4C78A8",
          "pattern": {
           "shape": ""
          }
         },
         "name": "",
         "offsetgroup": "",
         "orientation": "v",
         "showlegend": false,
         "text": [
          245.7331034482758,
          251.46903225806452,
          251.89706896551726,
          258.3930508474577,
          258.98592592592604
         ],
         "textposition": "inside",
         "texttemplate": "%{text:.5s}",
         "type": "bar",
         "x": [
          "Norte",
          "Nordeste",
          "Centro-Oeste",
          "Sul",
          "Sudeste"
         ],
         "xaxis": "x",
         "y": [
          245.7331034482758,
          251.46903225806452,
          251.89706896551726,
          258.3930508474577,
          258.98592592592604
         ],
         "yaxis": "y"
        }
       ],
       "layout": {
        "barmode": "relative",
        "legend": {
         "tracegroupgap": 0
        },
        "margin": {
         "t": 60
        },
        "template": {
         "data": {
          "pie": [
           {
            "automargin": true,
            "type": "pie"
           }
          ],
          "scatter": [
           {
            "line": {
             "width": 3
            },
            "marker": {
             "size": 9
            },
            "type": "scatter"
           }
          ],
          "scatter3d": [
           {
            "line": {
             "width": 3
            },
            "marker": {
             "size": 9
            },
            "type": "scatter3d"
           }
          ],
          "scattergeo": [
           {
            "line": {
             "width": 3
            },
            "marker": {
             "size": 9
            },
            "type": "scattergeo"
           }
          ],
          "scattergl": [
           {
            "line": {
             "width": 3
            },
            "marker": {
             "size": 9
            },
            "type": "scattergl"
           }
          ],
          "scatterpolar": [
           {
            "line": {
             "width": 3
            },
            "marker": {
             "size": 9
            },
            "type": "scatterpolar"
           }
          ],
          "scatterpolargl": [
           {
            "line": {
             "width": 3
            },
            "marker": {
             "size": 9
            },
            "type": "scatterpolargl"
           }
          ],
          "scatterternary": [
           {
            "line": {
             "width": 3
            },
            "marker": {
             "size": 9
            },
            "type": "scatterternary"
           }
          ],
          "table": [
           {
            "cells": {
             "height": 30
            },
            "header": {
             "height": 36
            },
            "type": "table"
           }
          ]
         },
         "layout": {
          "font": {
           "size": 18
          },
          "xaxis": {
           "title": {
            "standoff": 15
           }
          },
          "yaxis": {
           "title": {
            "standoff": 15
           }
          }
         }
        },
        "title": {
         "text": "Médias de Ciências Humanas, 9° ano em 2019",
         "x": 0.5,
         "y": 0.95
        },
        "xaxis": {
         "anchor": "y",
         "domain": [
          0,
          1
         ],
         "title": {
          "text": "Regiões"
         }
        },
        "yaxis": {
         "anchor": "x",
         "domain": [
          0,
          1
         ],
         "title": {
          "text": "Notas"
         }
        }
       }
      },
      "text/html": [
       "<div>                            <div id=\"b5a2f46a-b011-4b8b-821e-cd038888347f\" class=\"plotly-graph-div\" style=\"height:525px; width:100%;\"></div>            <script type=\"text/javascript\">                require([\"plotly\"], function(Plotly) {                    window.PLOTLYENV=window.PLOTLYENV || {};                                    if (document.getElementById(\"b5a2f46a-b011-4b8b-821e-cd038888347f\")) {                    Plotly.newPlot(                        \"b5a2f46a-b011-4b8b-821e-cd038888347f\",                        [{\"alignmentgroup\":\"True\",\"hovertemplate\":\"Regi\\u00f5es=%{x}<br>Notas=%{text}<extra></extra>\",\"legendgroup\":\"\",\"marker\":{\"color\":\"#4C78A8\",\"pattern\":{\"shape\":\"\"}},\"name\":\"\",\"offsetgroup\":\"\",\"orientation\":\"v\",\"showlegend\":false,\"text\":[245.7331034482758,251.46903225806452,251.89706896551726,258.3930508474577,258.98592592592604],\"textposition\":\"inside\",\"x\":[\"Norte\",\"Nordeste\",\"Centro-Oeste\",\"Sul\",\"Sudeste\"],\"xaxis\":\"x\",\"y\":[245.7331034482758,251.46903225806452,251.89706896551726,258.3930508474577,258.98592592592604],\"yaxis\":\"y\",\"type\":\"bar\",\"texttemplate\":\"%{text:.5s}\"}],                        {\"template\":{\"data\":{\"pie\":[{\"automargin\":true,\"type\":\"pie\"}],\"scatter3d\":[{\"line\":{\"width\":3},\"marker\":{\"size\":9},\"type\":\"scatter3d\"}],\"scattergeo\":[{\"line\":{\"width\":3},\"marker\":{\"size\":9},\"type\":\"scattergeo\"}],\"scattergl\":[{\"line\":{\"width\":3},\"marker\":{\"size\":9},\"type\":\"scattergl\"}],\"scatterpolargl\":[{\"line\":{\"width\":3},\"marker\":{\"size\":9},\"type\":\"scatterpolargl\"}],\"scatterpolar\":[{\"line\":{\"width\":3},\"marker\":{\"size\":9},\"type\":\"scatterpolar\"}],\"scatter\":[{\"line\":{\"width\":3},\"marker\":{\"size\":9},\"type\":\"scatter\"}],\"scatterternary\":[{\"line\":{\"width\":3},\"marker\":{\"size\":9},\"type\":\"scatterternary\"}],\"table\":[{\"cells\":{\"height\":30},\"header\":{\"height\":36},\"type\":\"table\"}]},\"layout\":{\"font\":{\"size\":18},\"xaxis\":{\"title\":{\"standoff\":15}},\"yaxis\":{\"title\":{\"standoff\":15}}}},\"xaxis\":{\"anchor\":\"y\",\"domain\":[0.0,1.0],\"title\":{\"text\":\"Regi\\u00f5es\"}},\"yaxis\":{\"anchor\":\"x\",\"domain\":[0.0,1.0],\"title\":{\"text\":\"Notas\"}},\"legend\":{\"tracegroupgap\":0},\"margin\":{\"t\":60},\"barmode\":\"relative\",\"title\":{\"text\":\"M\\u00e9dias de Ci\\u00eancias Humanas, 9\\u00b0 ano em 2019\",\"y\":0.95,\"x\":0.5}},                        {\"responsive\": true}                    ).then(function(){\n",
       "                            \n",
       "var gd = document.getElementById('b5a2f46a-b011-4b8b-821e-cd038888347f');\n",
       "var x = new MutationObserver(function (mutations, observer) {{\n",
       "        var display = window.getComputedStyle(gd).display;\n",
       "        if (!display || display === 'none') {{\n",
       "            console.log([gd, 'removed!']);\n",
       "            Plotly.purge(gd);\n",
       "            observer.disconnect();\n",
       "        }}\n",
       "}});\n",
       "\n",
       "// Listen for the removal of the full notebook cells\n",
       "var notebookContainer = gd.closest('#notebook-container');\n",
       "if (notebookContainer) {{\n",
       "    x.observe(notebookContainer, {childList: true});\n",
       "}}\n",
       "\n",
       "// Listen for the clearing of the current output cell\n",
       "var outputEl = gd.closest('.output');\n",
       "if (outputEl) {{\n",
       "    x.observe(outputEl, {childList: true});\n",
       "}}\n",
       "\n",
       "                        })                };                });            </script>        </div>"
      ]
     },
     "metadata": {},
     "output_type": "display_data"
    }
   ],
   "source": [
    "df_teste = df_regioes['MEDIA_9_CH'].reset_index().sort_values(by= 'MEDIA_9_CH')\n",
    "fig2 = px.bar(df_teste, x = 'NO_REGIAO', y = 'MEDIA_9_CH',\n",
    "             labels={'NO_REGIAO': 'Regiões', 'MEDIA_9_CH': 'Notas'},\n",
    "             color_discrete_sequence=px.colors.qualitative.T10, template='presentation', text='MEDIA_9_CH')\n",
    "fig2.update_traces(textposition='inside',texttemplate='%{text:.5s}')\n",
    "fig2.update_layout(title={'text' : 'Médias de Ciências Humanas, 9° ano em 2019', 'y': 0.95, 'x': 0.5})\n",
    "fig2.show()"
   ]
  },
  {
   "cell_type": "code",
   "execution_count": 31,
   "id": "6d6cdc20",
   "metadata": {},
   "outputs": [
    {
     "data": {
      "application/vnd.plotly.v1+json": {
       "config": {
        "plotlyServerURL": "https://plot.ly"
       },
       "data": [
        {
         "alignmentgroup": "True",
         "hovertemplate": "Regiões=%{x}<br>Notas=%{text}<extra></extra>",
         "legendgroup": "",
         "marker": {
          "color": "#4C78A8",
          "pattern": {
           "shape": ""
          }
         },
         "name": "",
         "offsetgroup": "",
         "orientation": "v",
         "showlegend": false,
         "text": [
          233.61483870967746,
          241.02293103448272,
          255.3981034482759,
          259.18537037037044,
          262.94203389830506
         ],
         "textposition": "inside",
         "texttemplate": "%{text:.5s}",
         "type": "bar",
         "x": [
          "Nordeste",
          "Norte",
          "Centro-Oeste",
          "Sudeste",
          "Sul"
         ],
         "xaxis": "x",
         "y": [
          233.61483870967746,
          241.02293103448272,
          255.3981034482759,
          259.18537037037044,
          262.94203389830506
         ],
         "yaxis": "y"
        }
       ],
       "layout": {
        "barmode": "relative",
        "legend": {
         "tracegroupgap": 0
        },
        "margin": {
         "t": 60
        },
        "template": {
         "data": {
          "pie": [
           {
            "automargin": true,
            "type": "pie"
           }
          ],
          "scatter": [
           {
            "line": {
             "width": 3
            },
            "marker": {
             "size": 9
            },
            "type": "scatter"
           }
          ],
          "scatter3d": [
           {
            "line": {
             "width": 3
            },
            "marker": {
             "size": 9
            },
            "type": "scatter3d"
           }
          ],
          "scattergeo": [
           {
            "line": {
             "width": 3
            },
            "marker": {
             "size": 9
            },
            "type": "scattergeo"
           }
          ],
          "scattergl": [
           {
            "line": {
             "width": 3
            },
            "marker": {
             "size": 9
            },
            "type": "scattergl"
           }
          ],
          "scatterpolar": [
           {
            "line": {
             "width": 3
            },
            "marker": {
             "size": 9
            },
            "type": "scatterpolar"
           }
          ],
          "scatterpolargl": [
           {
            "line": {
             "width": 3
            },
            "marker": {
             "size": 9
            },
            "type": "scatterpolargl"
           }
          ],
          "scatterternary": [
           {
            "line": {
             "width": 3
            },
            "marker": {
             "size": 9
            },
            "type": "scatterternary"
           }
          ],
          "table": [
           {
            "cells": {
             "height": 30
            },
            "header": {
             "height": 36
            },
            "type": "table"
           }
          ]
         },
         "layout": {
          "font": {
           "size": 18
          },
          "xaxis": {
           "title": {
            "standoff": 15
           }
          },
          "yaxis": {
           "title": {
            "standoff": 15
           }
          }
         }
        },
        "title": {
         "text": "Médias de Ciências das Natureza, 9° ano em 2019",
         "x": 0.5,
         "y": 0.95
        },
        "xaxis": {
         "anchor": "y",
         "domain": [
          0,
          1
         ],
         "title": {
          "text": "Regiões"
         }
        },
        "yaxis": {
         "anchor": "x",
         "domain": [
          0,
          1
         ],
         "title": {
          "text": "Notas"
         }
        }
       }
      },
      "text/html": [
       "<div>                            <div id=\"d64d1276-2780-4b7d-8a5b-0dfb9587dc87\" class=\"plotly-graph-div\" style=\"height:525px; width:100%;\"></div>            <script type=\"text/javascript\">                require([\"plotly\"], function(Plotly) {                    window.PLOTLYENV=window.PLOTLYENV || {};                                    if (document.getElementById(\"d64d1276-2780-4b7d-8a5b-0dfb9587dc87\")) {                    Plotly.newPlot(                        \"d64d1276-2780-4b7d-8a5b-0dfb9587dc87\",                        [{\"alignmentgroup\":\"True\",\"hovertemplate\":\"Regi\\u00f5es=%{x}<br>Notas=%{text}<extra></extra>\",\"legendgroup\":\"\",\"marker\":{\"color\":\"#4C78A8\",\"pattern\":{\"shape\":\"\"}},\"name\":\"\",\"offsetgroup\":\"\",\"orientation\":\"v\",\"showlegend\":false,\"text\":[233.61483870967746,241.02293103448272,255.3981034482759,259.18537037037044,262.94203389830506],\"textposition\":\"inside\",\"x\":[\"Nordeste\",\"Norte\",\"Centro-Oeste\",\"Sudeste\",\"Sul\"],\"xaxis\":\"x\",\"y\":[233.61483870967746,241.02293103448272,255.3981034482759,259.18537037037044,262.94203389830506],\"yaxis\":\"y\",\"type\":\"bar\",\"texttemplate\":\"%{text:.5s}\"}],                        {\"template\":{\"data\":{\"pie\":[{\"automargin\":true,\"type\":\"pie\"}],\"scatter3d\":[{\"line\":{\"width\":3},\"marker\":{\"size\":9},\"type\":\"scatter3d\"}],\"scattergeo\":[{\"line\":{\"width\":3},\"marker\":{\"size\":9},\"type\":\"scattergeo\"}],\"scattergl\":[{\"line\":{\"width\":3},\"marker\":{\"size\":9},\"type\":\"scattergl\"}],\"scatterpolargl\":[{\"line\":{\"width\":3},\"marker\":{\"size\":9},\"type\":\"scatterpolargl\"}],\"scatterpolar\":[{\"line\":{\"width\":3},\"marker\":{\"size\":9},\"type\":\"scatterpolar\"}],\"scatter\":[{\"line\":{\"width\":3},\"marker\":{\"size\":9},\"type\":\"scatter\"}],\"scatterternary\":[{\"line\":{\"width\":3},\"marker\":{\"size\":9},\"type\":\"scatterternary\"}],\"table\":[{\"cells\":{\"height\":30},\"header\":{\"height\":36},\"type\":\"table\"}]},\"layout\":{\"font\":{\"size\":18},\"xaxis\":{\"title\":{\"standoff\":15}},\"yaxis\":{\"title\":{\"standoff\":15}}}},\"xaxis\":{\"anchor\":\"y\",\"domain\":[0.0,1.0],\"title\":{\"text\":\"Regi\\u00f5es\"}},\"yaxis\":{\"anchor\":\"x\",\"domain\":[0.0,1.0],\"title\":{\"text\":\"Notas\"}},\"legend\":{\"tracegroupgap\":0},\"margin\":{\"t\":60},\"barmode\":\"relative\",\"title\":{\"text\":\"M\\u00e9dias de Ci\\u00eancias das Natureza, 9\\u00b0 ano em 2019\",\"y\":0.95,\"x\":0.5}},                        {\"responsive\": true}                    ).then(function(){\n",
       "                            \n",
       "var gd = document.getElementById('d64d1276-2780-4b7d-8a5b-0dfb9587dc87');\n",
       "var x = new MutationObserver(function (mutations, observer) {{\n",
       "        var display = window.getComputedStyle(gd).display;\n",
       "        if (!display || display === 'none') {{\n",
       "            console.log([gd, 'removed!']);\n",
       "            Plotly.purge(gd);\n",
       "            observer.disconnect();\n",
       "        }}\n",
       "}});\n",
       "\n",
       "// Listen for the removal of the full notebook cells\n",
       "var notebookContainer = gd.closest('#notebook-container');\n",
       "if (notebookContainer) {{\n",
       "    x.observe(notebookContainer, {childList: true});\n",
       "}}\n",
       "\n",
       "// Listen for the clearing of the current output cell\n",
       "var outputEl = gd.closest('.output');\n",
       "if (outputEl) {{\n",
       "    x.observe(outputEl, {childList: true});\n",
       "}}\n",
       "\n",
       "                        })                };                });            </script>        </div>"
      ]
     },
     "metadata": {},
     "output_type": "display_data"
    }
   ],
   "source": [
    "df_teste = df_regioes['MEDIA_9_CN'].reset_index().sort_values(by= 'MEDIA_9_CN')\n",
    "fig2 = px.bar(df_teste, x = 'NO_REGIAO', y = 'MEDIA_9_CN',\n",
    "             labels={'NO_REGIAO': 'Regiões', 'MEDIA_9_CN': 'Notas'},\n",
    "             color_discrete_sequence=px.colors.qualitative.T10, template='presentation', text='MEDIA_9_CN')\n",
    "fig2.update_traces(textposition='inside',texttemplate='%{text:.5s}')\n",
    "fig2.update_layout(title={'text' : 'Médias de Ciências das Natureza, 9° ano em 2019', 'y': 0.95, 'x': 0.5})\n",
    "fig2.show()"
   ]
  },
  {
   "cell_type": "code",
   "execution_count": 32,
   "id": "7f368659",
   "metadata": {},
   "outputs": [
    {
     "data": {
      "application/vnd.plotly.v1+json": {
       "config": {
        "plotlyServerURL": "https://plot.ly"
       },
       "data": [
        {
         "alignmentgroup": "True",
         "hovertemplate": "variable=MEDIA_9_LP<br>Regiões=%{x}<br>Notas=%{y}<extra></extra>",
         "legendgroup": "MEDIA_9_LP",
         "marker": {
          "color": "#4C78A8",
          "pattern": {
           "shape": ""
          }
         },
         "name": "MEDIA_9_LP",
         "offsetgroup": "MEDIA_9_LP",
         "orientation": "v",
         "showlegend": true,
         "textposition": "auto",
         "type": "bar",
         "x": [
          "Centro-Oeste",
          "Nordeste",
          "Norte",
          "Sudeste",
          "Sul"
         ],
         "xaxis": "x",
         "y": [
          261.0225862068965,
          257.5983870967743,
          251.02224137931037,
          268.64037037037036,
          271.2916949152543
         ],
         "yaxis": "y"
        },
        {
         "alignmentgroup": "True",
         "hovertemplate": "variable=MEDIA_9_MT<br>Regiões=%{x}<br>Notas=%{y}<extra></extra>",
         "legendgroup": "MEDIA_9_MT",
         "marker": {
          "color": "#F58518",
          "pattern": {
           "shape": ""
          }
         },
         "name": "MEDIA_9_MT",
         "offsetgroup": "MEDIA_9_MT",
         "orientation": "v",
         "showlegend": true,
         "textposition": "auto",
         "type": "bar",
         "x": [
          "Centro-Oeste",
          "Nordeste",
          "Norte",
          "Sudeste",
          "Sul"
         ],
         "xaxis": "x",
         "y": [
          265.99620689655166,
          261.55887096774194,
          252.03482758620686,
          273.9048148148148,
          278.25762711864417
         ],
         "yaxis": "y"
        },
        {
         "alignmentgroup": "True",
         "hovertemplate": "variable=MEDIA_9_CH<br>Regiões=%{x}<br>Notas=%{y}<extra></extra>",
         "legendgroup": "MEDIA_9_CH",
         "marker": {
          "color": "#E45756",
          "pattern": {
           "shape": ""
          }
         },
         "name": "MEDIA_9_CH",
         "offsetgroup": "MEDIA_9_CH",
         "orientation": "v",
         "showlegend": true,
         "textposition": "auto",
         "type": "bar",
         "x": [
          "Centro-Oeste",
          "Nordeste",
          "Norte",
          "Sudeste",
          "Sul"
         ],
         "xaxis": "x",
         "y": [
          251.89706896551726,
          251.46903225806452,
          245.7331034482758,
          258.98592592592604,
          258.3930508474577
         ],
         "yaxis": "y"
        },
        {
         "alignmentgroup": "True",
         "hovertemplate": "variable=MEDIA_9_CN<br>Regiões=%{x}<br>Notas=%{y}<extra></extra>",
         "legendgroup": "MEDIA_9_CN",
         "marker": {
          "color": "#72B7B2",
          "pattern": {
           "shape": ""
          }
         },
         "name": "MEDIA_9_CN",
         "offsetgroup": "MEDIA_9_CN",
         "orientation": "v",
         "showlegend": true,
         "textposition": "auto",
         "type": "bar",
         "x": [
          "Centro-Oeste",
          "Nordeste",
          "Norte",
          "Sudeste",
          "Sul"
         ],
         "xaxis": "x",
         "y": [
          255.3981034482759,
          233.61483870967746,
          241.02293103448272,
          259.18537037037044,
          262.94203389830506
         ],
         "yaxis": "y"
        }
       ],
       "layout": {
        "barmode": "group",
        "legend": {
         "title": {
          "text": "variable"
         },
         "tracegroupgap": 0
        },
        "margin": {
         "t": 60
        },
        "template": {
         "data": {
          "pie": [
           {
            "automargin": true,
            "type": "pie"
           }
          ],
          "scatter": [
           {
            "line": {
             "width": 3
            },
            "marker": {
             "size": 9
            },
            "type": "scatter"
           }
          ],
          "scatter3d": [
           {
            "line": {
             "width": 3
            },
            "marker": {
             "size": 9
            },
            "type": "scatter3d"
           }
          ],
          "scattergeo": [
           {
            "line": {
             "width": 3
            },
            "marker": {
             "size": 9
            },
            "type": "scattergeo"
           }
          ],
          "scattergl": [
           {
            "line": {
             "width": 3
            },
            "marker": {
             "size": 9
            },
            "type": "scattergl"
           }
          ],
          "scatterpolar": [
           {
            "line": {
             "width": 3
            },
            "marker": {
             "size": 9
            },
            "type": "scatterpolar"
           }
          ],
          "scatterpolargl": [
           {
            "line": {
             "width": 3
            },
            "marker": {
             "size": 9
            },
            "type": "scatterpolargl"
           }
          ],
          "scatterternary": [
           {
            "line": {
             "width": 3
            },
            "marker": {
             "size": 9
            },
            "type": "scatterternary"
           }
          ],
          "table": [
           {
            "cells": {
             "height": 30
            },
            "header": {
             "height": 36
            },
            "type": "table"
           }
          ]
         },
         "layout": {
          "font": {
           "size": 18
          },
          "xaxis": {
           "title": {
            "standoff": 15
           }
          },
          "yaxis": {
           "title": {
            "standoff": 15
           }
          }
         }
        },
        "title": {
         "text": "Médias de notas do 9° ano em 2019",
         "x": 0.5,
         "y": 0.95
        },
        "xaxis": {
         "anchor": "y",
         "domain": [
          0,
          1
         ],
         "title": {
          "text": "Regiões"
         }
        },
        "yaxis": {
         "anchor": "x",
         "domain": [
          0,
          1
         ],
         "title": {
          "text": "Notas"
         }
        }
       }
      },
      "text/html": [
       "<div>                            <div id=\"39383f1d-cac9-44d9-8a4b-38ac4a3297d0\" class=\"plotly-graph-div\" style=\"height:525px; width:100%;\"></div>            <script type=\"text/javascript\">                require([\"plotly\"], function(Plotly) {                    window.PLOTLYENV=window.PLOTLYENV || {};                                    if (document.getElementById(\"39383f1d-cac9-44d9-8a4b-38ac4a3297d0\")) {                    Plotly.newPlot(                        \"39383f1d-cac9-44d9-8a4b-38ac4a3297d0\",                        [{\"alignmentgroup\":\"True\",\"hovertemplate\":\"variable=MEDIA_9_LP<br>Regi\\u00f5es=%{x}<br>Notas=%{y}<extra></extra>\",\"legendgroup\":\"MEDIA_9_LP\",\"marker\":{\"color\":\"#4C78A8\",\"pattern\":{\"shape\":\"\"}},\"name\":\"MEDIA_9_LP\",\"offsetgroup\":\"MEDIA_9_LP\",\"orientation\":\"v\",\"showlegend\":true,\"textposition\":\"auto\",\"x\":[\"Centro-Oeste\",\"Nordeste\",\"Norte\",\"Sudeste\",\"Sul\"],\"xaxis\":\"x\",\"y\":[261.0225862068965,257.5983870967743,251.02224137931037,268.64037037037036,271.2916949152543],\"yaxis\":\"y\",\"type\":\"bar\"},{\"alignmentgroup\":\"True\",\"hovertemplate\":\"variable=MEDIA_9_MT<br>Regi\\u00f5es=%{x}<br>Notas=%{y}<extra></extra>\",\"legendgroup\":\"MEDIA_9_MT\",\"marker\":{\"color\":\"#F58518\",\"pattern\":{\"shape\":\"\"}},\"name\":\"MEDIA_9_MT\",\"offsetgroup\":\"MEDIA_9_MT\",\"orientation\":\"v\",\"showlegend\":true,\"textposition\":\"auto\",\"x\":[\"Centro-Oeste\",\"Nordeste\",\"Norte\",\"Sudeste\",\"Sul\"],\"xaxis\":\"x\",\"y\":[265.99620689655166,261.55887096774194,252.03482758620686,273.9048148148148,278.25762711864417],\"yaxis\":\"y\",\"type\":\"bar\"},{\"alignmentgroup\":\"True\",\"hovertemplate\":\"variable=MEDIA_9_CH<br>Regi\\u00f5es=%{x}<br>Notas=%{y}<extra></extra>\",\"legendgroup\":\"MEDIA_9_CH\",\"marker\":{\"color\":\"#E45756\",\"pattern\":{\"shape\":\"\"}},\"name\":\"MEDIA_9_CH\",\"offsetgroup\":\"MEDIA_9_CH\",\"orientation\":\"v\",\"showlegend\":true,\"textposition\":\"auto\",\"x\":[\"Centro-Oeste\",\"Nordeste\",\"Norte\",\"Sudeste\",\"Sul\"],\"xaxis\":\"x\",\"y\":[251.89706896551726,251.46903225806452,245.7331034482758,258.98592592592604,258.3930508474577],\"yaxis\":\"y\",\"type\":\"bar\"},{\"alignmentgroup\":\"True\",\"hovertemplate\":\"variable=MEDIA_9_CN<br>Regi\\u00f5es=%{x}<br>Notas=%{y}<extra></extra>\",\"legendgroup\":\"MEDIA_9_CN\",\"marker\":{\"color\":\"#72B7B2\",\"pattern\":{\"shape\":\"\"}},\"name\":\"MEDIA_9_CN\",\"offsetgroup\":\"MEDIA_9_CN\",\"orientation\":\"v\",\"showlegend\":true,\"textposition\":\"auto\",\"x\":[\"Centro-Oeste\",\"Nordeste\",\"Norte\",\"Sudeste\",\"Sul\"],\"xaxis\":\"x\",\"y\":[255.3981034482759,233.61483870967746,241.02293103448272,259.18537037037044,262.94203389830506],\"yaxis\":\"y\",\"type\":\"bar\"}],                        {\"template\":{\"data\":{\"pie\":[{\"automargin\":true,\"type\":\"pie\"}],\"scatter3d\":[{\"line\":{\"width\":3},\"marker\":{\"size\":9},\"type\":\"scatter3d\"}],\"scattergeo\":[{\"line\":{\"width\":3},\"marker\":{\"size\":9},\"type\":\"scattergeo\"}],\"scattergl\":[{\"line\":{\"width\":3},\"marker\":{\"size\":9},\"type\":\"scattergl\"}],\"scatterpolargl\":[{\"line\":{\"width\":3},\"marker\":{\"size\":9},\"type\":\"scatterpolargl\"}],\"scatterpolar\":[{\"line\":{\"width\":3},\"marker\":{\"size\":9},\"type\":\"scatterpolar\"}],\"scatter\":[{\"line\":{\"width\":3},\"marker\":{\"size\":9},\"type\":\"scatter\"}],\"scatterternary\":[{\"line\":{\"width\":3},\"marker\":{\"size\":9},\"type\":\"scatterternary\"}],\"table\":[{\"cells\":{\"height\":30},\"header\":{\"height\":36},\"type\":\"table\"}]},\"layout\":{\"font\":{\"size\":18},\"xaxis\":{\"title\":{\"standoff\":15}},\"yaxis\":{\"title\":{\"standoff\":15}}}},\"xaxis\":{\"anchor\":\"y\",\"domain\":[0.0,1.0],\"title\":{\"text\":\"Regi\\u00f5es\"}},\"yaxis\":{\"anchor\":\"x\",\"domain\":[0.0,1.0],\"title\":{\"text\":\"Notas\"}},\"legend\":{\"title\":{\"text\":\"variable\"},\"tracegroupgap\":0},\"margin\":{\"t\":60},\"barmode\":\"group\",\"title\":{\"text\":\"M\\u00e9dias de notas do 9\\u00b0 ano em 2019\",\"y\":0.95,\"x\":0.5}},                        {\"responsive\": true}                    ).then(function(){\n",
       "                            \n",
       "var gd = document.getElementById('39383f1d-cac9-44d9-8a4b-38ac4a3297d0');\n",
       "var x = new MutationObserver(function (mutations, observer) {{\n",
       "        var display = window.getComputedStyle(gd).display;\n",
       "        if (!display || display === 'none') {{\n",
       "            console.log([gd, 'removed!']);\n",
       "            Plotly.purge(gd);\n",
       "            observer.disconnect();\n",
       "        }}\n",
       "}});\n",
       "\n",
       "// Listen for the removal of the full notebook cells\n",
       "var notebookContainer = gd.closest('#notebook-container');\n",
       "if (notebookContainer) {{\n",
       "    x.observe(notebookContainer, {childList: true});\n",
       "}}\n",
       "\n",
       "// Listen for the clearing of the current output cell\n",
       "var outputEl = gd.closest('.output');\n",
       "if (outputEl) {{\n",
       "    x.observe(outputEl, {childList: true});\n",
       "}}\n",
       "\n",
       "                        })                };                });            </script>        </div>"
      ]
     },
     "metadata": {},
     "output_type": "display_data"
    }
   ],
   "source": [
    "df_teste = df_regioes['MEDIA_9_MT'].reset_index().sort_values(by= 'MEDIA_9_MT')\n",
    "fig2 = px.bar(df_regioes, x = df_regioes.index, y = ['MEDIA_9_LP', 'MEDIA_9_MT', 'MEDIA_9_CH', 'MEDIA_9_CN'], \n",
    "            barmode = 'group', labels={'NO_REGIAO': 'Regiões', 'value': 'Notas'},\n",
    "            color_discrete_sequence=px.colors.qualitative.T10, template='presentation')\n",
    "fig2.update_layout(title={'text' : 'Médias de notas do 9° ano em 2019', 'y': 0.95, 'x': 0.5})\n",
    "fig2.show()"
   ]
  },
  {
   "cell_type": "code",
   "execution_count": null,
   "id": "8fafc75a",
   "metadata": {},
   "outputs": [],
   "source": []
  },
  {
   "cell_type": "code",
   "execution_count": null,
   "id": "b9c425d4",
   "metadata": {},
   "outputs": [],
   "source": []
  }
 ],
 "metadata": {
  "kernelspec": {
   "display_name": "Python 3",
   "language": "python",
   "name": "python3"
  },
  "language_info": {
   "codemirror_mode": {
    "name": "ipython",
    "version": 3
   },
   "file_extension": ".py",
   "mimetype": "text/x-python",
   "name": "python",
   "nbconvert_exporter": "python",
   "pygments_lexer": "ipython3",
   "version": "3.8.8"
  }
 },
 "nbformat": 4,
 "nbformat_minor": 5
}
